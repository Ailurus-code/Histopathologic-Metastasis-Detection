{
 "cells": [
  {
   "cell_type": "code",
   "execution_count": 1,
   "id": "4a59e100",
   "metadata": {
    "_cell_guid": "b1076dfc-b9ad-4769-8c92-a6c4dae69d19",
    "_uuid": "8f2839f25d086af736a60e9eeb907d3b93b6e0e5",
    "execution": {
     "iopub.execute_input": "2022-05-09T22:21:32.612497Z",
     "iopub.status.busy": "2022-05-09T22:21:32.611861Z",
     "iopub.status.idle": "2022-05-09T22:21:34.362664Z",
     "shell.execute_reply": "2022-05-09T22:21:34.361942Z"
    },
    "papermill": {
     "duration": 1.770113,
     "end_time": "2022-05-09T22:21:34.365189",
     "exception": false,
     "start_time": "2022-05-09T22:21:32.595076",
     "status": "completed"
    },
    "tags": []
   },
   "outputs": [],
   "source": [
    "import numpy as np\n",
    "import pandas as pd\n",
    "import warnings\n",
    "import random\n",
    "import h5py\n",
    "import torch\n",
    "import matplotlib.pyplot as plt\n",
    "import torch.nn as nn\n",
    "\n",
    "from matplotlib import pyplot\n",
    "from IPython.display import display\n",
    "from torch.utils.data import DataLoader, Dataset\n",
    "from torch.utils import data\n",
    "from PIL import Image, ImageDraw\n",
    "\n",
    "\n",
    "warnings.filterwarnings('ignore')\n",
    "\n",
    "%matplotlib inline\n",
    "\n",
    "SEED = 21\n",
    "random.seed(SEED)\n",
    "np.random.seed(SEED)"
   ]
  },
  {
   "cell_type": "code",
   "execution_count": 2,
   "id": "5dbcede9",
   "metadata": {
    "execution": {
     "iopub.execute_input": "2022-05-09T22:21:34.394505Z",
     "iopub.status.busy": "2022-05-09T22:21:34.394255Z",
     "iopub.status.idle": "2022-05-09T22:21:34.597580Z",
     "shell.execute_reply": "2022-05-09T22:21:34.596699Z"
    },
    "papermill": {
     "duration": 0.220259,
     "end_time": "2022-05-09T22:21:34.599718",
     "exception": false,
     "start_time": "2022-05-09T22:21:34.379459",
     "status": "completed"
    },
    "tags": []
   },
   "outputs": [
    {
     "name": "stdout",
     "output_type": "stream",
     "text": [
      "cuda\n"
     ]
    }
   ],
   "source": [
    "from torchvision import transforms\n",
    "\n",
    "device = (\"cuda\" if torch.cuda.is_available() else \"cpu\")\n",
    "learning_rate = 0.01\n",
    "image_size = 96\n",
    "\n",
    "train_transforms = transforms.Compose([\n",
    "    transforms.RandomChoice([\n",
    "        transforms.ColorJitter(brightness=0.5),\n",
    "        transforms.ColorJitter(contrast=0.5), \n",
    "        transforms.ColorJitter(saturation=0.5),\n",
    "        transforms.ColorJitter(hue=0.5),\n",
    "        transforms.ColorJitter(brightness=0.1, contrast=0.1, saturation=0.1, hue=0.1), \n",
    "        transforms.ColorJitter(brightness=0.3, contrast=0.3, saturation=0.3, hue=0.3), \n",
    "        transforms.ColorJitter(brightness=0.5, contrast=0.5, saturation=0.5, hue=0.5), \n",
    "    ]),\n",
    "    transforms.RandomChoice([\n",
    "        transforms.RandomRotation((0, 0)),\n",
    "        transforms.RandomHorizontalFlip(p=1),\n",
    "        transforms.RandomVerticalFlip(p=1),\n",
    "        transforms.RandomRotation((90,90)),\n",
    "        transforms.RandomRotation((180,180)),\n",
    "        transforms.RandomRotation((270,270)),\n",
    "        transforms.Compose([\n",
    "            transforms.RandomHorizontalFlip(p=1),\n",
    "            transforms.RandomRotation((90,90)),\n",
    "        ]),\n",
    "        transforms.Compose([\n",
    "            transforms.RandomHorizontalFlip(p=1),\n",
    "            transforms.RandomRotation((270,270)),\n",
    "        ]) \n",
    "    ]),\n",
    "    transforms.Resize(image_size), \n",
    "    transforms.CenterCrop(image_size),\n",
    "    transforms.ToTensor(),\n",
    "    transforms.Normalize(\n",
    "        mean=[0.485, 0.456, 0.406],\n",
    "        std=[0.229, 0.224, 0.225]\n",
    "    )\n",
    "])\n",
    "\n",
    "test_transforms = transforms.Compose([\n",
    "    transforms.ToTensor(),\n",
    "    transforms.Normalize((0.5, 0.5, 0.5), (0.5, 0.5, 0.5))\n",
    "])\n",
    "\n",
    "print(device)"
   ]
  },
  {
   "cell_type": "code",
   "execution_count": 3,
   "id": "fc268a8c",
   "metadata": {
    "execution": {
     "iopub.execute_input": "2022-05-09T22:21:34.630460Z",
     "iopub.status.busy": "2022-05-09T22:21:34.630230Z",
     "iopub.status.idle": "2022-05-09T22:21:34.635090Z",
     "shell.execute_reply": "2022-05-09T22:21:34.634358Z"
    },
    "papermill": {
     "duration": 0.023358,
     "end_time": "2022-05-09T22:21:34.637484",
     "exception": false,
     "start_time": "2022-05-09T22:21:34.614126",
     "status": "completed"
    },
    "tags": []
   },
   "outputs": [
    {
     "name": "stdout",
     "output_type": "stream",
     "text": [
      "cuDNN auto-tuner is enabled\n"
     ]
    }
   ],
   "source": [
    "if device == \"cuda\":\n",
    "    torch.backends.cudnn.benchmark = True\n",
    "    print(\"cuDNN auto-tuner is enabled\")\n",
    "else:\n",
    "    torch.backends.cudnn.benchmark = False\n",
    "    print(\"cuDNN auto-tuner is disabled\")"
   ]
  },
  {
   "cell_type": "code",
   "execution_count": 4,
   "id": "26e934d4",
   "metadata": {
    "execution": {
     "iopub.execute_input": "2022-05-09T22:21:34.668177Z",
     "iopub.status.busy": "2022-05-09T22:21:34.667897Z",
     "iopub.status.idle": "2022-05-09T22:21:34.674202Z",
     "shell.execute_reply": "2022-05-09T22:21:34.673497Z"
    },
    "papermill": {
     "duration": 0.023756,
     "end_time": "2022-05-09T22:21:34.675788",
     "exception": false,
     "start_time": "2022-05-09T22:21:34.652032",
     "status": "completed"
    },
    "tags": []
   },
   "outputs": [],
   "source": [
    "class PCamDataset(Dataset):\n",
    "    def __init__(self, path, transforms):\n",
    "        self.path = path\n",
    "        self.X = h5py.File(self.path +'_x.h5', 'r')['x']\n",
    "        self.y = h5py.File(self.path +'_y.h5', 'r')['y']\n",
    "        self.transforms = transforms\n",
    "\n",
    "    def __getitem__(self, index):\n",
    "        return (self.transforms(Image.fromarray(self.X[index,:,:,:])), self.y[index])\n",
    "\n",
    "    def __len__(self):\n",
    "        assert len(self.X) == len(self.y)\n",
    "        return len(self.X)"
   ]
  },
  {
   "cell_type": "code",
   "execution_count": 5,
   "id": "7d8c0420",
   "metadata": {
    "execution": {
     "iopub.execute_input": "2022-05-09T22:21:34.705749Z",
     "iopub.status.busy": "2022-05-09T22:21:34.705527Z",
     "iopub.status.idle": "2022-05-09T22:21:34.807959Z",
     "shell.execute_reply": "2022-05-09T22:21:34.806921Z"
    },
    "papermill": {
     "duration": 0.119493,
     "end_time": "2022-05-09T22:21:34.809856",
     "exception": false,
     "start_time": "2022-05-09T22:21:34.690363",
     "status": "completed"
    },
    "tags": []
   },
   "outputs": [
    {
     "name": "stdout",
     "output_type": "stream",
     "text": [
      "262144 32768 32768\n"
     ]
    }
   ],
   "source": [
    "data_dir = \"../input/patchcamelyon/\"\n",
    "\n",
    "train = PCamDataset(data_dir + \"camelyonpatch_level_2_split_train\", train_transforms)\n",
    "valid = PCamDataset(data_dir + \"camelyonpatch_level_2_split_valid\", test_transforms)\n",
    "test = PCamDataset(data_dir + \"camelyonpatch_level_2_split_test\", test_transforms)\n",
    "\n",
    "print(len(train), len(valid), len(test))"
   ]
  },
  {
   "cell_type": "code",
   "execution_count": 6,
   "id": "aa7dafa7",
   "metadata": {
    "execution": {
     "iopub.execute_input": "2022-05-09T22:21:34.840950Z",
     "iopub.status.busy": "2022-05-09T22:21:34.840258Z",
     "iopub.status.idle": "2022-05-09T22:21:34.845472Z",
     "shell.execute_reply": "2022-05-09T22:21:34.844747Z"
    },
    "papermill": {
     "duration": 0.022677,
     "end_time": "2022-05-09T22:21:34.847255",
     "exception": false,
     "start_time": "2022-05-09T22:21:34.824578",
     "status": "completed"
    },
    "tags": []
   },
   "outputs": [],
   "source": [
    "train_loader = DataLoader(train, batch_size=8, shuffle=True, num_workers=0)\n",
    "valid_loader = DataLoader(valid, batch_size=8, shuffle=False, num_workers=0)\n",
    "test_loader = DataLoader(test, batch_size=8, shuffle=False, num_workers=0)"
   ]
  },
  {
   "cell_type": "code",
   "execution_count": 7,
   "id": "ac006bb4",
   "metadata": {
    "execution": {
     "iopub.execute_input": "2022-05-09T22:21:34.878662Z",
     "iopub.status.busy": "2022-05-09T22:21:34.878407Z",
     "iopub.status.idle": "2022-05-09T22:21:34.892342Z",
     "shell.execute_reply": "2022-05-09T22:21:34.891617Z"
    },
    "papermill": {
     "duration": 0.03169,
     "end_time": "2022-05-09T22:21:34.894036",
     "exception": false,
     "start_time": "2022-05-09T22:21:34.862346",
     "status": "completed"
    },
    "tags": []
   },
   "outputs": [],
   "source": [
    "import torch.nn.functional as F\n",
    "\n",
    "class PCamNet(nn.Module):\n",
    "    def __init__(self):\n",
    "        super().__init__()\n",
    "        self.conv1 = nn.Conv2d(in_channels=3, out_channels=32, kernel_size=3, padding=2)\n",
    "        self.bn1 = nn.BatchNorm2d(32)\n",
    "        \n",
    "        self.conv2 = nn.Conv2d(in_channels=32, out_channels=64, kernel_size=3, padding=2)\n",
    "        self.bn2 = nn.BatchNorm2d(64)\n",
    "        \n",
    "        self.conv3 = nn.Conv2d(in_channels=64, out_channels=128, kernel_size=3, padding=2)\n",
    "        self.bn3 = nn.BatchNorm2d(128)\n",
    "        \n",
    "        self.conv4 = nn.Conv2d(in_channels=128, out_channels=256, kernel_size=3, padding=2)\n",
    "        self.bn4 = nn.BatchNorm2d(256)\n",
    "        \n",
    "        self.conv5 = nn.Conv2d(in_channels=256, out_channels=512, kernel_size=3, padding=2)\n",
    "        self.bn5 = nn.BatchNorm2d(512)\n",
    "        \n",
    "        self.maxpool = nn.MaxPool2d(kernel_size=2, stride=2)\n",
    "        self.avg = nn.AvgPool2d(4)\n",
    "        self.dropout = nn.Dropout(0.4)\n",
    "        \n",
    "        self.fc = nn.Linear(512, 1)\n",
    "        \n",
    "    def forward(self, x):\n",
    "        x = self.dropout(self.maxpool(F.leaky_relu(self.bn1(self.conv1(x)))))\n",
    "        x = self.dropout(self.maxpool(F.leaky_relu(self.bn2(self.conv2(x)))))\n",
    "        x = self.dropout(self.maxpool(F.leaky_relu(self.bn3(self.conv3(x)))))\n",
    "        x = self.dropout(self.maxpool(F.leaky_relu(self.bn4(self.conv4(x)))))\n",
    "        x = self.dropout(self.maxpool(F.leaky_relu(self.bn5(self.conv5(x)))))\n",
    "        x = self.avg(x)\n",
    "        x = x.view(-1, 512)\n",
    "        x = self.fc(x)\n",
    "        return x"
   ]
  },
  {
   "cell_type": "code",
   "execution_count": 8,
   "id": "779ea4e0",
   "metadata": {
    "execution": {
     "iopub.execute_input": "2022-05-09T22:21:34.924573Z",
     "iopub.status.busy": "2022-05-09T22:21:34.924018Z",
     "iopub.status.idle": "2022-05-09T22:21:34.971752Z",
     "shell.execute_reply": "2022-05-09T22:21:34.971023Z"
    },
    "papermill": {
     "duration": 0.06513,
     "end_time": "2022-05-09T22:21:34.973854",
     "exception": false,
     "start_time": "2022-05-09T22:21:34.908724",
     "status": "completed"
    },
    "tags": []
   },
   "outputs": [],
   "source": [
    "model = PCamNet()"
   ]
  },
  {
   "cell_type": "code",
   "execution_count": 9,
   "id": "7ea74765",
   "metadata": {
    "execution": {
     "iopub.execute_input": "2022-05-09T22:21:35.030339Z",
     "iopub.status.busy": "2022-05-09T22:21:35.030010Z",
     "iopub.status.idle": "2022-05-09T22:21:35.038147Z",
     "shell.execute_reply": "2022-05-09T22:21:35.037153Z"
    },
    "papermill": {
     "duration": 0.047908,
     "end_time": "2022-05-09T22:21:35.042682",
     "exception": false,
     "start_time": "2022-05-09T22:21:34.994774",
     "status": "completed"
    },
    "tags": []
   },
   "outputs": [],
   "source": [
    "import torch.optim as optim\n",
    "\n",
    "optimizer = optim.Adam(model.parameters(), lr=learning_rate)\n",
    "criterion = nn.BCEWithLogitsLoss()"
   ]
  },
  {
   "cell_type": "code",
   "execution_count": 10,
   "id": "f0cd4645",
   "metadata": {
    "execution": {
     "iopub.execute_input": "2022-05-09T22:21:35.099548Z",
     "iopub.status.busy": "2022-05-09T22:21:35.099216Z",
     "iopub.status.idle": "2022-05-09T22:21:35.105425Z",
     "shell.execute_reply": "2022-05-09T22:21:35.104226Z"
    },
    "papermill": {
     "duration": 0.038983,
     "end_time": "2022-05-09T22:21:35.111561",
     "exception": false,
     "start_time": "2022-05-09T22:21:35.072578",
     "status": "completed"
    },
    "tags": []
   },
   "outputs": [
    {
     "name": "stdout",
     "output_type": "stream",
     "text": [
      "Total number of model parameters = 1571073\n"
     ]
    }
   ],
   "source": [
    "print(f\"Total number of model parameters = {sum(p.numel() for p in model.parameters() if p.requires_grad)}\")"
   ]
  },
  {
   "cell_type": "code",
   "execution_count": 11,
   "id": "9a9d0d43",
   "metadata": {
    "execution": {
     "iopub.execute_input": "2022-05-09T22:21:35.176187Z",
     "iopub.status.busy": "2022-05-09T22:21:35.175887Z",
     "iopub.status.idle": "2022-05-10T02:00:26.158752Z",
     "shell.execute_reply": "2022-05-10T02:00:26.157383Z"
    },
    "papermill": {
     "duration": 13131.025013,
     "end_time": "2022-05-10T02:00:26.161106",
     "exception": false,
     "start_time": "2022-05-09T22:21:35.136093",
     "status": "completed"
    },
    "tags": []
   },
   "outputs": [
    {
     "name": "stdout",
     "output_type": "stream",
     "text": [
      "Train Epoch: 1, Loss: 0.6452541947364807, Accuracy: 0.7664\n",
      "Valid Loss: 0.6436971426010132, Valid Accuracy: 0.7717\n",
      "ROC-AUC score = 0.8529746585313163\n",
      "Model saved successfully\n",
      "\n",
      "Train Epoch: 2, Loss: 0.6241298913955688, Accuracy: 0.8053\n",
      "Valid Loss: 0.6371985673904419, Valid Accuracy: 0.7916\n",
      "ROC-AUC score = 0.8794277342827626\n",
      "Model saved successfully\n",
      "\n",
      "Train Epoch: 3, Loss: 0.6151560544967651, Accuracy: 0.8212\n",
      "Valid Loss: 0.6348189115524292, Valid Accuracy: 0.8026\n",
      "ROC-AUC score = 0.8889826481085115\n",
      "Model saved successfully\n",
      "\n",
      "Train Epoch: 4, Loss: 0.6082815527915955, Accuracy: 0.8324\n",
      "Valid Loss: 0.6137687563896179, Valid Accuracy: 0.8082\n",
      "ROC-AUC score = 0.8940610500564288\n",
      "Model saved successfully\n",
      "\n",
      "Train Epoch: 5, Loss: 0.6037184596061707, Accuracy: 0.841\n",
      "Valid Loss: 0.6102094650268555, Valid Accuracy: 0.8129\n",
      "ROC-AUC score = 0.8999493680469983\n",
      "Model saved successfully\n",
      "\n",
      "Train Epoch: 6, Loss: 0.6003173589706421, Accuracy: 0.8463\n",
      "Valid Loss: 0.6076214909553528, Valid Accuracy: 0.8229\n",
      "ROC-AUC score = 0.9032335233969344\n",
      "Model saved successfully\n",
      "\n",
      "Train Epoch: 7, Loss: 0.5979630947113037, Accuracy: 0.8509\n",
      "Valid Loss: 0.61128830909729, Valid Accuracy: 0.8213\n",
      "ROC-AUC score = 0.9015901753969098\n",
      "\n",
      "Train Epoch: 8, Loss: 0.5956774950027466, Accuracy: 0.854\n",
      "Valid Loss: 0.6161609292030334, Valid Accuracy: 0.8251\n",
      "ROC-AUC score = 0.9123910396843551\n",
      "Model saved successfully\n",
      "\n",
      "Train Epoch: 9, Loss: 0.5935600996017456, Accuracy: 0.8583\n",
      "Valid Loss: 0.600074827671051, Valid Accuracy: 0.8297\n",
      "ROC-AUC score = 0.9208738345526635\n",
      "Model saved successfully\n",
      "\n",
      "Train Epoch: 10, Loss: 0.5918243527412415, Accuracy: 0.8611\n",
      "Valid Loss: 0.6010006666183472, Valid Accuracy: 0.8246\n",
      "ROC-AUC score = 0.9140914908445829\n",
      "\n",
      "Train Epoch: 11, Loss: 0.5900090932846069, Accuracy: 0.8635\n",
      "Valid Loss: 0.5961454510688782, Valid Accuracy: 0.8344\n",
      "ROC-AUC score = 0.9213471386697376\n",
      "Model saved successfully\n",
      "\n",
      "Train Epoch: 12, Loss: 0.5888631939888, Accuracy: 0.8662\n",
      "Valid Loss: 0.5933444499969482, Valid Accuracy: 0.8435\n",
      "ROC-AUC score = 0.9223502912700755\n",
      "Model saved successfully\n",
      "\n",
      "Train Epoch: 13, Loss: 0.5871286988258362, Accuracy: 0.8687\n",
      "Valid Loss: 0.5941815376281738, Valid Accuracy: 0.8282\n",
      "ROC-AUC score = 0.9250176758653561\n",
      "Model saved successfully\n",
      "\n",
      "Train Epoch: 14, Loss: 0.5864651203155518, Accuracy: 0.8698\n",
      "Valid Loss: 0.592376708984375, Valid Accuracy: 0.8468\n",
      "ROC-AUC score = 0.9260253155816198\n",
      "Model saved successfully\n",
      "\n",
      "Train Epoch: 15, Loss: 0.5848842859268188, Accuracy: 0.8724\n",
      "Valid Loss: 0.6000710725784302, Valid Accuracy: 0.8462\n",
      "ROC-AUC score = 0.926000344939819\n",
      "\n",
      "Train Epoch: 16, Loss: 0.5845178365707397, Accuracy: 0.8732\n",
      "Valid Loss: 0.5924468040466309, Valid Accuracy: 0.8466\n",
      "ROC-AUC score = 0.9293122388245676\n",
      "Model saved successfully\n",
      "\n",
      "Train Epoch: 17, Loss: 0.5837317705154419, Accuracy: 0.8743\n",
      "Valid Loss: 0.5931068062782288, Valid Accuracy: 0.8351\n",
      "ROC-AUC score = 0.9208778839466122\n",
      "\n",
      "Train Epoch: 18, Loss: 0.5826994776725769, Accuracy: 0.8762\n",
      "Valid Loss: 0.5927225351333618, Valid Accuracy: 0.8541\n",
      "ROC-AUC score = 0.9316409942478825\n",
      "Model saved successfully\n",
      "\n",
      "Train Epoch: 19, Loss: 0.581838846206665, Accuracy: 0.8776\n",
      "Valid Loss: 0.5903993844985962, Valid Accuracy: 0.8526\n",
      "ROC-AUC score = 0.9295764943760306\n",
      "\n",
      "Train Epoch: 20, Loss: 0.5815659761428833, Accuracy: 0.8776\n",
      "Valid Loss: 0.5940335988998413, Valid Accuracy: 0.8517\n",
      "ROC-AUC score = 0.9323728728439524\n",
      "Model saved successfully\n",
      "\n",
      "CPU times: user 3h 22min 19s, sys: 14min 9s, total: 3h 36min 28s\n",
      "Wall time: 3h 38min 50s\n"
     ]
    }
   ],
   "source": [
    "%%time\n",
    "\n",
    "from sklearn.metrics import roc_auc_score\n",
    "\n",
    "epochs = 20\n",
    "train_loss_history = np.empty(0)\n",
    "train_accuracy_history = np.empty(0)\n",
    "valid_loss_history = np.empty(0)\n",
    "valid_accuracy_history = np.empty(0)\n",
    "best_roc_auc = 0\n",
    "\n",
    "model = model.to(device)\n",
    "\n",
    "model.train()\n",
    "for epoch in range(epochs):\n",
    "    preds_in_current_epoch = torch.empty(0, device=device)\n",
    "    labels_in_current_epoch = torch.empty(0, device=device)\n",
    "    for batch_idx, (data, target) in enumerate(train_loader):\n",
    "        data, target = data.to(device), target.to(device)\n",
    "        target = torch.reshape(target, (8, 1)).float()\n",
    "        optimizer.zero_grad()\n",
    "        out = model(data)\n",
    "        loss = criterion(out, target)\n",
    "        loss.backward()\n",
    "        optimizer.step()\n",
    "        preds_in_current_epoch = torch.cat((preds_in_current_epoch, torch.sigmoid(out)))\n",
    "        labels_in_current_epoch = torch.cat((labels_in_current_epoch, target))\n",
    "    \n",
    "    labels_in_current_epoch = torch.squeeze(labels_in_current_epoch)\n",
    "    total = len(labels_in_current_epoch)\n",
    "    preds_in_current_epoch = torch.squeeze(preds_in_current_epoch)\n",
    "    correct = ((preds_in_current_epoch > 0.5).float() == labels_in_current_epoch).sum().item()\n",
    "    loss = criterion(preds_in_current_epoch, labels_in_current_epoch)\n",
    "    accuracy = round(correct / total, 4)\n",
    "    \n",
    "    train_accuracy_history = np.append(train_accuracy_history, accuracy)\n",
    "    train_loss_history = np.append(train_loss_history, loss.cpu().detach().numpy())\n",
    "\n",
    "    print(f\"Train Epoch: {epoch + 1}, Loss: {loss}, Accuracy: {accuracy}\")\n",
    "    \n",
    "    valid_labels = (torch.squeeze(torch.as_tensor(valid.y))).to(device)\n",
    "\n",
    "    with torch.no_grad():\n",
    "        predictions = torch.Tensor().float().to(device)\n",
    "\n",
    "        for batch_idx, (data, target) in enumerate(valid_loader):\n",
    "            data, target = data.to(device), target.to(device)\n",
    "            target = torch.reshape(target, (8, 1)).float()\n",
    "            out = model(data)\n",
    "            predictions = torch.cat((predictions, torch.sigmoid(out)))\n",
    "\n",
    "        total = valid_labels.shape[0]\n",
    "        predictions = torch.squeeze(predictions)\n",
    "        correct = ((predictions > 0.5).float() == valid_labels).sum().item()\n",
    "        loss = criterion(predictions, valid_labels.float())\n",
    "        accuracy = round(correct / total, 4)\n",
    "                                    \n",
    "        valid_accuracy_history = np.append(valid_accuracy_history, accuracy)\n",
    "        valid_loss_history = np.append(valid_loss_history, loss.cpu().detach().numpy())\n",
    "\n",
    "        print(f\"Valid Loss: {loss}, Valid Accuracy: {accuracy}\")\n",
    "\n",
    "        current_roc_auc = roc_auc_score(valid_labels.cpu().detach().numpy(), predictions.cpu().detach().numpy())\n",
    "        print(f\"ROC-AUC score = {current_roc_auc}\")\n",
    "        if current_roc_auc > best_roc_auc:\n",
    "            torch.save(model.state_dict(), \"best_checkpoint.pth\")\n",
    "            print(\"Model saved successfully\\n\")\n",
    "            best_roc_auc = current_roc_auc\n",
    "        else:\n",
    "            print()\n",
    "\n",
    "model.eval()\n",
    "torch.save(model.state_dict(), \"checkpoint.pth\")"
   ]
  },
  {
   "cell_type": "code",
   "execution_count": 12,
   "id": "65fa708e",
   "metadata": {
    "execution": {
     "iopub.execute_input": "2022-05-10T02:00:26.218465Z",
     "iopub.status.busy": "2022-05-10T02:00:26.218252Z",
     "iopub.status.idle": "2022-05-10T02:01:03.646449Z",
     "shell.execute_reply": "2022-05-10T02:01:03.645611Z"
    },
    "papermill": {
     "duration": 37.487853,
     "end_time": "2022-05-10T02:01:03.677359",
     "exception": false,
     "start_time": "2022-05-10T02:00:26.189506",
     "status": "completed"
    },
    "tags": []
   },
   "outputs": [
    {
     "name": "stdout",
     "output_type": "stream",
     "text": [
      "Test Loss: 0.5987672805786133\n",
      "Test Accuracy: 0.78873\n",
      "              precision    recall  f1-score   support\n",
      "\n",
      "           +       0.71      0.99      0.82     16391\n",
      "           -       0.98      0.59      0.74     16377\n",
      "\n",
      "    accuracy                           0.79     32768\n",
      "   macro avg       0.84      0.79      0.78     32768\n",
      "weighted avg       0.84      0.79      0.78     32768\n",
      "\n",
      "ROC-AUC = 0.7886425522844681\n"
     ]
    }
   ],
   "source": [
    "from sklearn.metrics import classification_report\n",
    "\n",
    "classes = ['+', '-']\n",
    "test_labels = (torch.squeeze(torch.Tensor(test.y))).to(device)\n",
    "\n",
    "with torch.no_grad():\n",
    "    predictions = torch.empty(0, device=device)\n",
    "    \n",
    "    for batch_idx, (data, target) in enumerate(test_loader):\n",
    "        data, target = data.to(device), target.to(device)\n",
    "        target = torch.reshape(target, (8, 1)).float()\n",
    "        out = model(data)\n",
    "        loss = criterion(out, target)\n",
    "        predictions = torch.cat((predictions, torch.sigmoid(out)))\n",
    "                                \n",
    "    total = test_labels.shape[0]\n",
    "    predictions = torch.squeeze(predictions)\n",
    "    correct = ((predictions > 0.5).float() == test_labels).sum().item()\n",
    "    loss = criterion(predictions, test_labels)\n",
    "    accuracy = round(correct / total, 5)\n",
    "                                \n",
    "    print(f\"Test Loss: {loss}\\nTest Accuracy: {accuracy}\")\n",
    "    \n",
    "    predictions = predictions.cpu().detach().numpy()\n",
    "    for i in range(len(predictions)):\n",
    "        predictions[i] = 1.0 if predictions[i] > 0.5 else 0.0\n",
    "    \n",
    "    print(classification_report(test_labels.cpu().detach().numpy(), \n",
    "                                predictions, \n",
    "                                target_names=classes))\n",
    "    print(f\"ROC-AUC = {roc_auc_score(test_labels.cpu().detach().numpy(), predictions)}\")"
   ]
  },
  {
   "cell_type": "code",
   "execution_count": 13,
   "id": "1759c1fa",
   "metadata": {
    "execution": {
     "iopub.execute_input": "2022-05-10T02:01:03.741766Z",
     "iopub.status.busy": "2022-05-10T02:01:03.741536Z",
     "iopub.status.idle": "2022-05-10T02:01:03.979283Z",
     "shell.execute_reply": "2022-05-10T02:01:03.978664Z"
    },
    "papermill": {
     "duration": 0.271556,
     "end_time": "2022-05-10T02:01:03.981098",
     "exception": false,
     "start_time": "2022-05-10T02:01:03.709542",
     "status": "completed"
    },
    "tags": []
   },
   "outputs": [
    {
     "data": {
      "image/png": "[encoded data removed]",
      "text/plain": [
       "<Figure size 432x288 with 1 Axes>"
      ]
     },
     "metadata": {
      "needs_background": "light"
     },
     "output_type": "display_data"
    }
   ],
   "source": [
    "train_loss_idx = list(range(0, len(train_loss_history)))\n",
    "valid_loss_idx = list(range(0, len(valid_loss_history)))\n",
    "\n",
    "plt.plot(train_loss_idx, train_loss_history, label=\"train_loss\")\n",
    "plt.plot(valid_loss_idx, valid_loss_history, label=\"valid_loss\")\n",
    "\n",
    "plt.xlabel(\"Epoch\")\n",
    "plt.ylabel(\"Loss\")\n",
    "\n",
    "plt.title(\"Loss changing\")\n",
    "\n",
    "plt.legend()\n",
    "plt.show()"
   ]
  },
  {
   "cell_type": "code",
   "execution_count": 14,
   "id": "5a5b791f",
   "metadata": {
    "execution": {
     "iopub.execute_input": "2022-05-10T02:01:04.040210Z",
     "iopub.status.busy": "2022-05-10T02:01:04.039913Z",
     "iopub.status.idle": "2022-05-10T02:01:04.233981Z",
     "shell.execute_reply": "2022-05-10T02:01:04.233337Z"
    },
    "papermill": {
     "duration": 0.225155,
     "end_time": "2022-05-10T02:01:04.235744",
     "exception": false,
     "start_time": "2022-05-10T02:01:04.010589",
     "status": "completed"
    },
    "tags": []
   },
   "outputs": [
    {
     "data": {
      "image/png": "[encoded data removed]",
      "text/plain": [
       "<Figure size 432x288 with 1 Axes>"
      ]
     },
     "metadata": {
      "needs_background": "light"
     },
     "output_type": "display_data"
    }
   ],
   "source": [
    "train_accuracy_idx = list(range(0, len(train_accuracy_history)))\n",
    "valid_accuracy_idx = list(range(0, len(valid_accuracy_history)))\n",
    "\n",
    "plt.plot(train_accuracy_idx, train_accuracy_history, label=\"train_accuracy\")\n",
    "plt.plot(valid_accuracy_idx, valid_accuracy_history, label=\"valid_accuracy\")\n",
    "\n",
    "plt.xlabel(\"Epoch\")\n",
    "plt.ylabel(\"Accuracy\")\n",
    "\n",
    "plt.title(\"Accuracy changing\")\n",
    "\n",
    "plt.legend()\n",
    "plt.show()"
   ]
  },
  {
   "cell_type": "code",
   "execution_count": null,
   "id": "8873be6e",
   "metadata": {
    "papermill": {
     "duration": 0.029116,
     "end_time": "2022-05-10T02:01:04.294523",
     "exception": false,
     "start_time": "2022-05-10T02:01:04.265407",
     "status": "completed"
    },
    "tags": []
   },
   "outputs": [],
   "source": []
  }
 ],
 "metadata": {
  "kernelspec": {
   "display_name": "Python 3",
   "language": "python",
   "name": "python3"
  },
  "language_info": {
   "codemirror_mode": {
    "name": "ipython",
    "version": 3
   },
   "file_extension": ".py",
   "mimetype": "text/x-python",
   "name": "python",
   "nbconvert_exporter": "python",
   "pygments_lexer": "ipython3",
   "version": "3.7.12"
  },
  "papermill": {
   "default_parameters": {},
   "duration": 13182.459118,
   "end_time": "2022-05-10T02:01:06.862772",
   "environment_variables": {},
   "exception": null,
   "input_path": "__notebook__.ipynb",
   "output_path": "__notebook__.ipynb",
   "parameters": {},
   "start_time": "2022-05-09T22:21:24.403654",
   "version": "2.3.4"
  }
 },
 "nbformat": 4,
 "nbformat_minor": 5
}
