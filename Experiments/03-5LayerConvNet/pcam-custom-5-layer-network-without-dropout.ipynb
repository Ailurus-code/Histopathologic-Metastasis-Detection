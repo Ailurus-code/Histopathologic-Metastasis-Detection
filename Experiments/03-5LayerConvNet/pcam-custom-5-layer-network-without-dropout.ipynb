{
 "cells": [
  {
   "cell_type": "code",
   "execution_count": 1,
   "id": "8a8f708d",
   "metadata": {
    "_cell_guid": "b1076dfc-b9ad-4769-8c92-a6c4dae69d19",
    "_uuid": "8f2839f25d086af736a60e9eeb907d3b93b6e0e5",
    "execution": {
     "iopub.execute_input": "2022-05-14T08:34:16.770622Z",
     "iopub.status.busy": "2022-05-14T08:34:16.768561Z",
     "iopub.status.idle": "2022-05-14T08:34:18.666608Z",
     "shell.execute_reply": "2022-05-14T08:34:18.666052Z",
     "shell.execute_reply.started": "2022-05-11T09:13:06.555164Z"
    },
    "papermill": {
     "duration": 1.925621,
     "end_time": "2022-05-14T08:34:18.666786",
     "exception": false,
     "start_time": "2022-05-14T08:34:16.741165",
     "status": "completed"
    },
    "tags": []
   },
   "outputs": [],
   "source": [
    "import numpy as np\n",
    "import pandas as pd\n",
    "import warnings\n",
    "import random\n",
    "import h5py\n",
    "import torch\n",
    "import matplotlib.pyplot as plt\n",
    "import torch.nn as nn\n",
    "\n",
    "from matplotlib import pyplot\n",
    "from IPython.display import display\n",
    "from torch.utils.data import DataLoader, Dataset\n",
    "from torch.utils import data\n",
    "from PIL import Image, ImageDraw\n",
    "\n",
    "\n",
    "warnings.filterwarnings('ignore')\n",
    "\n",
    "%matplotlib inline\n",
    "\n",
    "SEED = 21\n",
    "random.seed(SEED)\n",
    "np.random.seed(SEED)"
   ]
  },
  {
   "cell_type": "code",
   "execution_count": 2,
   "id": "02819a0c",
   "metadata": {
    "execution": {
     "iopub.execute_input": "2022-05-14T08:34:18.704052Z",
     "iopub.status.busy": "2022-05-14T08:34:18.703409Z",
     "iopub.status.idle": "2022-05-14T08:34:18.945508Z",
     "shell.execute_reply": "2022-05-14T08:34:18.946079Z",
     "shell.execute_reply.started": "2022-05-08T22:17:47.11355Z"
    },
    "papermill": {
     "duration": 0.26598,
     "end_time": "2022-05-14T08:34:18.946277",
     "exception": false,
     "start_time": "2022-05-14T08:34:18.680297",
     "status": "completed"
    },
    "tags": []
   },
   "outputs": [
    {
     "name": "stdout",
     "output_type": "stream",
     "text": [
      "cuda\n"
     ]
    }
   ],
   "source": [
    "from torchvision import transforms\n",
    "\n",
    "device = (\"cuda\" if torch.cuda.is_available() else \"cpu\")\n",
    "learning_rate = 0.01\n",
    "image_size = 96\n",
    "\n",
    "train_transforms = transforms.Compose([\n",
    "    transforms.RandomChoice([\n",
    "        transforms.ColorJitter(brightness=0.5),\n",
    "        transforms.ColorJitter(contrast=0.5), \n",
    "        transforms.ColorJitter(saturation=0.5),\n",
    "        transforms.ColorJitter(hue=0.5),\n",
    "        transforms.ColorJitter(brightness=0.1, contrast=0.1, saturation=0.1, hue=0.1), \n",
    "        transforms.ColorJitter(brightness=0.3, contrast=0.3, saturation=0.3, hue=0.3), \n",
    "        transforms.ColorJitter(brightness=0.5, contrast=0.5, saturation=0.5, hue=0.5), \n",
    "    ]),\n",
    "    transforms.RandomChoice([\n",
    "        transforms.RandomRotation((0, 0)),\n",
    "        transforms.RandomHorizontalFlip(p=1),\n",
    "        transforms.RandomVerticalFlip(p=1),\n",
    "        transforms.RandomRotation((90,90)),\n",
    "        transforms.RandomRotation((180,180)),\n",
    "        transforms.RandomRotation((270,270)),\n",
    "        transforms.Compose([\n",
    "            transforms.RandomHorizontalFlip(p=1),\n",
    "            transforms.RandomRotation((90,90)),\n",
    "        ]),\n",
    "        transforms.Compose([\n",
    "            transforms.RandomHorizontalFlip(p=1),\n",
    "            transforms.RandomRotation((270,270)),\n",
    "        ]) \n",
    "    ]),\n",
    "    transforms.Resize(image_size), \n",
    "    transforms.CenterCrop(image_size),\n",
    "    transforms.ToTensor(),\n",
    "    transforms.Normalize(\n",
    "        mean=[0.485, 0.456, 0.406],\n",
    "        std=[0.229, 0.224, 0.225]\n",
    "    )\n",
    "])\n",
    "\n",
    "test_transforms = transforms.Compose([\n",
    "    transforms.ToTensor(),\n",
    "    transforms.Normalize((0.5, 0.5, 0.5), (0.5, 0.5, 0.5))\n",
    "])\n",
    "\n",
    "print(device)"
   ]
  },
  {
   "cell_type": "code",
   "execution_count": 3,
   "id": "29866202",
   "metadata": {
    "execution": {
     "iopub.execute_input": "2022-05-14T08:34:18.979303Z",
     "iopub.status.busy": "2022-05-14T08:34:18.978637Z",
     "iopub.status.idle": "2022-05-14T08:34:18.981763Z",
     "shell.execute_reply": "2022-05-14T08:34:18.981345Z",
     "shell.execute_reply.started": "2022-05-08T22:17:47.338145Z"
    },
    "papermill": {
     "duration": 0.021919,
     "end_time": "2022-05-14T08:34:18.981875",
     "exception": false,
     "start_time": "2022-05-14T08:34:18.959956",
     "status": "completed"
    },
    "tags": []
   },
   "outputs": [],
   "source": [
    "class PCamDataset(Dataset):\n",
    "    def __init__(self, path, transforms):\n",
    "        self.path = path\n",
    "        self.X = h5py.File(self.path +'_x.h5', 'r')['x']\n",
    "        self.y = h5py.File(self.path +'_y.h5', 'r')['y']\n",
    "        self.transforms = transforms\n",
    "\n",
    "    def __getitem__(self, index):\n",
    "        return (self.transforms(Image.fromarray(self.X[index,:,:,:])), self.y[index])\n",
    "\n",
    "    def __len__(self):\n",
    "        assert len(self.X) == len(self.y)\n",
    "        return len(self.X)"
   ]
  },
  {
   "cell_type": "code",
   "execution_count": 4,
   "id": "31ae5425",
   "metadata": {
    "execution": {
     "iopub.execute_input": "2022-05-14T08:34:19.039034Z",
     "iopub.status.busy": "2022-05-14T08:34:19.038484Z",
     "iopub.status.idle": "2022-05-14T08:34:19.075117Z",
     "shell.execute_reply": "2022-05-14T08:34:19.075564Z",
     "shell.execute_reply.started": "2022-05-08T22:17:47.350616Z"
    },
    "papermill": {
     "duration": 0.079697,
     "end_time": "2022-05-14T08:34:19.075714",
     "exception": false,
     "start_time": "2022-05-14T08:34:18.996017",
     "status": "completed"
    },
    "tags": []
   },
   "outputs": [
    {
     "name": "stdout",
     "output_type": "stream",
     "text": [
      "262144 32768 32768\n"
     ]
    }
   ],
   "source": [
    "data_dir = \"../input/patchcamelyon/\"\n",
    "\n",
    "train = PCamDataset(data_dir + \"camelyonpatch_level_2_split_train\", train_transforms)\n",
    "valid = PCamDataset(data_dir + \"camelyonpatch_level_2_split_valid\", test_transforms)\n",
    "test = PCamDataset(data_dir + \"camelyonpatch_level_2_split_test\", test_transforms)\n",
    "\n",
    "print(len(train), len(valid), len(test))"
   ]
  },
  {
   "cell_type": "code",
   "execution_count": 5,
   "id": "30783428",
   "metadata": {
    "execution": {
     "iopub.execute_input": "2022-05-14T08:34:19.107120Z",
     "iopub.status.busy": "2022-05-14T08:34:19.104172Z",
     "iopub.status.idle": "2022-05-14T08:34:19.109434Z",
     "shell.execute_reply": "2022-05-14T08:34:19.109021Z",
     "shell.execute_reply.started": "2022-05-08T22:17:47.553114Z"
    },
    "papermill": {
     "duration": 0.020637,
     "end_time": "2022-05-14T08:34:19.109537",
     "exception": false,
     "start_time": "2022-05-14T08:34:19.088900",
     "status": "completed"
    },
    "tags": []
   },
   "outputs": [],
   "source": [
    "train_loader = DataLoader(train, batch_size=8, shuffle=True, num_workers=0)\n",
    "valid_loader = DataLoader(valid, batch_size=8, shuffle=False, num_workers=0)\n",
    "test_loader = DataLoader(test, batch_size=8, shuffle=False, num_workers=0)"
   ]
  },
  {
   "cell_type": "code",
   "execution_count": 6,
   "id": "51697b79",
   "metadata": {
    "execution": {
     "iopub.execute_input": "2022-05-14T08:34:19.148101Z",
     "iopub.status.busy": "2022-05-14T08:34:19.147319Z",
     "iopub.status.idle": "2022-05-14T08:34:19.149678Z",
     "shell.execute_reply": "2022-05-14T08:34:19.149294Z",
     "shell.execute_reply.started": "2022-05-08T22:17:47.563894Z"
    },
    "papermill": {
     "duration": 0.027321,
     "end_time": "2022-05-14T08:34:19.149802",
     "exception": false,
     "start_time": "2022-05-14T08:34:19.122481",
     "status": "completed"
    },
    "tags": []
   },
   "outputs": [],
   "source": [
    "import torch.nn.functional as F\n",
    "\n",
    "class PCamNet(nn.Module):\n",
    "    def __init__(self):\n",
    "        super().__init__()\n",
    "        self.conv1 = nn.Conv2d(in_channels=3, out_channels=32, kernel_size=3, padding=2)\n",
    "        self.bn1 = nn.BatchNorm2d(32)\n",
    "        \n",
    "        self.conv2 = nn.Conv2d(in_channels=32, out_channels=64, kernel_size=3, padding=2)\n",
    "        self.bn2 = nn.BatchNorm2d(64)\n",
    "        \n",
    "        self.conv3 = nn.Conv2d(in_channels=64, out_channels=128, kernel_size=3, padding=2)\n",
    "        self.bn3 = nn.BatchNorm2d(128)\n",
    "        \n",
    "        self.conv4 = nn.Conv2d(in_channels=128, out_channels=256, kernel_size=3, padding=2)\n",
    "        self.bn4 = nn.BatchNorm2d(256)\n",
    "        \n",
    "        self.conv5 = nn.Conv2d(in_channels=256, out_channels=512, kernel_size=3, padding=2)\n",
    "        self.bn5 = nn.BatchNorm2d(512)\n",
    "        \n",
    "        self.maxpool = nn.MaxPool2d(kernel_size=2, stride=2)\n",
    "        self.avg = nn.AvgPool2d(4)\n",
    "        \n",
    "        self.fc = nn.Linear(512, 1)\n",
    "        \n",
    "    def forward(self, x):\n",
    "        x = self.maxpool(F.leaky_relu(self.bn1(self.conv1(x))))\n",
    "        x = self.maxpool(F.leaky_relu(self.bn2(self.conv2(x))))\n",
    "        x = self.maxpool(F.leaky_relu(self.bn3(self.conv3(x))))\n",
    "        x = self.maxpool(F.leaky_relu(self.bn4(self.conv4(x))))\n",
    "        x = self.maxpool(F.leaky_relu(self.bn5(self.conv5(x))))\n",
    "        x = self.avg(x)\n",
    "        x = x.view(-1, 512)\n",
    "        x = self.fc(x)\n",
    "        return x"
   ]
  },
  {
   "cell_type": "code",
   "execution_count": 7,
   "id": "0e051646",
   "metadata": {
    "execution": {
     "iopub.execute_input": "2022-05-14T08:34:19.181455Z",
     "iopub.status.busy": "2022-05-14T08:34:19.180873Z",
     "iopub.status.idle": "2022-05-14T08:34:19.227113Z",
     "shell.execute_reply": "2022-05-14T08:34:19.226452Z",
     "shell.execute_reply.started": "2022-05-08T22:17:47.586279Z"
    },
    "papermill": {
     "duration": 0.064503,
     "end_time": "2022-05-14T08:34:19.227251",
     "exception": false,
     "start_time": "2022-05-14T08:34:19.162748",
     "status": "completed"
    },
    "tags": []
   },
   "outputs": [],
   "source": [
    "model = PCamNet()"
   ]
  },
  {
   "cell_type": "code",
   "execution_count": 8,
   "id": "35e0ea96",
   "metadata": {
    "execution": {
     "iopub.execute_input": "2022-05-14T08:34:19.259393Z",
     "iopub.status.busy": "2022-05-14T08:34:19.257558Z",
     "iopub.status.idle": "2022-05-14T08:34:19.261662Z",
     "shell.execute_reply": "2022-05-14T08:34:19.261248Z",
     "shell.execute_reply.started": "2022-05-08T22:17:47.658294Z"
    },
    "papermill": {
     "duration": 0.021329,
     "end_time": "2022-05-14T08:34:19.261807",
     "exception": false,
     "start_time": "2022-05-14T08:34:19.240478",
     "status": "completed"
    },
    "tags": []
   },
   "outputs": [],
   "source": [
    "import torch.optim as optim\n",
    "\n",
    "optimizer = optim.Adam(model.parameters(), lr=learning_rate)\n",
    "criterion = nn.BCEWithLogitsLoss()"
   ]
  },
  {
   "cell_type": "code",
   "execution_count": 9,
   "id": "e7b5d925",
   "metadata": {
    "execution": {
     "iopub.execute_input": "2022-05-14T08:34:19.294992Z",
     "iopub.status.busy": "2022-05-14T08:34:19.293377Z",
     "iopub.status.idle": "2022-05-14T08:34:19.297197Z",
     "shell.execute_reply": "2022-05-14T08:34:19.296697Z",
     "shell.execute_reply.started": "2022-05-08T22:17:47.665192Z"
    },
    "papermill": {
     "duration": 0.02205,
     "end_time": "2022-05-14T08:34:19.297308",
     "exception": false,
     "start_time": "2022-05-14T08:34:19.275258",
     "status": "completed"
    },
    "tags": []
   },
   "outputs": [
    {
     "name": "stdout",
     "output_type": "stream",
     "text": [
      "Total number of model parameters = 1571073\n"
     ]
    }
   ],
   "source": [
    "print(f\"Total number of model parameters = {sum(p.numel() for p in model.parameters() if p.requires_grad)}\")"
   ]
  },
  {
   "cell_type": "code",
   "execution_count": 10,
   "id": "1b37f469",
   "metadata": {
    "execution": {
     "iopub.execute_input": "2022-05-14T08:34:19.335988Z",
     "iopub.status.busy": "2022-05-14T08:34:19.335346Z",
     "iopub.status.idle": "2022-05-14T12:47:13.080892Z",
     "shell.execute_reply": "2022-05-14T12:47:13.081407Z",
     "shell.execute_reply.started": "2022-05-08T22:17:47.682612Z"
    },
    "papermill": {
     "duration": 15173.770884,
     "end_time": "2022-05-14T12:47:13.081585",
     "exception": false,
     "start_time": "2022-05-14T08:34:19.310701",
     "status": "completed"
    },
    "tags": []
   },
   "outputs": [
    {
     "name": "stdout",
     "output_type": "stream",
     "text": [
      "Train Epoch: 1, Loss: 0.6246044635772705, Accuracy: 0.8028\n",
      "Valid Loss: 0.620112419128418, Valid Accuracy: 0.8083\n",
      "ROC-AUC score = 0.8884528834443495\n",
      "Model saved successfully\n",
      "\n",
      "Train Epoch: 2, Loss: 0.589584469795227, Accuracy: 0.8655\n",
      "Valid Loss: 0.592958390712738, Valid Accuracy: 0.8291\n",
      "ROC-AUC score = 0.9108615422392152\n",
      "Model saved successfully\n",
      "\n",
      "Train Epoch: 3, Loss: 0.5790666937828064, Accuracy: 0.8828\n",
      "Valid Loss: 0.5902153253555298, Valid Accuracy: 0.8391\n",
      "ROC-AUC score = 0.9200710952877865\n",
      "Model saved successfully\n",
      "\n",
      "Train Epoch: 4, Loss: 0.5727729201316833, Accuracy: 0.8934\n",
      "Valid Loss: 0.5929149985313416, Valid Accuracy: 0.8514\n",
      "ROC-AUC score = 0.928065602908882\n",
      "Model saved successfully\n",
      "\n",
      "Train Epoch: 5, Loss: 0.5681663155555725, Accuracy: 0.9008\n",
      "Valid Loss: 0.5891514420509338, Valid Accuracy: 0.8379\n",
      "ROC-AUC score = 0.919051322290851\n",
      "Train Epoch: 6, Loss: 0.5653880834579468, Accuracy: 0.9052\n",
      "Valid Loss: 0.5816513299942017, Valid Accuracy: 0.8327\n",
      "ROC-AUC score = 0.924738250919083\n",
      "Train Epoch: 7, Loss: 0.5625486373901367, Accuracy: 0.9095\n",
      "Valid Loss: 0.5810357928276062, Valid Accuracy: 0.8596\n",
      "ROC-AUC score = 0.9377499241148417\n",
      "Model saved successfully\n",
      "\n",
      "Train Epoch: 8, Loss: 0.5607664585113525, Accuracy: 0.9127\n",
      "Valid Loss: 0.5865627527236938, Valid Accuracy: 0.8568\n",
      "ROC-AUC score = 0.9311719183388413\n",
      "Train Epoch: 9, Loss: 0.5590729117393494, Accuracy: 0.9144\n",
      "Valid Loss: 0.5724223852157593, Valid Accuracy: 0.8612\n",
      "ROC-AUC score = 0.9447617403097137\n",
      "Model saved successfully\n",
      "\n",
      "Train Epoch: 10, Loss: 0.5572411417961121, Accuracy: 0.9176\n",
      "Valid Loss: 0.5791573524475098, Valid Accuracy: 0.8535\n",
      "ROC-AUC score = 0.9324617844220308\n",
      "Train Epoch: 11, Loss: 0.5559774041175842, Accuracy: 0.9199\n",
      "Valid Loss: 0.5731046795845032, Valid Accuracy: 0.8589\n",
      "ROC-AUC score = 0.9444665759987371\n",
      "Train Epoch: 12, Loss: 0.5547734498977661, Accuracy: 0.9223\n",
      "Valid Loss: 0.5762559175491333, Valid Accuracy: 0.8557\n",
      "ROC-AUC score = 0.9392663867583015\n",
      "Train Epoch: 13, Loss: 0.5534217953681946, Accuracy: 0.9245\n",
      "Valid Loss: 0.5814040899276733, Valid Accuracy: 0.8487\n",
      "ROC-AUC score = 0.9336825817025485\n",
      "Train Epoch: 14, Loss: 0.552638053894043, Accuracy: 0.925\n",
      "Valid Loss: 0.5737471580505371, Valid Accuracy: 0.8439\n",
      "ROC-AUC score = 0.9411629038365683\n",
      "Train Epoch: 15, Loss: 0.5515931844711304, Accuracy: 0.9271\n",
      "Valid Loss: 0.5736771821975708, Valid Accuracy: 0.8599\n",
      "ROC-AUC score = 0.9399937409855118\n",
      "Train Epoch: 16, Loss: 0.55061936378479, Accuracy: 0.9284\n",
      "Valid Loss: 0.5820906162261963, Valid Accuracy: 0.8345\n",
      "ROC-AUC score = 0.9275204676840648\n",
      "Train Epoch: 17, Loss: 0.5503566265106201, Accuracy: 0.929\n",
      "Valid Loss: 0.5777792930603027, Valid Accuracy: 0.8445\n",
      "ROC-AUC score = 0.9280469671285437\n",
      "Train Epoch: 18, Loss: 0.5494807958602905, Accuracy: 0.9306\n",
      "Valid Loss: 0.5761833190917969, Valid Accuracy: 0.8558\n",
      "ROC-AUC score = 0.9372956711483225\n",
      "Train Epoch: 19, Loss: 0.5486367344856262, Accuracy: 0.9319\n",
      "Valid Loss: 0.5721244215965271, Valid Accuracy: 0.8641\n",
      "ROC-AUC score = 0.9439023020789696\n",
      "Train Epoch: 20, Loss: 0.5482419729232788, Accuracy: 0.932\n",
      "Valid Loss: 0.5760220885276794, Valid Accuracy: 0.8442\n",
      "ROC-AUC score = 0.9366068681200792\n",
      "CPU times: user 3h 54min 4s, sys: 16min 25s, total: 4h 10min 30s\n",
      "Wall time: 4h 12min 53s\n"
     ]
    }
   ],
   "source": [
    "%%time\n",
    "\n",
    "from sklearn.metrics import roc_auc_score\n",
    "\n",
    "epochs = 20\n",
    "train_loss_history = np.empty(0)\n",
    "train_accuracy_history = np.empty(0)\n",
    "valid_loss_history = np.empty(0)\n",
    "valid_accuracy_history = np.empty(0)\n",
    "best_roc_auc = 0\n",
    "\n",
    "model = model.to(device)\n",
    "\n",
    "model.train()\n",
    "for epoch in range(epochs):\n",
    "    preds_in_current_epoch = torch.empty(0, device=device)\n",
    "    labels_in_current_epoch = torch.empty(0, device=device)\n",
    "    for batch_idx, (data, target) in enumerate(train_loader):\n",
    "        data, target = data.to(device), target.to(device)\n",
    "        target = torch.reshape(target, (8, 1)).float()\n",
    "        optimizer.zero_grad()\n",
    "        out = model(data)\n",
    "        loss = criterion(out, target)\n",
    "        loss.backward()\n",
    "        optimizer.step()\n",
    "        preds_in_current_epoch = torch.cat((preds_in_current_epoch, torch.sigmoid(out)))\n",
    "        labels_in_current_epoch = torch.cat((labels_in_current_epoch, target))\n",
    "    \n",
    "    labels_in_current_epoch = torch.squeeze(labels_in_current_epoch)\n",
    "    total = len(labels_in_current_epoch)\n",
    "    preds_in_current_epoch = torch.squeeze(preds_in_current_epoch)\n",
    "    correct = ((preds_in_current_epoch > 0.5).float() == labels_in_current_epoch).sum().item()\n",
    "    loss = criterion(preds_in_current_epoch, labels_in_current_epoch)\n",
    "    accuracy = round(correct / total, 4)\n",
    "    \n",
    "    train_accuracy_history = np.append(train_accuracy_history, accuracy)\n",
    "    train_loss_history = np.append(train_loss_history, loss.cpu().detach().numpy())\n",
    "\n",
    "    print(f\"Train Epoch: {epoch + 1}, Loss: {loss}, Accuracy: {accuracy}\")\n",
    "    \n",
    "    valid_labels = (torch.squeeze(torch.as_tensor(valid.y))).to(device)\n",
    "\n",
    "    with torch.no_grad():\n",
    "        predictions = torch.Tensor().float().to(device)\n",
    "\n",
    "        for batch_idx, (data, target) in enumerate(valid_loader):\n",
    "            data, target = data.to(device), target.to(device)\n",
    "            target = torch.reshape(target, (8, 1)).float()\n",
    "            out = model(data)\n",
    "            predictions = torch.cat((predictions, torch.sigmoid(out)))\n",
    "\n",
    "        total = valid_labels.shape[0]\n",
    "        predictions = torch.squeeze(predictions)\n",
    "        correct = ((predictions > 0.5).float() == valid_labels).sum().item()\n",
    "        loss = criterion(predictions, valid_labels.float())\n",
    "        accuracy = round(correct / total, 4)\n",
    "                                    \n",
    "        valid_accuracy_history = np.append(valid_accuracy_history, accuracy)\n",
    "        valid_loss_history = np.append(valid_loss_history, loss.cpu().detach().numpy())\n",
    "\n",
    "        print(f\"Valid Loss: {loss}, Valid Accuracy: {accuracy}\")\n",
    "        \n",
    "        current_roc_auc = roc_auc_score(valid_labels.cpu().detach().numpy(), predictions.cpu().detach().numpy())\n",
    "        print(f\"ROC-AUC score = {current_roc_auc}\")\n",
    "        if current_roc_auc > best_roc_auc:\n",
    "            torch.save(model.state_dict(), \"best_auc_checkpoint.pth\")\n",
    "            print(\"Model saved successfully\\n\")\n",
    "            best_roc_auc = current_roc_auc\n",
    "\n",
    "model.eval()\n",
    "torch.save(model.state_dict(), \"checkpoint.pth\")"
   ]
  },
  {
   "cell_type": "code",
   "execution_count": 11,
   "id": "63ecbf44",
   "metadata": {
    "execution": {
     "iopub.execute_input": "2022-05-14T12:47:13.147752Z",
     "iopub.status.busy": "2022-05-14T12:47:13.147092Z",
     "iopub.status.idle": "2022-05-14T12:47:51.500107Z",
     "shell.execute_reply": "2022-05-14T12:47:51.499357Z"
    },
    "papermill": {
     "duration": 38.390861,
     "end_time": "2022-05-14T12:47:51.500278",
     "exception": false,
     "start_time": "2022-05-14T12:47:13.109417",
     "status": "completed"
    },
    "tags": []
   },
   "outputs": [
    {
     "name": "stdout",
     "output_type": "stream",
     "text": [
      "Test Loss: 0.5700723528862\n",
      "Test Accuracy: 0.85117\n",
      "              precision    recall  f1-score   support\n",
      "\n",
      "           +       0.79      0.97      0.87     16391\n",
      "           -       0.96      0.74      0.83     16377\n",
      "\n",
      "    accuracy                           0.85     32768\n",
      "   macro avg       0.87      0.85      0.85     32768\n",
      "weighted avg       0.87      0.85      0.85     32768\n",
      "\n",
      "ROC-AUC = 0.8511167064484901\n"
     ]
    }
   ],
   "source": [
    "from sklearn.metrics import classification_report\n",
    "\n",
    "classes = ['+', '-']\n",
    "test_labels = (torch.squeeze(torch.Tensor(test.y))).to(device)\n",
    "\n",
    "with torch.no_grad():\n",
    "    predictions = torch.empty(0, device=device)\n",
    "    \n",
    "    for batch_idx, (data, target) in enumerate(test_loader):\n",
    "        data, target = data.to(device), target.to(device)\n",
    "        target = torch.reshape(target, (8, 1)).float()\n",
    "        out = model(data)\n",
    "        loss = criterion(out, target)\n",
    "        predictions = torch.cat((predictions, torch.sigmoid(out)))\n",
    "                                \n",
    "    total = test_labels.shape[0]\n",
    "    predictions = torch.squeeze(predictions)\n",
    "    correct = ((predictions > 0.5).float() == test_labels).sum().item()\n",
    "    loss = criterion(predictions, test_labels)\n",
    "    accuracy = round(correct / total, 5)\n",
    "                                \n",
    "    print(f\"Test Loss: {loss}\\nTest Accuracy: {accuracy}\")\n",
    "    \n",
    "    predictions = predictions.cpu().detach().numpy()\n",
    "    for i in range(len(predictions)):\n",
    "        predictions[i] = 1.0 if predictions[i] > 0.5 else 0.0\n",
    "    \n",
    "    print(classification_report(test_labels.cpu().detach().numpy(), \n",
    "                                predictions, \n",
    "                                target_names=classes))\n",
    "    print(f\"ROC-AUC = {roc_auc_score(test_labels.cpu().detach().numpy(), predictions)}\")"
   ]
  },
  {
   "cell_type": "code",
   "execution_count": 12,
   "id": "05f3814b",
   "metadata": {
    "execution": {
     "iopub.execute_input": "2022-05-14T12:47:51.605395Z",
     "iopub.status.busy": "2022-05-14T12:47:51.604547Z",
     "iopub.status.idle": "2022-05-14T12:47:51.885583Z",
     "shell.execute_reply": "2022-05-14T12:47:51.886001Z"
    },
    "papermill": {
     "duration": 0.340847,
     "end_time": "2022-05-14T12:47:51.886145",
     "exception": false,
     "start_time": "2022-05-14T12:47:51.545298",
     "status": "completed"
    },
    "tags": []
   },
   "outputs": [
    {
     "data": {
      "image/png": "[encoded data removed]",
      "text/plain": [
       "<Figure size 432x288 with 1 Axes>"
      ]
     },
     "metadata": {
      "needs_background": "light"
     },
     "output_type": "display_data"
    }
   ],
   "source": [
    "train_loss_idx = list(range(0, len(train_loss_history)))\n",
    "valid_loss_idx = list(range(0, len(valid_loss_history)))\n",
    "\n",
    "plt.plot(train_loss_idx, train_loss_history, label=\"train_loss\")\n",
    "plt.plot(valid_loss_idx, valid_loss_history, label=\"valid_loss\")\n",
    "\n",
    "plt.xlabel(\"Epoch\")\n",
    "plt.ylabel(\"Loss\")\n",
    "\n",
    "plt.title(\"Loss changing\")\n",
    "\n",
    "plt.legend()\n",
    "plt.show()"
   ]
  },
  {
   "cell_type": "code",
   "execution_count": 13,
   "id": "9ad503f2",
   "metadata": {
    "execution": {
     "iopub.execute_input": "2022-05-14T12:47:51.952463Z",
     "iopub.status.busy": "2022-05-14T12:47:51.951598Z",
     "iopub.status.idle": "2022-05-14T12:47:52.161146Z",
     "shell.execute_reply": "2022-05-14T12:47:52.160476Z"
    },
    "papermill": {
     "duration": 0.244109,
     "end_time": "2022-05-14T12:47:52.161297",
     "exception": false,
     "start_time": "2022-05-14T12:47:51.917188",
     "status": "completed"
    },
    "tags": []
   },
   "outputs": [
    {
     "data": {
      "image/png": "[encoded data removed]",
      "text/plain": [
       "<Figure size 432x288 with 1 Axes>"
      ]
     },
     "metadata": {
      "needs_background": "light"
     },
     "output_type": "display_data"
    }
   ],
   "source": [
    "train_accuracy_idx = list(range(0, len(train_accuracy_history)))\n",
    "valid_accuracy_idx = list(range(0, len(valid_accuracy_history)))\n",
    "\n",
    "plt.plot(train_accuracy_idx, train_accuracy_history, label=\"train_accuracy\")\n",
    "plt.plot(valid_accuracy_idx, valid_accuracy_history, label=\"valid_accuracy\")\n",
    "\n",
    "plt.xlabel(\"Epoch\")\n",
    "plt.ylabel(\"Accuracy\")\n",
    "\n",
    "plt.title(\"Accuracy changing\")\n",
    "\n",
    "plt.legend()\n",
    "plt.show()"
   ]
  },
  {
   "cell_type": "code",
   "execution_count": null,
   "id": "6ae282df",
   "metadata": {
    "papermill": {
     "duration": 0.031427,
     "end_time": "2022-05-14T12:47:52.224391",
     "exception": false,
     "start_time": "2022-05-14T12:47:52.192964",
     "status": "completed"
    },
    "tags": []
   },
   "outputs": [],
   "source": []
  }
 ],
 "metadata": {
  "kernelspec": {
   "display_name": "Python 3",
   "language": "python",
   "name": "python3"
  },
  "language_info": {
   "codemirror_mode": {
    "name": "ipython",
    "version": 3
   },
   "file_extension": ".py",
   "mimetype": "text/x-python",
   "name": "python",
   "nbconvert_exporter": "python",
   "pygments_lexer": "ipython3",
   "version": "3.7.12"
  },
  "papermill": {
   "default_parameters": {},
   "duration": 15226.975548,
   "end_time": "2022-05-14T12:47:54.992209",
   "environment_variables": {},
   "exception": null,
   "input_path": "__notebook__.ipynb",
   "output_path": "__notebook__.ipynb",
   "parameters": {},
   "start_time": "2022-05-14T08:34:08.016661",
   "version": "2.3.3"
  }
 },
 "nbformat": 4,
 "nbformat_minor": 5
}
