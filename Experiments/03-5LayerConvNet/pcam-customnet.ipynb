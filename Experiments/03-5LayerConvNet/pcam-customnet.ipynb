{
 "cells": [
  {
   "cell_type": "code",
   "execution_count": 1,
   "id": "d419882e",
   "metadata": {
    "_cell_guid": "b1076dfc-b9ad-4769-8c92-a6c4dae69d19",
    "_uuid": "8f2839f25d086af736a60e9eeb907d3b93b6e0e5",
    "execution": {
     "iopub.execute_input": "2022-05-08T18:56:06.641056Z",
     "iopub.status.busy": "2022-05-08T18:56:06.640752Z",
     "iopub.status.idle": "2022-05-08T18:56:08.246391Z",
     "shell.execute_reply": "2022-05-08T18:56:08.245672Z"
    },
    "papermill": {
     "duration": 1.631012,
     "end_time": "2022-05-08T18:56:08.248521",
     "exception": false,
     "start_time": "2022-05-08T18:56:06.617509",
     "status": "completed"
    },
    "tags": []
   },
   "outputs": [],
   "source": [
    "import numpy as np\n",
    "import pandas as pd\n",
    "import warnings\n",
    "import random\n",
    "import h5py\n",
    "import torch\n",
    "import matplotlib.pyplot as plt\n",
    "\n",
    "from matplotlib import pyplot\n",
    "from IPython.display import display\n",
    "from torch.utils.data import DataLoader, Dataset\n",
    "from torch.utils import data\n",
    "from PIL import Image, ImageDraw\n",
    "\n",
    "\n",
    "warnings.filterwarnings('ignore')\n",
    "\n",
    "%matplotlib inline\n",
    "\n",
    "SEED = 21\n",
    "random.seed(SEED)\n",
    "np.random.seed(SEED)"
   ]
  },
  {
   "cell_type": "code",
   "execution_count": 2,
   "id": "cb9b0a4a",
   "metadata": {
    "execution": {
     "iopub.execute_input": "2022-05-08T18:56:08.273088Z",
     "iopub.status.busy": "2022-05-08T18:56:08.272857Z",
     "iopub.status.idle": "2022-05-08T18:56:08.472201Z",
     "shell.execute_reply": "2022-05-08T18:56:08.471118Z"
    },
    "papermill": {
     "duration": 0.217518,
     "end_time": "2022-05-08T18:56:08.478023",
     "exception": false,
     "start_time": "2022-05-08T18:56:08.260505",
     "status": "completed"
    },
    "tags": []
   },
   "outputs": [
    {
     "name": "stdout",
     "output_type": "stream",
     "text": [
      "cuda\n"
     ]
    }
   ],
   "source": [
    "from torchvision import transforms\n",
    "\n",
    "device = (\"cuda\" if torch.cuda.is_available() else \"cpu\")\n",
    "learning_rate = 0.01\n",
    "image_size = 96\n",
    "\n",
    "train_transforms = transforms.Compose([\n",
    "    transforms.RandomVerticalFlip(),\n",
    "    transforms.RandomHorizontalFlip(),\n",
    "    transforms.Resize(image_size), \n",
    "    transforms.CenterCrop(image_size),\n",
    "    transforms.ToTensor(),\n",
    "    transforms.Normalize((0.5, 0.5, 0.5), (0.5, 0.5, 0.5))\n",
    "])\n",
    "\n",
    "test_transforms = transforms.Compose([\n",
    "    transforms.ToTensor(),\n",
    "    transforms.Normalize((0.5, 0.5, 0.5), (0.5, 0.5, 0.5))\n",
    "])\n",
    "\n",
    "print(device)"
   ]
  },
  {
   "cell_type": "code",
   "execution_count": 3,
   "id": "5a04c6ad",
   "metadata": {
    "execution": {
     "iopub.execute_input": "2022-05-08T18:56:08.537683Z",
     "iopub.status.busy": "2022-05-08T18:56:08.536685Z",
     "iopub.status.idle": "2022-05-08T18:56:08.548891Z",
     "shell.execute_reply": "2022-05-08T18:56:08.548175Z"
    },
    "papermill": {
     "duration": 0.042141,
     "end_time": "2022-05-08T18:56:08.551693",
     "exception": false,
     "start_time": "2022-05-08T18:56:08.509552",
     "status": "completed"
    },
    "tags": []
   },
   "outputs": [],
   "source": [
    "class PCamDataset(Dataset):\n",
    "    def __init__(self, path, transforms):\n",
    "        self.path = path\n",
    "        self.X = h5py.File(self.path +'_x.h5', 'r')['x']\n",
    "        self.y = h5py.File(self.path +'_y.h5', 'r')['y']\n",
    "        self.transforms = transforms\n",
    "\n",
    "    def __getitem__(self, index):\n",
    "        return (self.transforms(Image.fromarray(self.X[index,:,:,:])), self.y[index])\n",
    "\n",
    "    def __len__(self):\n",
    "        assert len(self.X) == len(self.y)\n",
    "        return len(self.X)"
   ]
  },
  {
   "cell_type": "code",
   "execution_count": 4,
   "id": "6f341650",
   "metadata": {
    "execution": {
     "iopub.execute_input": "2022-05-08T18:56:08.606890Z",
     "iopub.status.busy": "2022-05-08T18:56:08.606246Z",
     "iopub.status.idle": "2022-05-08T18:56:08.653153Z",
     "shell.execute_reply": "2022-05-08T18:56:08.652198Z"
    },
    "papermill": {
     "duration": 0.076405,
     "end_time": "2022-05-08T18:56:08.655458",
     "exception": false,
     "start_time": "2022-05-08T18:56:08.579053",
     "status": "completed"
    },
    "tags": []
   },
   "outputs": [
    {
     "name": "stdout",
     "output_type": "stream",
     "text": [
      "262144 32768 32768\n"
     ]
    }
   ],
   "source": [
    "data_dir = \"../input/patchcamelyon/\"\n",
    "\n",
    "train = PCamDataset(data_dir + \"camelyonpatch_level_2_split_train\", train_transforms)\n",
    "valid = PCamDataset(data_dir + \"camelyonpatch_level_2_split_valid\", test_transforms)\n",
    "test = PCamDataset(data_dir + \"camelyonpatch_level_2_split_test\", test_transforms)\n",
    "\n",
    "print(len(train), len(valid), len(test))"
   ]
  },
  {
   "cell_type": "code",
   "execution_count": 5,
   "id": "fd9b7eff",
   "metadata": {
    "execution": {
     "iopub.execute_input": "2022-05-08T18:56:08.702585Z",
     "iopub.status.busy": "2022-05-08T18:56:08.702123Z",
     "iopub.status.idle": "2022-05-08T18:56:08.708465Z",
     "shell.execute_reply": "2022-05-08T18:56:08.707800Z"
    },
    "papermill": {
     "duration": 0.034592,
     "end_time": "2022-05-08T18:56:08.712422",
     "exception": false,
     "start_time": "2022-05-08T18:56:08.677830",
     "status": "completed"
    },
    "tags": []
   },
   "outputs": [],
   "source": [
    "train_loader = DataLoader(train, batch_size=8, shuffle=True, num_workers=0)\n",
    "valid_loader = DataLoader(valid, batch_size=8, shuffle=False, num_workers=0)\n",
    "test_loader = DataLoader(test, batch_size=8, shuffle=False, num_workers=0)"
   ]
  },
  {
   "cell_type": "code",
   "execution_count": 6,
   "id": "fcad803a",
   "metadata": {
    "execution": {
     "iopub.execute_input": "2022-05-08T18:56:08.757834Z",
     "iopub.status.busy": "2022-05-08T18:56:08.757488Z",
     "iopub.status.idle": "2022-05-08T18:56:08.780533Z",
     "shell.execute_reply": "2022-05-08T18:56:08.779808Z"
    },
    "papermill": {
     "duration": 0.048655,
     "end_time": "2022-05-08T18:56:08.783076",
     "exception": false,
     "start_time": "2022-05-08T18:56:08.734421",
     "status": "completed"
    },
    "tags": []
   },
   "outputs": [],
   "source": [
    "import torch.nn as nn\n",
    "import torch.nn.functional as functional\n",
    "\n",
    "class PCamNet(nn.Module):\n",
    "    def __init__(self):\n",
    "        super().__init__()\n",
    "        self.conv1 = nn.Conv2d(in_channels=3, out_channels=32, kernel_size=3, padding=2)\n",
    "        self.bn1 = nn.BatchNorm2d(32)\n",
    "        \n",
    "        self.conv2 = nn.Conv2d(in_channels=32, out_channels=64, kernel_size=3, padding=2)\n",
    "        self.bn2 = nn.BatchNorm2d(64)\n",
    "        \n",
    "        self.conv3 = nn.Conv2d(in_channels=64, out_channels=128, kernel_size=3, padding=2)\n",
    "        self.bn3 = nn.BatchNorm2d(128)\n",
    "        \n",
    "        self.conv4 = nn.Conv2d(in_channels=128, out_channels=256, kernel_size=3, padding=2)\n",
    "        self.bn4 = nn.BatchNorm2d(256)\n",
    "        \n",
    "        self.conv5 = nn.Conv2d(in_channels=256, out_channels=512, kernel_size=3, padding=2)\n",
    "        self.bn5 = nn.BatchNorm2d(512)\n",
    "        \n",
    "        self.maxpool = nn.MaxPool2d(kernel_size=2, stride=2)\n",
    "        self.avg = nn.AvgPool2d(4)\n",
    "        self.dropout = nn.Dropout(0.2)\n",
    "        \n",
    "        self.fc = nn.Linear(512, 1)\n",
    "        \n",
    "    def forward(self, x):\n",
    "        x = self.dropout(self.maxpool(functional.leaky_relu(self.bn1(self.conv1(x)))))\n",
    "        x = self.dropout(self.maxpool(functional.leaky_relu(self.bn2(self.conv2(x)))))\n",
    "        x = self.dropout(self.maxpool(functional.leaky_relu(self.bn3(self.conv3(x)))))\n",
    "        x = self.dropout(self.maxpool(functional.leaky_relu(self.bn4(self.conv4(x)))))\n",
    "        x = self.dropout(self.maxpool(functional.leaky_relu(self.bn5(self.conv5(x)))))\n",
    "        x = self.avg(x)\n",
    "        x = x.view(-1, 512)\n",
    "        x = self.fc(x)\n",
    "        return x"
   ]
  },
  {
   "cell_type": "code",
   "execution_count": 7,
   "id": "fb6c8c62",
   "metadata": {
    "execution": {
     "iopub.execute_input": "2022-05-08T18:56:08.833379Z",
     "iopub.status.busy": "2022-05-08T18:56:08.833017Z",
     "iopub.status.idle": "2022-05-08T18:56:08.900706Z",
     "shell.execute_reply": "2022-05-08T18:56:08.899830Z"
    },
    "papermill": {
     "duration": 0.095215,
     "end_time": "2022-05-08T18:56:08.903550",
     "exception": false,
     "start_time": "2022-05-08T18:56:08.808335",
     "status": "completed"
    },
    "tags": []
   },
   "outputs": [],
   "source": [
    "model = PCamNet()"
   ]
  },
  {
   "cell_type": "code",
   "execution_count": 8,
   "id": "c1e6d754",
   "metadata": {
    "execution": {
     "iopub.execute_input": "2022-05-08T18:56:08.957540Z",
     "iopub.status.busy": "2022-05-08T18:56:08.957177Z",
     "iopub.status.idle": "2022-05-08T18:56:08.963168Z",
     "shell.execute_reply": "2022-05-08T18:56:08.962491Z"
    },
    "papermill": {
     "duration": 0.038192,
     "end_time": "2022-05-08T18:56:08.967991",
     "exception": false,
     "start_time": "2022-05-08T18:56:08.929799",
     "status": "completed"
    },
    "tags": []
   },
   "outputs": [],
   "source": [
    "import torch.optim as optim\n",
    "\n",
    "optimizer = optim.Adam(model.parameters(), lr=learning_rate)\n",
    "criterion = nn.BCEWithLogitsLoss()"
   ]
  },
  {
   "cell_type": "code",
   "execution_count": 9,
   "id": "1b345ea4",
   "metadata": {
    "execution": {
     "iopub.execute_input": "2022-05-08T18:56:09.020944Z",
     "iopub.status.busy": "2022-05-08T18:56:09.020575Z",
     "iopub.status.idle": "2022-05-08T21:24:54.716114Z",
     "shell.execute_reply": "2022-05-08T21:24:54.715337Z"
    },
    "papermill": {
     "duration": 8925.723947,
     "end_time": "2022-05-08T21:24:54.718578",
     "exception": false,
     "start_time": "2022-05-08T18:56:08.994631",
     "status": "completed"
    },
    "tags": []
   },
   "outputs": [
    {
     "name": "stdout",
     "output_type": "stream",
     "text": [
      "Train Epoch: 1, Loss: 0.5984628200531006, Accuracy: 0.8498\n",
      "Valid Loss: 0.6095936894416809, Valid Accuracy: 0.8151\n",
      "Train Epoch: 2, Loss: 0.5726467967033386, Accuracy: 0.893\n",
      "Valid Loss: 0.5931365489959717, Valid Accuracy: 0.8243\n",
      "Train Epoch: 3, Loss: 0.5642474889755249, Accuracy: 0.9067\n",
      "Valid Loss: 0.5832539200782776, Valid Accuracy: 0.8433\n",
      "Train Epoch: 4, Loss: 0.5596230030059814, Accuracy: 0.9144\n",
      "Valid Loss: 0.5844407081604004, Valid Accuracy: 0.8645\n",
      "Train Epoch: 5, Loss: 0.556640625, Accuracy: 0.9191\n",
      "Valid Loss: 0.5838654041290283, Valid Accuracy: 0.8398\n",
      "Train Epoch: 6, Loss: 0.5544573664665222, Accuracy: 0.9229\n",
      "Valid Loss: 0.5894529819488525, Valid Accuracy: 0.8733\n",
      "Train Epoch: 7, Loss: 0.5523258447647095, Accuracy: 0.9255\n",
      "Valid Loss: 0.5826847553253174, Valid Accuracy: 0.8302\n",
      "Train Epoch: 8, Loss: 0.5507494211196899, Accuracy: 0.9283\n",
      "Valid Loss: 0.5807740688323975, Valid Accuracy: 0.8616\n",
      "Train Epoch: 9, Loss: 0.5494928359985352, Accuracy: 0.9304\n",
      "Valid Loss: 0.5715680718421936, Valid Accuracy: 0.8743\n",
      "Train Epoch: 10, Loss: 0.5480927228927612, Accuracy: 0.9323\n",
      "Valid Loss: 0.5750548243522644, Valid Accuracy: 0.8555\n",
      "Train Epoch: 11, Loss: 0.546970009803772, Accuracy: 0.9344\n",
      "Valid Loss: 0.5776604413986206, Valid Accuracy: 0.859\n",
      "Train Epoch: 12, Loss: 0.5463211536407471, Accuracy: 0.9357\n",
      "Valid Loss: 0.5748342275619507, Valid Accuracy: 0.8775\n",
      "Train Epoch: 13, Loss: 0.5454238653182983, Accuracy: 0.9367\n",
      "Valid Loss: 0.5733192563056946, Valid Accuracy: 0.851\n",
      "Train Epoch: 14, Loss: 0.5443829298019409, Accuracy: 0.9387\n",
      "Valid Loss: 0.5715659856796265, Valid Accuracy: 0.8638\n",
      "Train Epoch: 15, Loss: 0.5438277721405029, Accuracy: 0.9392\n",
      "Valid Loss: 0.5714147090911865, Valid Accuracy: 0.8704\n",
      "Train Epoch: 16, Loss: 0.5431076884269714, Accuracy: 0.9399\n",
      "Valid Loss: 0.574088454246521, Valid Accuracy: 0.8671\n",
      "Train Epoch: 17, Loss: 0.5425080060958862, Accuracy: 0.9411\n",
      "Valid Loss: 0.572964072227478, Valid Accuracy: 0.8576\n",
      "Train Epoch: 18, Loss: 0.5417400598526001, Accuracy: 0.9425\n",
      "Valid Loss: 0.5700399875640869, Valid Accuracy: 0.8523\n",
      "Train Epoch: 19, Loss: 0.5411549806594849, Accuracy: 0.9435\n",
      "Valid Loss: 0.5746234655380249, Valid Accuracy: 0.8618\n",
      "Train Epoch: 20, Loss: 0.5408011078834534, Accuracy: 0.9434\n",
      "Valid Loss: 0.5710853338241577, Valid Accuracy: 0.8625\n",
      "CPU times: user 2h 13min 47s, sys: 13min 17s, total: 2h 27min 5s\n",
      "Wall time: 2h 28min 45s\n"
     ]
    }
   ],
   "source": [
    "%%time\n",
    "\n",
    "epochs = 20\n",
    "train_loss_history = np.empty(0)\n",
    "train_accuracy_history = np.empty(0)\n",
    "valid_loss_history = np.empty(0)\n",
    "valid_accuracy_history = np.empty(0)\n",
    "\n",
    "model = model.to(device)\n",
    "\n",
    "model.train()\n",
    "for epoch in range(epochs):\n",
    "    preds_in_current_epoch = torch.empty(0, device=device)\n",
    "    labels_in_current_epoch = torch.empty(0, device=device)\n",
    "    for batch_idx, (data, target) in enumerate(train_loader):\n",
    "        data, target = data.to(device), target.to(device)\n",
    "        target = torch.reshape(target, (8, 1)).float()\n",
    "        optimizer.zero_grad()\n",
    "        out = model(data)\n",
    "        loss = criterion(out, target)\n",
    "        loss.backward()\n",
    "        optimizer.step()\n",
    "        preds_in_current_epoch = torch.cat((preds_in_current_epoch, torch.sigmoid(out)))\n",
    "        labels_in_current_epoch = torch.cat((labels_in_current_epoch, target))\n",
    "    \n",
    "    labels_in_current_epoch = torch.squeeze(labels_in_current_epoch)\n",
    "    total = len(labels_in_current_epoch)\n",
    "    preds_in_current_epoch = torch.squeeze(preds_in_current_epoch)\n",
    "    correct = ((preds_in_current_epoch > 0.5).float() == labels_in_current_epoch).sum().item()\n",
    "    loss = criterion(preds_in_current_epoch, labels_in_current_epoch)\n",
    "    accuracy = round(correct / total, 4)\n",
    "    \n",
    "    train_accuracy_history = np.append(train_accuracy_history, accuracy)\n",
    "    train_loss_history = np.append(train_loss_history, loss.cpu().detach().numpy())\n",
    "\n",
    "    print(f\"Train Epoch: {epoch + 1}, Loss: {loss}, Accuracy: {accuracy}\")\n",
    "    \n",
    "    valid_labels = (torch.squeeze(torch.as_tensor(valid.y))).to(device)\n",
    "\n",
    "    with torch.no_grad():\n",
    "        predictions = torch.Tensor().float().to(device)\n",
    "\n",
    "        for batch_idx, (data, target) in enumerate(valid_loader):\n",
    "            data, target = data.to(device), target.to(device)\n",
    "            target = torch.reshape(target, (8, 1)).float()\n",
    "            out = model(data)\n",
    "            predictions = torch.cat((predictions, torch.sigmoid(out)))\n",
    "\n",
    "        total = valid_labels.shape[0]\n",
    "        predictions = torch.squeeze(predictions)\n",
    "        correct = ((predictions > 0.5).float() == valid_labels).sum().item()\n",
    "        loss = criterion(predictions, valid_labels.float())\n",
    "        accuracy = round(correct / total, 4)\n",
    "                                    \n",
    "        valid_accuracy_history = np.append(valid_accuracy_history, accuracy)\n",
    "        valid_loss_history = np.append(valid_loss_history, loss.cpu().detach().numpy())\n",
    "\n",
    "        print(f\"Valid Loss: {loss}, Valid Accuracy: {accuracy}\")\n",
    "\n",
    "model.eval()\n",
    "torch.save(model.state_dict(), \"checkpoint.pth\")"
   ]
  },
  {
   "cell_type": "code",
   "execution_count": 10,
   "id": "c04981cb",
   "metadata": {
    "execution": {
     "iopub.execute_input": "2022-05-08T21:24:54.772147Z",
     "iopub.status.busy": "2022-05-08T21:24:54.771520Z",
     "iopub.status.idle": "2022-05-08T21:25:31.890480Z",
     "shell.execute_reply": "2022-05-08T21:25:31.889706Z"
    },
    "papermill": {
     "duration": 37.175148,
     "end_time": "2022-05-08T21:25:31.919663",
     "exception": false,
     "start_time": "2022-05-08T21:24:54.744515",
     "status": "completed"
    },
    "tags": []
   },
   "outputs": [
    {
     "name": "stdout",
     "output_type": "stream",
     "text": [
      "Test Loss: 0.5755842924118042\n",
      "Test Accuracy: 0.82837\n",
      "              precision    recall  f1-score   support\n",
      "\n",
      "           +       0.75      0.98      0.85     16391\n",
      "           -       0.97      0.68      0.80     16377\n",
      "\n",
      "    accuracy                           0.83     32768\n",
      "   macro avg       0.86      0.83      0.82     32768\n",
      "weighted avg       0.86      0.83      0.82     32768\n",
      "\n",
      "ROC-AUC = 0.8283061854057129\n"
     ]
    }
   ],
   "source": [
    "from sklearn.metrics import classification_report\n",
    "from sklearn.metrics import roc_auc_score\n",
    "\n",
    "classes = ['+', '-']\n",
    "test_labels = (torch.squeeze(torch.Tensor(test.y))).to(device)\n",
    "\n",
    "with torch.no_grad():\n",
    "    predictions = torch.empty(0, device=device)\n",
    "    \n",
    "    for batch_idx, (data, target) in enumerate(test_loader):\n",
    "        data, target = data.to(device), target.to(device)\n",
    "        target = torch.reshape(target, (8, 1)).float()\n",
    "        out = model(data)\n",
    "        loss = criterion(out, target)\n",
    "        predictions = torch.cat((predictions, torch.sigmoid(out)))\n",
    "                                \n",
    "    total = test_labels.shape[0]\n",
    "    predictions = torch.squeeze(predictions)\n",
    "    correct = ((predictions > 0.5).float() == test_labels).sum().item()\n",
    "    loss = criterion(predictions, test_labels)\n",
    "    accuracy = round(correct / total, 5)\n",
    "                                \n",
    "    print(f\"Test Loss: {loss}\\nTest Accuracy: {accuracy}\")\n",
    "    \n",
    "    predictions = predictions.cpu().detach().numpy()\n",
    "    for i in range(len(predictions)):\n",
    "        predictions[i] = 1.0 if predictions[i] > 0.5 else 0.0\n",
    "    \n",
    "    print(classification_report(test_labels.cpu().detach().numpy(), \n",
    "                                predictions, \n",
    "                                target_names=classes))\n",
    "    print(f\"ROC-AUC = {roc_auc_score(test_labels.cpu().detach().numpy(), predictions)}\")"
   ]
  },
  {
   "cell_type": "code",
   "execution_count": 11,
   "id": "6eb32492",
   "metadata": {
    "execution": {
     "iopub.execute_input": "2022-05-08T21:25:31.974850Z",
     "iopub.status.busy": "2022-05-08T21:25:31.974353Z",
     "iopub.status.idle": "2022-05-08T21:25:32.230438Z",
     "shell.execute_reply": "2022-05-08T21:25:32.229757Z"
    },
    "papermill": {
     "duration": 0.287041,
     "end_time": "2022-05-08T21:25:32.232742",
     "exception": false,
     "start_time": "2022-05-08T21:25:31.945701",
     "status": "completed"
    },
    "tags": []
   },
   "outputs": [
    {
     "data": {
      "image/png": "[encoded data removed]",
      "text/plain": [
       "<Figure size 432x288 with 1 Axes>"
      ]
     },
     "metadata": {
      "needs_background": "light"
     },
     "output_type": "display_data"
    }
   ],
   "source": [
    "train_loss_idx = list(range(0, len(train_loss_history)))\n",
    "valid_loss_idx = list(range(0, len(valid_loss_history)))\n",
    "\n",
    "plt.plot(train_loss_idx, train_loss_history, label=\"train_loss\")\n",
    "plt.plot(valid_loss_idx, valid_loss_history, label=\"valid_loss\")\n",
    "\n",
    "plt.xlabel(\"Epoch\")\n",
    "plt.ylabel(\"Loss\")\n",
    "\n",
    "plt.title(\"Loss changing\")\n",
    "\n",
    "plt.legend()\n",
    "plt.show()"
   ]
  },
  {
   "cell_type": "code",
   "execution_count": 12,
   "id": "29cce183",
   "metadata": {
    "execution": {
     "iopub.execute_input": "2022-05-08T21:25:32.290183Z",
     "iopub.status.busy": "2022-05-08T21:25:32.288845Z",
     "iopub.status.idle": "2022-05-08T21:25:32.500790Z",
     "shell.execute_reply": "2022-05-08T21:25:32.500083Z"
    },
    "papermill": {
     "duration": 0.242141,
     "end_time": "2022-05-08T21:25:32.502640",
     "exception": false,
     "start_time": "2022-05-08T21:25:32.260499",
     "status": "completed"
    },
    "tags": []
   },
   "outputs": [
    {
     "data": {
      "image/png": "[encoded data removed]",
      "text/plain": [
       "<Figure size 432x288 with 1 Axes>"
      ]
     },
     "metadata": {
      "needs_background": "light"
     },
     "output_type": "display_data"
    }
   ],
   "source": [
    "train_accuracy_idx = list(range(0, len(train_accuracy_history)))\n",
    "valid_accuracy_idx = list(range(0, len(valid_accuracy_history)))\n",
    "\n",
    "plt.plot(train_accuracy_idx, train_accuracy_history, label=\"train_accuracy\")\n",
    "plt.plot(valid_accuracy_idx, valid_accuracy_history, label=\"valid_accuracy\")\n",
    "\n",
    "plt.xlabel(\"Epoch\")\n",
    "plt.ylabel(\"Accuracy\")\n",
    "\n",
    "plt.title(\"Accuracy changing\")\n",
    "\n",
    "plt.legend()\n",
    "plt.show()"
   ]
  },
  {
   "cell_type": "code",
   "execution_count": null,
   "id": "7cd70c82",
   "metadata": {
    "papermill": {
     "duration": 0.026387,
     "end_time": "2022-05-08T21:25:32.556326",
     "exception": false,
     "start_time": "2022-05-08T21:25:32.529939",
     "status": "completed"
    },
    "tags": []
   },
   "outputs": [],
   "source": []
  }
 ],
 "metadata": {
  "kernelspec": {
   "display_name": "Python 3",
   "language": "python",
   "name": "python3"
  },
  "language_info": {
   "codemirror_mode": {
    "name": "ipython",
    "version": 3
   },
   "file_extension": ".py",
   "mimetype": "text/x-python",
   "name": "python",
   "nbconvert_exporter": "python",
   "pygments_lexer": "ipython3",
   "version": "3.7.12"
  },
  "papermill": {
   "default_parameters": {},
   "duration": 8976.558751,
   "end_time": "2022-05-08T21:25:35.319292",
   "environment_variables": {},
   "exception": null,
   "input_path": "__notebook__.ipynb",
   "output_path": "__notebook__.ipynb",
   "parameters": {},
   "start_time": "2022-05-08T18:55:58.760541",
   "version": "2.3.4"
  }
 },
 "nbformat": 4,
 "nbformat_minor": 5
}
