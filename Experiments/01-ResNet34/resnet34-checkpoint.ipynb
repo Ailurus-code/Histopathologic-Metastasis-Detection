{
 "cells": [
  {
   "cell_type": "code",
   "execution_count": 1,
   "id": "dca3bbcd",
   "metadata": {
    "_cell_guid": "b1076dfc-b9ad-4769-8c92-a6c4dae69d19",
    "_uuid": "8f2839f25d086af736a60e9eeb907d3b93b6e0e5",
    "execution": {
     "iopub.execute_input": "2022-05-23T22:55:28.811491Z",
     "iopub.status.busy": "2022-05-23T22:55:28.808224Z",
     "iopub.status.idle": "2022-05-23T22:55:30.493555Z",
     "shell.execute_reply": "2022-05-23T22:55:30.492991Z",
     "shell.execute_reply.started": "2022-05-23T22:45:43.609987Z"
    },
    "papermill": {
     "duration": 1.709659,
     "end_time": "2022-05-23T22:55:30.493727",
     "exception": false,
     "start_time": "2022-05-23T22:55:28.784068",
     "status": "completed"
    },
    "tags": []
   },
   "outputs": [],
   "source": [
    "import numpy as np\n",
    "import pandas as pd\n",
    "import warnings\n",
    "import random\n",
    "import h5py\n",
    "import torch\n",
    "import matplotlib.pyplot as plt\n",
    "import torch.nn as nn\n",
    "\n",
    "from matplotlib import pyplot\n",
    "from IPython.display import display\n",
    "from torch.utils.data import DataLoader, Dataset\n",
    "from torch.utils import data\n",
    "from PIL import Image, ImageDraw\n",
    "\n",
    "\n",
    "warnings.filterwarnings('ignore')\n",
    "\n",
    "%matplotlib inline\n",
    "\n",
    "SEED = 21\n",
    "random.seed(SEED)\n",
    "np.random.seed(SEED)"
   ]
  },
  {
   "cell_type": "code",
   "execution_count": 2,
   "id": "e2a02166",
   "metadata": {
    "execution": {
     "iopub.execute_input": "2022-05-23T22:55:30.517316Z",
     "iopub.status.busy": "2022-05-23T22:55:30.516625Z",
     "iopub.status.idle": "2022-05-23T22:55:30.806476Z",
     "shell.execute_reply": "2022-05-23T22:55:30.805788Z",
     "shell.execute_reply.started": "2022-05-23T22:45:47.158682Z"
    },
    "papermill": {
     "duration": 0.303951,
     "end_time": "2022-05-23T22:55:30.807078",
     "exception": false,
     "start_time": "2022-05-23T22:55:30.503127",
     "status": "completed"
    },
    "tags": []
   },
   "outputs": [
    {
     "name": "stdout",
     "output_type": "stream",
     "text": [
      "cuda\n"
     ]
    }
   ],
   "source": [
    "from torchvision import transforms\n",
    "\n",
    "device = (\"cuda\" if torch.cuda.is_available() else \"cpu\")\n",
    "image_size = 96\n",
    "\n",
    "test_transforms = transforms.Compose([\n",
    "    transforms.ToTensor(),\n",
    "    transforms.Normalize((0.5, 0.5, 0.5), (0.5, 0.5, 0.5))\n",
    "])\n",
    "\n",
    "print(device)"
   ]
  },
  {
   "cell_type": "code",
   "execution_count": 3,
   "id": "7f0c5b9e",
   "metadata": {
    "execution": {
     "iopub.execute_input": "2022-05-23T22:55:30.851105Z",
     "iopub.status.busy": "2022-05-23T22:55:30.849894Z",
     "iopub.status.idle": "2022-05-23T22:55:30.855396Z",
     "shell.execute_reply": "2022-05-23T22:55:30.854659Z",
     "shell.execute_reply.started": "2022-05-23T22:45:49.310448Z"
    },
    "papermill": {
     "duration": 0.031873,
     "end_time": "2022-05-23T22:55:30.855555",
     "exception": false,
     "start_time": "2022-05-23T22:55:30.823682",
     "status": "completed"
    },
    "tags": []
   },
   "outputs": [],
   "source": [
    "class PCamDataset(Dataset):\n",
    "    def __init__(self, path, transforms):\n",
    "        self.path = path\n",
    "        self.X = h5py.File(self.path +'_x.h5', 'r')['x']\n",
    "        self.y = h5py.File(self.path +'_y.h5', 'r')['y']\n",
    "        self.transforms = transforms\n",
    "\n",
    "    def __getitem__(self, index):\n",
    "        return (self.transforms(Image.fromarray(self.X[index,:,:,:])), self.y[index])\n",
    "\n",
    "    def __len__(self):\n",
    "        assert len(self.X) == len(self.y)\n",
    "        return len(self.X)"
   ]
  },
  {
   "cell_type": "code",
   "execution_count": 4,
   "id": "f9d692e0",
   "metadata": {
    "execution": {
     "iopub.execute_input": "2022-05-23T22:55:30.899927Z",
     "iopub.status.busy": "2022-05-23T22:55:30.898955Z",
     "iopub.status.idle": "2022-05-23T22:55:30.907559Z",
     "shell.execute_reply": "2022-05-23T22:55:30.908178Z",
     "shell.execute_reply.started": "2022-05-23T22:45:50.974383Z"
    },
    "papermill": {
     "duration": 0.037292,
     "end_time": "2022-05-23T22:55:30.908360",
     "exception": false,
     "start_time": "2022-05-23T22:55:30.871068",
     "status": "completed"
    },
    "tags": []
   },
   "outputs": [
    {
     "name": "stdout",
     "output_type": "stream",
     "text": [
      "32768\n"
     ]
    }
   ],
   "source": [
    "data_dir = \"../input/patchcamelyon/\"\n",
    "\n",
    "test = PCamDataset(data_dir + \"camelyonpatch_level_2_split_test\", test_transforms)\n",
    "\n",
    "print(len(test))"
   ]
  },
  {
   "cell_type": "code",
   "execution_count": 5,
   "id": "744d8a8b",
   "metadata": {
    "execution": {
     "iopub.execute_input": "2022-05-23T22:55:30.945210Z",
     "iopub.status.busy": "2022-05-23T22:55:30.944416Z",
     "iopub.status.idle": "2022-05-23T22:55:30.946563Z",
     "shell.execute_reply": "2022-05-23T22:55:30.947143Z",
     "shell.execute_reply.started": "2022-05-23T22:45:52.566740Z"
    },
    "papermill": {
     "duration": 0.022807,
     "end_time": "2022-05-23T22:55:30.947302",
     "exception": false,
     "start_time": "2022-05-23T22:55:30.924495",
     "status": "completed"
    },
    "tags": []
   },
   "outputs": [],
   "source": [
    "test_loader = DataLoader(test, batch_size=8, shuffle=False, num_workers=0)"
   ]
  },
  {
   "cell_type": "code",
   "execution_count": 6,
   "id": "cf16ae0a",
   "metadata": {
    "execution": {
     "iopub.execute_input": "2022-05-23T22:55:30.982729Z",
     "iopub.status.busy": "2022-05-23T22:55:30.982190Z",
     "iopub.status.idle": "2022-05-23T22:55:35.325879Z",
     "shell.execute_reply": "2022-05-23T22:55:35.325351Z",
     "shell.execute_reply.started": "2022-05-23T22:47:22.466067Z"
    },
    "papermill": {
     "duration": 4.364284,
     "end_time": "2022-05-23T22:55:35.326011",
     "exception": false,
     "start_time": "2022-05-23T22:55:30.961727",
     "status": "completed"
    },
    "tags": []
   },
   "outputs": [
    {
     "data": {
      "text/plain": [
       "<All keys matched successfully>"
      ]
     },
     "execution_count": 6,
     "metadata": {},
     "output_type": "execute_result"
    }
   ],
   "source": [
    "from torchvision import models\n",
    "from torch import nn\n",
    "model = models.resnet34()\n",
    "model.fc = nn.Linear(512, 1)\n",
    "model.load_state_dict(torch.load(\"../input/resnet34checkpoint/best_roc_auc_resnet34.pth\"))"
   ]
  },
  {
   "cell_type": "code",
   "execution_count": 7,
   "id": "4717bfae",
   "metadata": {
    "execution": {
     "iopub.execute_input": "2022-05-23T22:55:35.350407Z",
     "iopub.status.busy": "2022-05-23T22:55:35.348867Z",
     "iopub.status.idle": "2022-05-23T22:55:35.351042Z",
     "shell.execute_reply": "2022-05-23T22:55:35.351436Z",
     "shell.execute_reply.started": "2022-05-23T22:49:58.596971Z"
    },
    "papermill": {
     "duration": 0.015999,
     "end_time": "2022-05-23T22:55:35.351554",
     "exception": false,
     "start_time": "2022-05-23T22:55:35.335555",
     "status": "completed"
    },
    "tags": []
   },
   "outputs": [],
   "source": [
    "criterion = nn.BCEWithLogitsLoss()"
   ]
  },
  {
   "cell_type": "code",
   "execution_count": 8,
   "id": "821758c3",
   "metadata": {
    "execution": {
     "iopub.execute_input": "2022-05-23T22:55:35.375186Z",
     "iopub.status.busy": "2022-05-23T22:55:35.374674Z",
     "iopub.status.idle": "2022-05-23T22:55:35.377246Z",
     "shell.execute_reply": "2022-05-23T22:55:35.377648Z",
     "shell.execute_reply.started": "2022-05-23T22:50:00.695720Z"
    },
    "papermill": {
     "duration": 0.01685,
     "end_time": "2022-05-23T22:55:35.377764",
     "exception": false,
     "start_time": "2022-05-23T22:55:35.360914",
     "status": "completed"
    },
    "tags": []
   },
   "outputs": [
    {
     "name": "stdout",
     "output_type": "stream",
     "text": [
      "Total number of model parameters = 21285185\n"
     ]
    }
   ],
   "source": [
    "print(f\"Total number of model parameters = {sum(p.numel() for p in model.parameters() if p.requires_grad)}\")"
   ]
  },
  {
   "cell_type": "code",
   "execution_count": 9,
   "id": "78c9f9a4",
   "metadata": {
    "execution": {
     "iopub.execute_input": "2022-05-23T22:55:35.407084Z",
     "iopub.status.busy": "2022-05-23T22:55:35.406401Z",
     "iopub.status.idle": "2022-05-23T22:56:39.709399Z",
     "shell.execute_reply": "2022-05-23T22:56:39.709817Z",
     "shell.execute_reply.started": "2022-05-23T22:50:04.266421Z"
    },
    "papermill": {
     "duration": 64.322329,
     "end_time": "2022-05-23T22:56:39.709964",
     "exception": false,
     "start_time": "2022-05-23T22:55:35.387635",
     "status": "completed"
    },
    "tags": []
   },
   "outputs": [
    {
     "name": "stdout",
     "output_type": "stream",
     "text": [
      "Test Loss: 0.5755465030670166\n",
      "Test Accuracy: 0.85178\n",
      "              precision    recall  f1-score   support\n",
      "\n",
      "           +       0.79      0.96      0.87     16391\n",
      "           -       0.95      0.74      0.83     16377\n",
      "\n",
      "    accuracy                           0.85     32768\n",
      "   macro avg       0.87      0.85      0.85     32768\n",
      "weighted avg       0.87      0.85      0.85     32768\n",
      "\n",
      "ROC-AUC = 0.8517292746705356\n"
     ]
    }
   ],
   "source": [
    "from sklearn.metrics import classification_report\n",
    "from sklearn.metrics import roc_auc_score\n",
    "\n",
    "model = model.to(device)\n",
    "\n",
    "classes = ['+', '-']\n",
    "test_labels = (torch.squeeze(torch.Tensor(test.y))).to(device)\n",
    "\n",
    "with torch.no_grad():\n",
    "    predictions = torch.empty(0, device=device)\n",
    "    \n",
    "    for batch_idx, (data, target) in enumerate(test_loader):\n",
    "        data, target = data.to(device), target.to(device)\n",
    "        target = torch.reshape(target, (8, 1)).float()\n",
    "        out = model(data)\n",
    "        loss = criterion(out, target)\n",
    "        predictions = torch.cat((predictions, torch.sigmoid(out)))\n",
    "                                \n",
    "    total = test_labels.shape[0]\n",
    "    predictions = torch.squeeze(predictions)\n",
    "    correct = ((predictions > 0.5).float() == test_labels).sum().item()\n",
    "    loss = criterion(predictions, test_labels)\n",
    "    accuracy = round(correct / total, 5)\n",
    "                                \n",
    "    print(f\"Test Loss: {loss}\\nTest Accuracy: {accuracy}\")\n",
    "    \n",
    "    predictions = predictions.cpu().detach().numpy()\n",
    "    for i in range(len(predictions)):\n",
    "        predictions[i] = 1.0 if predictions[i] > 0.5 else 0.0\n",
    "    \n",
    "    print(classification_report(test_labels.cpu().detach().numpy(), \n",
    "                                predictions, \n",
    "                                target_names=classes))\n",
    "    print(f\"ROC-AUC = {roc_auc_score(test_labels.cpu().detach().numpy(), predictions)}\")"
   ]
  }
 ],
 "metadata": {
  "kernelspec": {
   "display_name": "Python 3",
   "language": "python",
   "name": "python3"
  },
  "language_info": {
   "codemirror_mode": {
    "name": "ipython",
    "version": 3
   },
   "file_extension": ".py",
   "mimetype": "text/x-python",
   "name": "python",
   "nbconvert_exporter": "python",
   "pygments_lexer": "ipython3",
   "version": "3.7.12"
  },
  "papermill": {
   "default_parameters": {},
   "duration": 80.177022,
   "end_time": "2022-05-23T22:56:40.930163",
   "environment_variables": {},
   "exception": null,
   "input_path": "__notebook__.ipynb",
   "output_path": "__notebook__.ipynb",
   "parameters": {},
   "start_time": "2022-05-23T22:55:20.753141",
   "version": "2.3.3"
  }
 },
 "nbformat": 4,
 "nbformat_minor": 5
}
