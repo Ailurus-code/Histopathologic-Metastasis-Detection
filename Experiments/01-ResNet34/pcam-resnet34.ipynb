{
 "cells": [
  {
   "cell_type": "code",
   "execution_count": 1,
   "id": "1d1df81e",
   "metadata": {
    "_cell_guid": "b1076dfc-b9ad-4769-8c92-a6c4dae69d19",
    "_uuid": "8f2839f25d086af736a60e9eeb907d3b93b6e0e5",
    "execution": {
     "iopub.execute_input": "2022-05-17T18:58:40.761215Z",
     "iopub.status.busy": "2022-05-17T18:58:40.760780Z",
     "iopub.status.idle": "2022-05-17T18:58:42.642132Z",
     "shell.execute_reply": "2022-05-17T18:58:42.641379Z"
    },
    "papermill": {
     "duration": 1.911597,
     "end_time": "2022-05-17T18:58:42.645158",
     "exception": false,
     "start_time": "2022-05-17T18:58:40.733561",
     "status": "completed"
    },
    "tags": []
   },
   "outputs": [],
   "source": [
    "import numpy as np\n",
    "import pandas as pd\n",
    "import warnings\n",
    "import random\n",
    "import h5py\n",
    "import torch\n",
    "import matplotlib.pyplot as plt\n",
    "\n",
    "from matplotlib import pyplot\n",
    "from IPython.display import display\n",
    "from torch.utils.data import DataLoader, Dataset\n",
    "from torch.utils import data\n",
    "from PIL import Image, ImageDraw\n",
    "\n",
    "\n",
    "warnings.filterwarnings('ignore')\n",
    "\n",
    "%matplotlib inline\n",
    "\n",
    "SEED = 21\n",
    "random.seed(SEED)\n",
    "np.random.seed(SEED)"
   ]
  },
  {
   "cell_type": "code",
   "execution_count": 2,
   "id": "d8f73600",
   "metadata": {
    "execution": {
     "iopub.execute_input": "2022-05-17T18:58:42.688143Z",
     "iopub.status.busy": "2022-05-17T18:58:42.687875Z",
     "iopub.status.idle": "2022-05-17T18:58:42.910450Z",
     "shell.execute_reply": "2022-05-17T18:58:42.909682Z"
    },
    "papermill": {
     "duration": 0.245794,
     "end_time": "2022-05-17T18:58:42.912788",
     "exception": false,
     "start_time": "2022-05-17T18:58:42.666994",
     "status": "completed"
    },
    "tags": []
   },
   "outputs": [
    {
     "name": "stdout",
     "output_type": "stream",
     "text": [
      "cuda\n"
     ]
    }
   ],
   "source": [
    "from torchvision import transforms\n",
    "\n",
    "device = (\"cuda\" if torch.cuda.is_available() else \"cpu\")\n",
    "learning_rate = 0.01\n",
    "image_size = 96\n",
    "\n",
    "train_transforms = transforms.Compose([\n",
    "    transforms.RandomChoice([\n",
    "        transforms.ColorJitter(brightness=0.5),\n",
    "        transforms.ColorJitter(contrast=0.5), \n",
    "        transforms.ColorJitter(saturation=0.5),\n",
    "        transforms.ColorJitter(hue=0.5),\n",
    "        transforms.ColorJitter(brightness=0.1, contrast=0.1, saturation=0.1, hue=0.1), \n",
    "        transforms.ColorJitter(brightness=0.3, contrast=0.3, saturation=0.3, hue=0.3), \n",
    "        transforms.ColorJitter(brightness=0.5, contrast=0.5, saturation=0.5, hue=0.5), \n",
    "    ]),\n",
    "    transforms.RandomChoice([\n",
    "        transforms.RandomRotation((0, 0)),\n",
    "        transforms.RandomHorizontalFlip(p=1),\n",
    "        transforms.RandomVerticalFlip(p=1),\n",
    "        transforms.RandomRotation((90,90)),\n",
    "        transforms.RandomRotation((180,180)),\n",
    "        transforms.RandomRotation((270,270)),\n",
    "        transforms.Compose([\n",
    "            transforms.RandomHorizontalFlip(p=1),\n",
    "            transforms.RandomRotation((90,90)),\n",
    "        ]),\n",
    "        transforms.Compose([\n",
    "            transforms.RandomHorizontalFlip(p=1),\n",
    "            transforms.RandomRotation((270,270)),\n",
    "        ]) \n",
    "    ]),\n",
    "    transforms.Resize(image_size), \n",
    "    transforms.CenterCrop(image_size),\n",
    "    transforms.ToTensor(),\n",
    "    transforms.Normalize(\n",
    "        mean=[0.485, 0.456, 0.406],\n",
    "        std=[0.229, 0.224, 0.225]\n",
    "    )\n",
    "])\n",
    "\n",
    "test_transforms = transforms.Compose([\n",
    "    transforms.ToTensor(),\n",
    "    transforms.Normalize((0.5, 0.5, 0.5), (0.5, 0.5, 0.5))\n",
    "])\n",
    "\n",
    "print(device)"
   ]
  },
  {
   "cell_type": "code",
   "execution_count": 3,
   "id": "2ae9a03f",
   "metadata": {
    "execution": {
     "iopub.execute_input": "2022-05-17T18:58:42.938056Z",
     "iopub.status.busy": "2022-05-17T18:58:42.937336Z",
     "iopub.status.idle": "2022-05-17T18:58:42.943600Z",
     "shell.execute_reply": "2022-05-17T18:58:42.942943Z"
    },
    "papermill": {
     "duration": 0.020502,
     "end_time": "2022-05-17T18:58:42.945402",
     "exception": false,
     "start_time": "2022-05-17T18:58:42.924900",
     "status": "completed"
    },
    "tags": []
   },
   "outputs": [
    {
     "name": "stdout",
     "output_type": "stream",
     "text": [
      "cuDNN auto-tuner is enabled\n"
     ]
    }
   ],
   "source": [
    "if device == \"cuda\":\n",
    "    torch.backends.cudnn.benchmark = True\n",
    "    print(\"cuDNN auto-tuner is enabled\")"
   ]
  },
  {
   "cell_type": "code",
   "execution_count": 4,
   "id": "3fc4bf6d",
   "metadata": {
    "execution": {
     "iopub.execute_input": "2022-05-17T18:58:42.971198Z",
     "iopub.status.busy": "2022-05-17T18:58:42.970624Z",
     "iopub.status.idle": "2022-05-17T18:58:42.976798Z",
     "shell.execute_reply": "2022-05-17T18:58:42.976116Z"
    },
    "papermill": {
     "duration": 0.020956,
     "end_time": "2022-05-17T18:58:42.978545",
     "exception": false,
     "start_time": "2022-05-17T18:58:42.957589",
     "status": "completed"
    },
    "tags": []
   },
   "outputs": [],
   "source": [
    "class PCamDataset(Dataset):\n",
    "    def __init__(self, path, transforms):\n",
    "        self.path = path\n",
    "        self.X = h5py.File(self.path +'_x.h5', 'r')['x']\n",
    "        self.y = h5py.File(self.path +'_y.h5', 'r')['y']\n",
    "        self.transforms = transforms\n",
    "\n",
    "    def __getitem__(self, index):\n",
    "        return (self.transforms(Image.fromarray(self.X[index,:,:,:])), self.y[index])\n",
    "\n",
    "    def __len__(self):\n",
    "        assert len(self.X) == len(self.y)\n",
    "        return len(self.X)"
   ]
  },
  {
   "cell_type": "code",
   "execution_count": 5,
   "id": "c1f95485",
   "metadata": {
    "execution": {
     "iopub.execute_input": "2022-05-17T18:58:43.004941Z",
     "iopub.status.busy": "2022-05-17T18:58:43.004722Z",
     "iopub.status.idle": "2022-05-17T18:58:43.082380Z",
     "shell.execute_reply": "2022-05-17T18:58:43.081552Z"
    },
    "papermill": {
     "duration": 0.093354,
     "end_time": "2022-05-17T18:58:43.084536",
     "exception": false,
     "start_time": "2022-05-17T18:58:42.991182",
     "status": "completed"
    },
    "tags": []
   },
   "outputs": [
    {
     "name": "stdout",
     "output_type": "stream",
     "text": [
      "262144 32768 32768\n"
     ]
    }
   ],
   "source": [
    "data_dir = \"../input/patchcamelyon/\"\n",
    "\n",
    "train = PCamDataset(data_dir + \"camelyonpatch_level_2_split_train\", train_transforms)\n",
    "valid = PCamDataset(data_dir + \"camelyonpatch_level_2_split_valid\", test_transforms)\n",
    "test = PCamDataset(data_dir + \"camelyonpatch_level_2_split_test\", test_transforms)\n",
    "\n",
    "print(len(train), len(valid), len(test))"
   ]
  },
  {
   "cell_type": "code",
   "execution_count": 6,
   "id": "2cb70efc",
   "metadata": {
    "execution": {
     "iopub.execute_input": "2022-05-17T18:58:43.115429Z",
     "iopub.status.busy": "2022-05-17T18:58:43.114657Z",
     "iopub.status.idle": "2022-05-17T18:58:43.120154Z",
     "shell.execute_reply": "2022-05-17T18:58:43.119381Z"
    },
    "papermill": {
     "duration": 0.022983,
     "end_time": "2022-05-17T18:58:43.122123",
     "exception": false,
     "start_time": "2022-05-17T18:58:43.099140",
     "status": "completed"
    },
    "tags": []
   },
   "outputs": [],
   "source": [
    "train_loader = DataLoader(train, batch_size=8, shuffle=True, num_workers=0)\n",
    "valid_loader = DataLoader(valid, batch_size=8, shuffle=False, num_workers=0)\n",
    "test_loader = DataLoader(test, batch_size=8, shuffle=False, num_workers=0)"
   ]
  },
  {
   "cell_type": "code",
   "execution_count": 7,
   "id": "a659b207",
   "metadata": {
    "execution": {
     "iopub.execute_input": "2022-05-17T18:58:43.151140Z",
     "iopub.status.busy": "2022-05-17T18:58:43.150644Z",
     "iopub.status.idle": "2022-05-17T18:58:43.539223Z",
     "shell.execute_reply": "2022-05-17T18:58:43.538486Z"
    },
    "papermill": {
     "duration": 0.405536,
     "end_time": "2022-05-17T18:58:43.541290",
     "exception": false,
     "start_time": "2022-05-17T18:58:43.135754",
     "status": "completed"
    },
    "tags": []
   },
   "outputs": [],
   "source": [
    "import torchvision.models as models\n",
    "import torch.nn as nn\n",
    "\n",
    "resnet34 = models.resnet34(pretrained=False, progress=True)\n",
    "\n",
    "resnet34.fc = nn.Linear(512, 1)"
   ]
  },
  {
   "cell_type": "code",
   "execution_count": 8,
   "id": "f0b4c9b0",
   "metadata": {
    "execution": {
     "iopub.execute_input": "2022-05-17T18:58:43.568020Z",
     "iopub.status.busy": "2022-05-17T18:58:43.567786Z",
     "iopub.status.idle": "2022-05-17T18:58:43.572883Z",
     "shell.execute_reply": "2022-05-17T18:58:43.572222Z"
    },
    "papermill": {
     "duration": 0.020561,
     "end_time": "2022-05-17T18:58:43.574543",
     "exception": false,
     "start_time": "2022-05-17T18:58:43.553982",
     "status": "completed"
    },
    "tags": []
   },
   "outputs": [],
   "source": [
    "import torch.optim as optim\n",
    "\n",
    "optimizer = optim.Adam(resnet34.parameters(), lr=learning_rate)\n",
    "criterion = nn.BCEWithLogitsLoss()"
   ]
  },
  {
   "cell_type": "code",
   "execution_count": 9,
   "id": "525d5d59",
   "metadata": {
    "execution": {
     "iopub.execute_input": "2022-05-17T18:58:43.601398Z",
     "iopub.status.busy": "2022-05-17T18:58:43.601072Z",
     "iopub.status.idle": "2022-05-18T01:06:00.932913Z",
     "shell.execute_reply": "2022-05-18T01:06:00.931312Z"
    },
    "papermill": {
     "duration": 22037.349665,
     "end_time": "2022-05-18T01:06:00.937457",
     "exception": false,
     "start_time": "2022-05-17T18:58:43.587792",
     "status": "completed"
    },
    "tags": []
   },
   "outputs": [
    {
     "name": "stdout",
     "output_type": "stream",
     "text": [
      "Train Epoch: 1, Loss: 0.6546189785003662, Accuracy: 0.7449\n",
      "Valid Loss: 0.6473925113677979, Valid Accuracy: 0.7748\n",
      "ROC-AUC score = 0.8434318779862393\n",
      "Model saved successfully\n",
      "\n",
      "Train Epoch: 2, Loss: 0.6249262094497681, Accuracy: 0.8044\n",
      "Valid Loss: 0.6252230405807495, Valid Accuracy: 0.7893\n",
      "ROC-AUC score = 0.8698959563918046\n",
      "Model saved successfully\n",
      "\n",
      "Train Epoch: 3, Loss: 0.6086181998252869, Accuracy: 0.8325\n",
      "Valid Loss: 0.6165565252304077, Valid Accuracy: 0.8053\n",
      "ROC-AUC score = 0.8869948576161377\n",
      "Model saved successfully\n",
      "\n",
      "Train Epoch: 4, Loss: 0.5964773893356323, Accuracy: 0.8534\n",
      "Valid Loss: 0.6068888306617737, Valid Accuracy: 0.8288\n",
      "ROC-AUC score = 0.9122041044604909\n",
      "Model saved successfully\n",
      "\n",
      "Train Epoch: 5, Loss: 0.5881591439247131, Accuracy: 0.8671\n",
      "Valid Loss: 0.6047691106796265, Valid Accuracy: 0.831\n",
      "ROC-AUC score = 0.9103037372914733\n",
      "\n",
      "Train Epoch: 6, Loss: 0.5824385285377502, Accuracy: 0.8765\n",
      "Valid Loss: 0.5920155048370361, Valid Accuracy: 0.8359\n",
      "ROC-AUC score = 0.9173112172448035\n",
      "Model saved successfully\n",
      "\n",
      "Train Epoch: 7, Loss: 0.577977180480957, Accuracy: 0.8845\n",
      "Valid Loss: 0.592136800289154, Valid Accuracy: 0.8355\n",
      "ROC-AUC score = 0.9167592796341998\n",
      "\n",
      "Train Epoch: 8, Loss: 0.5745977759361267, Accuracy: 0.8902\n",
      "Valid Loss: 0.5807162523269653, Valid Accuracy: 0.8593\n",
      "ROC-AUC score = 0.9360701315692799\n",
      "Model saved successfully\n",
      "\n",
      "Train Epoch: 9, Loss: 0.5715800523757935, Accuracy: 0.8948\n",
      "Valid Loss: 0.591808557510376, Valid Accuracy: 0.8469\n",
      "ROC-AUC score = 0.924803031909027\n",
      "\n",
      "Train Epoch: 10, Loss: 0.5692318677902222, Accuracy: 0.8989\n",
      "Valid Loss: 0.5897414684295654, Valid Accuracy: 0.8589\n",
      "ROC-AUC score = 0.9354086535682793\n",
      "\n",
      "Train Epoch: 11, Loss: 0.5672218799591064, Accuracy: 0.9023\n",
      "Valid Loss: 0.5802311897277832, Valid Accuracy: 0.8583\n",
      "ROC-AUC score = 0.9329918135820258\n",
      "\n",
      "Train Epoch: 12, Loss: 0.5654974579811096, Accuracy: 0.9048\n",
      "Valid Loss: 0.5830224752426147, Valid Accuracy: 0.8631\n",
      "ROC-AUC score = 0.9363300378406736\n",
      "Model saved successfully\n",
      "\n",
      "Train Epoch: 13, Loss: 0.5639400482177734, Accuracy: 0.9073\n",
      "Valid Loss: 0.5869545936584473, Valid Accuracy: 0.8359\n",
      "ROC-AUC score = 0.9153478516387441\n",
      "\n",
      "Train Epoch: 14, Loss: 0.5623326301574707, Accuracy: 0.9103\n",
      "Valid Loss: 0.5717098712921143, Valid Accuracy: 0.8663\n",
      "ROC-AUC score = 0.9539073654605346\n",
      "Model saved successfully\n",
      "\n",
      "Train Epoch: 15, Loss: 0.5608248710632324, Accuracy: 0.9125\n",
      "Valid Loss: 0.5729233622550964, Valid Accuracy: 0.8705\n",
      "ROC-AUC score = 0.9486384538697159\n",
      "\n",
      "Train Epoch: 16, Loss: 0.5596126317977905, Accuracy: 0.9145\n",
      "Valid Loss: 0.5787496566772461, Valid Accuracy: 0.8584\n",
      "ROC-AUC score = 0.9346436645642837\n",
      "\n",
      "CPU times: user 5h 34min 35s, sys: 14min 25s, total: 5h 49min 1s\n",
      "Wall time: 6h 7min 17s\n"
     ]
    }
   ],
   "source": [
    "%%time\n",
    "\n",
    "from sklearn.metrics import roc_auc_score\n",
    "\n",
    "epochs = 16\n",
    "train_loss_history = np.empty(0)\n",
    "train_accuracy_history = np.empty(0)\n",
    "valid_loss_history = np.empty(0)\n",
    "valid_accuracy_history = np.empty(0)\n",
    "best_roc_auc = 0\n",
    "\n",
    "resnet34 = resnet34.to(device)\n",
    "\n",
    "resnet34.train()\n",
    "for epoch in range(epochs):\n",
    "    preds_in_current_epoch = torch.empty(0, device=device)\n",
    "    labels_in_current_epoch = torch.empty(0, device=device)\n",
    "    for batch_idx, (data, target) in enumerate(train_loader):\n",
    "        data, target = data.to(device), target.to(device)\n",
    "        target = torch.reshape(target, (8, 1)).float()\n",
    "        optimizer.zero_grad()\n",
    "        out = resnet34(data)\n",
    "        loss = criterion(out, target)\n",
    "        loss.backward()\n",
    "        optimizer.step()\n",
    "        preds_in_current_epoch = torch.cat((preds_in_current_epoch, torch.sigmoid(out)))\n",
    "        labels_in_current_epoch = torch.cat((labels_in_current_epoch, target))\n",
    "    \n",
    "    labels_in_current_epoch = torch.squeeze(labels_in_current_epoch)\n",
    "    total = len(labels_in_current_epoch)\n",
    "    preds_in_current_epoch = torch.squeeze(preds_in_current_epoch)\n",
    "    correct = ((preds_in_current_epoch > 0.5).float() == labels_in_current_epoch).sum().item()\n",
    "    loss = criterion(preds_in_current_epoch, labels_in_current_epoch)\n",
    "    accuracy = round(correct / total, 4)\n",
    "    \n",
    "    train_accuracy_history = np.append(train_accuracy_history, accuracy)\n",
    "    train_loss_history = np.append(train_loss_history, loss.cpu().detach().numpy())\n",
    "\n",
    "    print(f\"Train Epoch: {epoch + 1}, Loss: {loss}, Accuracy: {accuracy}\")\n",
    "    \n",
    "    valid_labels = (torch.squeeze(torch.as_tensor(valid.y))).to(device)\n",
    "\n",
    "    with torch.no_grad():\n",
    "        predictions = torch.Tensor().float().to(device)\n",
    "\n",
    "        for batch_idx, (data, target) in enumerate(valid_loader):\n",
    "            data, target = data.to(device), target.to(device)\n",
    "            target = torch.reshape(target, (8, 1)).float()\n",
    "            out = resnet34(data)\n",
    "            predictions = torch.cat((predictions, torch.sigmoid(out)))\n",
    "\n",
    "        total = valid_labels.shape[0]\n",
    "        predictions = torch.squeeze(predictions)\n",
    "        correct = ((predictions > 0.5).float() == valid_labels).sum().item()\n",
    "        loss = criterion(predictions, valid_labels.float())\n",
    "        accuracy = round(correct / total, 4)\n",
    "                                    \n",
    "        valid_accuracy_history = np.append(valid_accuracy_history, accuracy)\n",
    "        valid_loss_history = np.append(valid_loss_history, loss.cpu().detach().numpy())\n",
    "\n",
    "        print(f\"Valid Loss: {loss}, Valid Accuracy: {accuracy}\")\n",
    "        \n",
    "        current_roc_auc = roc_auc_score(valid_labels.cpu().detach().numpy(), predictions.cpu().detach().numpy())\n",
    "        print(f\"ROC-AUC score = {current_roc_auc}\")\n",
    "        if current_roc_auc > best_roc_auc:\n",
    "            torch.save(resnet34.state_dict(), \"best_roc_auc.pth\")\n",
    "            print(\"Model saved successfully\\n\")\n",
    "            best_roc_auc = current_roc_auc\n",
    "        else:\n",
    "            print()\n",
    "\n",
    "resnet34.eval()\n",
    "torch.save(resnet34.state_dict(), \"checkpoint.pth\")"
   ]
  },
  {
   "cell_type": "code",
   "execution_count": 10,
   "id": "82a766c7",
   "metadata": {
    "execution": {
     "iopub.execute_input": "2022-05-18T01:06:00.995233Z",
     "iopub.status.busy": "2022-05-18T01:06:00.994625Z",
     "iopub.status.idle": "2022-05-18T01:06:54.568058Z",
     "shell.execute_reply": "2022-05-18T01:06:54.567362Z"
    },
    "papermill": {
     "duration": 53.630294,
     "end_time": "2022-05-18T01:06:54.595726",
     "exception": false,
     "start_time": "2022-05-18T01:06:00.965432",
     "status": "completed"
    },
    "tags": []
   },
   "outputs": [
    {
     "name": "stdout",
     "output_type": "stream",
     "text": [
      "Test Loss: 0.5721597075462341\n",
      "Test Accuracy: 0.86853\n",
      "              precision    recall  f1-score   support\n",
      "\n",
      "           +       0.82      0.94      0.88     16391\n",
      "           -       0.93      0.80      0.86     16377\n",
      "\n",
      "    accuracy                           0.87     32768\n",
      "   macro avg       0.88      0.87      0.87     32768\n",
      "weighted avg       0.88      0.87      0.87     32768\n",
      "\n",
      "ROC-AUC = 0.8685010431578425\n"
     ]
    }
   ],
   "source": [
    "from sklearn.metrics import classification_report\n",
    "from sklearn.metrics import roc_auc_score\n",
    "\n",
    "classes = ['+', '-']\n",
    "test_labels = (torch.squeeze(torch.Tensor(test.y))).to(device)\n",
    "\n",
    "with torch.no_grad():\n",
    "    predictions = torch.empty(0, device=device)\n",
    "    \n",
    "    for batch_idx, (data, target) in enumerate(test_loader):\n",
    "        data, target = data.to(device), target.to(device)\n",
    "        target = torch.reshape(target, (8, 1)).float()\n",
    "        out = resnet34(data)\n",
    "        loss = criterion(out, target)\n",
    "        predictions = torch.cat((predictions, torch.sigmoid(out)))\n",
    "                                \n",
    "    total = test_labels.shape[0]\n",
    "    predictions = torch.squeeze(predictions)\n",
    "    correct = ((predictions > 0.5).float() == test_labels).sum().item()\n",
    "    loss = criterion(predictions, test_labels)\n",
    "    accuracy = round(correct / total, 5)\n",
    "                                \n",
    "    print(f\"Test Loss: {loss}\\nTest Accuracy: {accuracy}\")\n",
    "    \n",
    "    predictions = predictions.cpu().detach().numpy()\n",
    "    for i in range(len(predictions)):\n",
    "        predictions[i] = 1.0 if predictions[i] > 0.5 else 0.0\n",
    "    \n",
    "    print(classification_report(test_labels.cpu().detach().numpy(), \n",
    "                                predictions, \n",
    "                                target_names=classes))\n",
    "    print(f\"ROC-AUC = {roc_auc_score(test_labels.cpu().detach().numpy(), predictions)}\")"
   ]
  },
  {
   "cell_type": "code",
   "execution_count": 11,
   "id": "c0a8d0ea",
   "metadata": {
    "execution": {
     "iopub.execute_input": "2022-05-18T01:06:54.649668Z",
     "iopub.status.busy": "2022-05-18T01:06:54.649261Z",
     "iopub.status.idle": "2022-05-18T01:06:54.926479Z",
     "shell.execute_reply": "2022-05-18T01:06:54.925243Z"
    },
    "papermill": {
     "duration": 0.307826,
     "end_time": "2022-05-18T01:06:54.929511",
     "exception": false,
     "start_time": "2022-05-18T01:06:54.621685",
     "status": "completed"
    },
    "tags": []
   },
   "outputs": [
    {
     "data": {
      "image/png": "[encoded data removed]",
      "text/plain": [
       "<Figure size 432x288 with 1 Axes>"
      ]
     },
     "metadata": {
      "needs_background": "light"
     },
     "output_type": "display_data"
    }
   ],
   "source": [
    "train_loss_idx = list(range(0, len(train_loss_history)))\n",
    "valid_loss_idx = list(range(0, len(valid_loss_history)))\n",
    "\n",
    "plt.plot(train_loss_idx, train_loss_history, label=\"train_loss\")\n",
    "plt.plot(valid_loss_idx, valid_loss_history, label=\"valid_loss\")\n",
    "\n",
    "plt.xlabel(\"Epoch\")\n",
    "plt.ylabel(\"Loss\")\n",
    "\n",
    "plt.title(\"Loss changing\")\n",
    "\n",
    "plt.legend()\n",
    "plt.show()"
   ]
  },
  {
   "cell_type": "code",
   "execution_count": 12,
   "id": "7745bd83",
   "metadata": {
    "execution": {
     "iopub.execute_input": "2022-05-18T01:06:54.992592Z",
     "iopub.status.busy": "2022-05-18T01:06:54.991831Z",
     "iopub.status.idle": "2022-05-18T01:06:55.185182Z",
     "shell.execute_reply": "2022-05-18T01:06:55.184525Z"
    },
    "papermill": {
     "duration": 0.226438,
     "end_time": "2022-05-18T01:06:55.186957",
     "exception": false,
     "start_time": "2022-05-18T01:06:54.960519",
     "status": "completed"
    },
    "tags": []
   },
   "outputs": [
    {
     "data": {
      "image/png": "[encoded data removed]",
      "text/plain": [
       "<Figure size 432x288 with 1 Axes>"
      ]
     },
     "metadata": {
      "needs_background": "light"
     },
     "output_type": "display_data"
    }
   ],
   "source": [
    "train_accuracy_idx = list(range(0, len(train_accuracy_history)))\n",
    "valid_accuracy_idx = list(range(0, len(valid_accuracy_history)))\n",
    "\n",
    "plt.plot(train_accuracy_idx, train_accuracy_history, label=\"train_accuracy\")\n",
    "plt.plot(valid_accuracy_idx, valid_accuracy_history, label=\"valid_accuracy\")\n",
    "\n",
    "plt.xlabel(\"Epoch\")\n",
    "plt.ylabel(\"Accuracy\")\n",
    "\n",
    "plt.title(\"Accuracy changing\")\n",
    "\n",
    "plt.legend()\n",
    "plt.show()"
   ]
  },
  {
   "cell_type": "code",
   "execution_count": null,
   "id": "f86400cc",
   "metadata": {
    "papermill": {
     "duration": 0.028735,
     "end_time": "2022-05-18T01:06:55.244696",
     "exception": false,
     "start_time": "2022-05-18T01:06:55.215961",
     "status": "completed"
    },
    "tags": []
   },
   "outputs": [],
   "source": []
  }
 ],
 "metadata": {
  "kernelspec": {
   "display_name": "Python 3",
   "language": "python",
   "name": "python3"
  },
  "language_info": {
   "codemirror_mode": {
    "name": "ipython",
    "version": 3
   },
   "file_extension": ".py",
   "mimetype": "text/x-python",
   "name": "python",
   "nbconvert_exporter": "python",
   "pygments_lexer": "ipython3",
   "version": "3.7.12"
  },
  "papermill": {
   "default_parameters": {},
   "duration": 22105.43913,
   "end_time": "2022-05-18T01:06:58.149119",
   "environment_variables": {},
   "exception": null,
   "input_path": "__notebook__.ipynb",
   "output_path": "__notebook__.ipynb",
   "parameters": {},
   "start_time": "2022-05-17T18:58:32.709989",
   "version": "2.3.4"
  }
 },
 "nbformat": 4,
 "nbformat_minor": 5
}
