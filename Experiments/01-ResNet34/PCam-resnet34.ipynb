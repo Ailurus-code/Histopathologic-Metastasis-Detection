{
 "cells": [
  {
   "cell_type": "code",
   "execution_count": 1,
   "id": "66c16bae",
   "metadata": {
    "_cell_guid": "b1076dfc-b9ad-4769-8c92-a6c4dae69d19",
    "_uuid": "8f2839f25d086af736a60e9eeb907d3b93b6e0e5",
    "execution": {
     "iopub.execute_input": "2022-05-03T09:06:06.203240Z",
     "iopub.status.busy": "2022-05-03T09:06:06.202559Z",
     "iopub.status.idle": "2022-05-03T09:06:07.954813Z",
     "shell.execute_reply": "2022-05-03T09:06:07.953936Z"
    },
    "papermill": {
     "duration": 1.78736,
     "end_time": "2022-05-03T09:06:07.957713",
     "exception": false,
     "start_time": "2022-05-03T09:06:06.170353",
     "status": "completed"
    },
    "tags": []
   },
   "outputs": [],
   "source": [
    "import numpy as np\n",
    "import pandas as pd\n",
    "import warnings\n",
    "import random\n",
    "import h5py\n",
    "import torch\n",
    "import matplotlib.pyplot as plt\n",
    "\n",
    "from matplotlib import pyplot\n",
    "from IPython.display import display\n",
    "from torch.utils.data import DataLoader, Dataset\n",
    "from torch.utils import data\n",
    "from PIL import Image, ImageDraw\n",
    "\n",
    "\n",
    "warnings.filterwarnings('ignore')\n",
    "\n",
    "%matplotlib inline\n",
    "\n",
    "SEED = 21\n",
    "random.seed(SEED)\n",
    "np.random.seed(SEED)"
   ]
  },
  {
   "cell_type": "code",
   "execution_count": 2,
   "id": "3007c947",
   "metadata": {
    "execution": {
     "iopub.execute_input": "2022-05-03T09:06:08.000679Z",
     "iopub.status.busy": "2022-05-03T09:06:08.000421Z",
     "iopub.status.idle": "2022-05-03T09:06:08.236582Z",
     "shell.execute_reply": "2022-05-03T09:06:08.234376Z"
    },
    "papermill": {
     "duration": 0.263727,
     "end_time": "2022-05-03T09:06:08.242659",
     "exception": false,
     "start_time": "2022-05-03T09:06:07.978932",
     "status": "completed"
    },
    "tags": []
   },
   "outputs": [
    {
     "name": "stdout",
     "output_type": "stream",
     "text": [
      "cuda\n"
     ]
    }
   ],
   "source": [
    "from torchvision import transforms\n",
    "\n",
    "device = (\"cuda\" if torch.cuda.is_available() else \"cpu\")\n",
    "learning_rate = 0.01\n",
    "image_size = 96\n",
    "\n",
    "train_transforms = transforms.Compose([\n",
    "    transforms.RandomVerticalFlip(),\n",
    "    transforms.RandomHorizontalFlip(),\n",
    "    transforms.Resize(image_size), \n",
    "    transforms.CenterCrop(image_size),\n",
    "    transforms.ToTensor(),\n",
    "    transforms.Normalize((0.5, 0.5, 0.5), (0.5, 0.5, 0.5))\n",
    "])\n",
    "\n",
    "test_transforms = transforms.Compose([\n",
    "    transforms.ToTensor(),\n",
    "    transforms.Normalize((0.5, 0.5, 0.5), (0.5, 0.5, 0.5))\n",
    "])\n",
    "\n",
    "print(device)"
   ]
  },
  {
   "cell_type": "code",
   "execution_count": 3,
   "id": "3fc78d0f",
   "metadata": {
    "execution": {
     "iopub.execute_input": "2022-05-03T09:06:08.272766Z",
     "iopub.status.busy": "2022-05-03T09:06:08.272560Z",
     "iopub.status.idle": "2022-05-03T09:06:08.278988Z",
     "shell.execute_reply": "2022-05-03T09:06:08.278327Z"
    },
    "papermill": {
     "duration": 0.020295,
     "end_time": "2022-05-03T09:06:08.280647",
     "exception": false,
     "start_time": "2022-05-03T09:06:08.260352",
     "status": "completed"
    },
    "tags": []
   },
   "outputs": [],
   "source": [
    "class PCamDataset(Dataset):\n",
    "    def __init__(self, path, transforms):\n",
    "        self.path = path\n",
    "        self.X = h5py.File(self.path +'_x.h5', 'r')['x']\n",
    "        self.y = h5py.File(self.path +'_y.h5', 'r')['y']\n",
    "        self.transforms = transforms\n",
    "\n",
    "    def __getitem__(self, index):\n",
    "        return (self.transforms(Image.fromarray(self.X[index,:,:,:])), self.y[index])\n",
    "\n",
    "    def __len__(self):\n",
    "        assert len(self.X) == len(self.y)\n",
    "        return len(self.X)"
   ]
  },
  {
   "cell_type": "code",
   "execution_count": 4,
   "id": "38350628",
   "metadata": {
    "execution": {
     "iopub.execute_input": "2022-05-03T09:06:08.304288Z",
     "iopub.status.busy": "2022-05-03T09:06:08.303747Z",
     "iopub.status.idle": "2022-05-03T09:06:08.389289Z",
     "shell.execute_reply": "2022-05-03T09:06:08.388391Z"
    },
    "papermill": {
     "duration": 0.09954,
     "end_time": "2022-05-03T09:06:08.391496",
     "exception": false,
     "start_time": "2022-05-03T09:06:08.291956",
     "status": "completed"
    },
    "tags": []
   },
   "outputs": [
    {
     "name": "stdout",
     "output_type": "stream",
     "text": [
      "262144 32768 32768\n"
     ]
    }
   ],
   "source": [
    "data_dir = \"../input/patchcamelyon/\"\n",
    "\n",
    "train = PCamDataset(data_dir + \"camelyonpatch_level_2_split_train\", train_transforms)\n",
    "valid = PCamDataset(data_dir + \"camelyonpatch_level_2_split_valid\", test_transforms)\n",
    "test = PCamDataset(data_dir + \"camelyonpatch_level_2_split_test\", test_transforms)\n",
    "\n",
    "print(len(train), len(valid), len(test))"
   ]
  },
  {
   "cell_type": "code",
   "execution_count": 5,
   "id": "632ec3f4",
   "metadata": {
    "execution": {
     "iopub.execute_input": "2022-05-03T09:06:08.416754Z",
     "iopub.status.busy": "2022-05-03T09:06:08.416088Z",
     "iopub.status.idle": "2022-05-03T09:06:08.421534Z",
     "shell.execute_reply": "2022-05-03T09:06:08.420914Z"
    },
    "papermill": {
     "duration": 0.019338,
     "end_time": "2022-05-03T09:06:08.423193",
     "exception": false,
     "start_time": "2022-05-03T09:06:08.403855",
     "status": "completed"
    },
    "tags": []
   },
   "outputs": [],
   "source": [
    "train_loader = DataLoader(train, batch_size=8, shuffle=True, num_workers=0)\n",
    "valid_loader = DataLoader(valid, batch_size=8, shuffle=False, num_workers=0)\n",
    "test_loader = DataLoader(test, batch_size=8, shuffle=False, num_workers=0)"
   ]
  },
  {
   "cell_type": "code",
   "execution_count": 6,
   "id": "d84e41f1",
   "metadata": {
    "execution": {
     "iopub.execute_input": "2022-05-03T09:06:08.448672Z",
     "iopub.status.busy": "2022-05-03T09:06:08.448169Z",
     "iopub.status.idle": "2022-05-03T09:06:08.836838Z",
     "shell.execute_reply": "2022-05-03T09:06:08.835925Z"
    },
    "papermill": {
     "duration": 0.403523,
     "end_time": "2022-05-03T09:06:08.838959",
     "exception": false,
     "start_time": "2022-05-03T09:06:08.435436",
     "status": "completed"
    },
    "tags": []
   },
   "outputs": [],
   "source": [
    "import torchvision.models as models\n",
    "import torch.nn as nn\n",
    "\n",
    "resnet34 = models.resnet34(pretrained=False, progress=True)\n",
    "\n",
    "resnet34.fc = nn.Linear(512, 1)"
   ]
  },
  {
   "cell_type": "code",
   "execution_count": 7,
   "id": "7411a57a",
   "metadata": {
    "execution": {
     "iopub.execute_input": "2022-05-03T09:06:08.863998Z",
     "iopub.status.busy": "2022-05-03T09:06:08.863786Z",
     "iopub.status.idle": "2022-05-03T09:06:08.868359Z",
     "shell.execute_reply": "2022-05-03T09:06:08.867718Z"
    },
    "papermill": {
     "duration": 0.018928,
     "end_time": "2022-05-03T09:06:08.870135",
     "exception": false,
     "start_time": "2022-05-03T09:06:08.851207",
     "status": "completed"
    },
    "tags": []
   },
   "outputs": [],
   "source": [
    "import torch.optim as optim\n",
    "\n",
    "optimizer = optim.Adam(resnet34.parameters(), lr=learning_rate)\n",
    "criterion = nn.BCEWithLogitsLoss()"
   ]
  },
  {
   "cell_type": "code",
   "execution_count": 8,
   "id": "4e5b7724",
   "metadata": {
    "execution": {
     "iopub.execute_input": "2022-05-03T09:06:08.894140Z",
     "iopub.status.busy": "2022-05-03T09:06:08.893958Z",
     "iopub.status.idle": "2022-05-03T15:54:40.508577Z",
     "shell.execute_reply": "2022-05-03T15:54:40.507565Z"
    },
    "papermill": {
     "duration": 24511.653346,
     "end_time": "2022-05-03T15:54:40.534833",
     "exception": false,
     "start_time": "2022-05-03T09:06:08.881487",
     "status": "completed"
    },
    "tags": []
   },
   "outputs": [
    {
     "name": "stdout",
     "output_type": "stream",
     "text": [
      "Train Epoch: 1, Loss: 0.6102055311203003, Accuracy: 0.8293\n",
      "Valid Loss: 0.605073869228363, Valid Accuracy: 0.8016\n",
      "Train Epoch: 2, Loss: 0.5730081796646118, Accuracy: 0.8933\n",
      "Valid Loss: 0.6010828614234924, Valid Accuracy: 0.822\n",
      "Train Epoch: 3, Loss: 0.5604791641235352, Accuracy: 0.9128\n",
      "Valid Loss: 0.5939165353775024, Valid Accuracy: 0.8374\n",
      "Train Epoch: 4, Loss: 0.5536240339279175, Accuracy: 0.9242\n",
      "Valid Loss: 0.586732029914856, Valid Accuracy: 0.8398\n",
      "Train Epoch: 5, Loss: 0.5493146181106567, Accuracy: 0.9308\n",
      "Valid Loss: 0.6050955653190613, Valid Accuracy: 0.8112\n",
      "Train Epoch: 6, Loss: 0.5463975071907043, Accuracy: 0.9354\n",
      "Valid Loss: 0.5759325623512268, Valid Accuracy: 0.85\n",
      "Train Epoch: 7, Loss: 0.5438286662101746, Accuracy: 0.9397\n",
      "Valid Loss: 0.5775784254074097, Valid Accuracy: 0.8494\n",
      "Train Epoch: 8, Loss: 0.541728138923645, Accuracy: 0.9428\n",
      "Valid Loss: 0.5668585300445557, Valid Accuracy: 0.8672\n",
      "Train Epoch: 9, Loss: 0.5404383540153503, Accuracy: 0.9445\n",
      "Valid Loss: 0.5716025829315186, Valid Accuracy: 0.8646\n",
      "Train Epoch: 10, Loss: 0.5388008952140808, Accuracy: 0.9473\n",
      "Valid Loss: 0.5751069784164429, Valid Accuracy: 0.8583\n",
      "Train Epoch: 11, Loss: 0.5375394821166992, Accuracy: 0.949\n",
      "Valid Loss: 0.5701759457588196, Valid Accuracy: 0.8702\n",
      "Train Epoch: 12, Loss: 0.5366063714027405, Accuracy: 0.9506\n",
      "Valid Loss: 0.5731441974639893, Valid Accuracy: 0.8603\n",
      "Train Epoch: 13, Loss: 0.5355995893478394, Accuracy: 0.9521\n",
      "Valid Loss: 0.5713605880737305, Valid Accuracy: 0.8637\n",
      "Train Epoch: 14, Loss: 0.5343620777130127, Accuracy: 0.9538\n",
      "Valid Loss: 0.5698930621147156, Valid Accuracy: 0.8608\n",
      "Train Epoch: 15, Loss: 0.5333754420280457, Accuracy: 0.9552\n",
      "Valid Loss: 0.5685620307922363, Valid Accuracy: 0.8748\n",
      "Train Epoch: 16, Loss: 0.5327324271202087, Accuracy: 0.9564\n",
      "Valid Loss: 0.5664154291152954, Valid Accuracy: 0.8761\n",
      "Train Epoch: 17, Loss: 0.5319279432296753, Accuracy: 0.9576\n",
      "Valid Loss: 0.5635809302330017, Valid Accuracy: 0.8796\n",
      "Train Epoch: 18, Loss: 0.5314780473709106, Accuracy: 0.9579\n",
      "Valid Loss: 0.56401127576828, Valid Accuracy: 0.8705\n",
      "Train Epoch: 19, Loss: 0.5306769609451294, Accuracy: 0.9595\n",
      "Valid Loss: 0.5621944069862366, Valid Accuracy: 0.8677\n",
      "Train Epoch: 20, Loss: 0.5299397706985474, Accuracy: 0.9605\n",
      "Valid Loss: 0.564112663269043, Valid Accuracy: 0.8658\n",
      "CPU times: user 6h 4min 26s, sys: 17min 43s, total: 6h 22min 9s\n",
      "Wall time: 6h 48min 31s\n"
     ]
    }
   ],
   "source": [
    "%%time\n",
    "\n",
    "epochs = 20\n",
    "train_loss_history = np.empty(0)\n",
    "train_accuracy_history = np.empty(0)\n",
    "valid_loss_history = np.empty(0)\n",
    "valid_accuracy_history = np.empty(0)\n",
    "\n",
    "resnet34 = resnet34.to(device)\n",
    "\n",
    "resnet34.train()\n",
    "for epoch in range(epochs):\n",
    "    preds_in_current_epoch = torch.empty(0, device=device)\n",
    "    labels_in_current_epoch = torch.empty(0, device=device)\n",
    "    for batch_idx, (data, target) in enumerate(train_loader):\n",
    "        data, target = data.to(device), target.to(device)\n",
    "        target = torch.reshape(target, (8, 1)).float()\n",
    "        optimizer.zero_grad()\n",
    "        out = resnet34(data)\n",
    "        loss = criterion(out, target)\n",
    "        loss.backward()\n",
    "        optimizer.step()\n",
    "        preds_in_current_epoch = torch.cat((preds_in_current_epoch, torch.sigmoid(out)))\n",
    "        labels_in_current_epoch = torch.cat((labels_in_current_epoch, target))\n",
    "    \n",
    "    labels_in_current_epoch = torch.squeeze(labels_in_current_epoch)\n",
    "    total = len(labels_in_current_epoch)\n",
    "    preds_in_current_epoch = torch.squeeze(preds_in_current_epoch)\n",
    "    correct = ((preds_in_current_epoch > 0.5).float() == labels_in_current_epoch).sum().item()\n",
    "    loss = criterion(preds_in_current_epoch, labels_in_current_epoch)\n",
    "    accuracy = round(correct / total, 4)\n",
    "    \n",
    "    train_accuracy_history = np.append(train_accuracy_history, accuracy)\n",
    "    train_loss_history = np.append(train_loss_history, loss.cpu().detach().numpy())\n",
    "\n",
    "    print(f\"Train Epoch: {epoch + 1}, Loss: {loss}, Accuracy: {accuracy}\")\n",
    "    \n",
    "    valid_labels = (torch.squeeze(torch.as_tensor(valid.y))).to(device)\n",
    "\n",
    "    with torch.no_grad():\n",
    "        predictions = torch.Tensor().float().to(device)\n",
    "\n",
    "        for batch_idx, (data, target) in enumerate(valid_loader):\n",
    "            data, target = data.to(device), target.to(device)\n",
    "            target = torch.reshape(target, (8, 1)).float()\n",
    "            out = resnet34(data)\n",
    "            predictions = torch.cat((predictions, torch.sigmoid(out)))\n",
    "\n",
    "        total = valid_labels.shape[0]\n",
    "        predictions = torch.squeeze(predictions)\n",
    "        correct = ((predictions > 0.5).float() == valid_labels).sum().item()\n",
    "        loss = criterion(predictions, valid_labels.float())\n",
    "        accuracy = round(correct / total, 4)\n",
    "                                    \n",
    "        valid_accuracy_history = np.append(valid_accuracy_history, accuracy)\n",
    "        valid_loss_history = np.append(valid_loss_history, loss.cpu().detach().numpy())\n",
    "\n",
    "        print(f\"Valid Loss: {loss}, Valid Accuracy: {accuracy}\")\n",
    "\n",
    "resnet34.eval()\n",
    "torch.save(resnet34.state_dict(), \"checkpoint.pth\")"
   ]
  },
  {
   "cell_type": "code",
   "execution_count": 9,
   "id": "6238e3d9",
   "metadata": {
    "execution": {
     "iopub.execute_input": "2022-05-03T15:54:40.587250Z",
     "iopub.status.busy": "2022-05-03T15:54:40.586678Z",
     "iopub.status.idle": "2022-05-03T15:55:41.955397Z",
     "shell.execute_reply": "2022-05-03T15:55:41.954322Z"
    },
    "papermill": {
     "duration": 61.41441,
     "end_time": "2022-05-03T15:55:41.974260",
     "exception": false,
     "start_time": "2022-05-03T15:54:40.559850",
     "status": "completed"
    },
    "tags": []
   },
   "outputs": [
    {
     "name": "stdout",
     "output_type": "stream",
     "text": [
      "Test Loss: 0.5743542909622192\n",
      "Test Accuracy: 0.83328\n",
      "              precision    recall  f1-score   support\n",
      "\n",
      "           +       0.76      0.96      0.85     16391\n",
      "           -       0.95      0.70      0.81     16377\n",
      "\n",
      "    accuracy                           0.83     32768\n",
      "   macro avg       0.86      0.83      0.83     32768\n",
      "weighted avg       0.86      0.83      0.83     32768\n",
      "\n",
      "0.8332265441421445\n"
     ]
    }
   ],
   "source": [
    "from sklearn.metrics import classification_report\n",
    "from sklearn.metrics import roc_auc_score\n",
    "\n",
    "classes = ['+', '-']\n",
    "test_labels = (torch.squeeze(torch.Tensor(test.y))).to(device)\n",
    "\n",
    "with torch.no_grad():\n",
    "    predictions = torch.empty(0, device=device)\n",
    "    \n",
    "    for batch_idx, (data, target) in enumerate(test_loader):\n",
    "        data, target = data.to(device), target.to(device)\n",
    "        target = torch.reshape(target, (8, 1)).float()\n",
    "        out = resnet34(data)\n",
    "        loss = criterion(out, target)\n",
    "        predictions = torch.cat((predictions, torch.sigmoid(out)))\n",
    "                                \n",
    "    total = test_labels.shape[0]\n",
    "    predictions = torch.squeeze(predictions)\n",
    "    correct = ((predictions > 0.5).float() == test_labels).sum().item()\n",
    "    loss = criterion(predictions, test_labels)\n",
    "    accuracy = round(correct / total, 5)\n",
    "                                \n",
    "    print(f\"Test Loss: {loss}\\nTest Accuracy: {accuracy}\")\n",
    "    \n",
    "    predictions = predictions.cpu().detach().numpy()\n",
    "    for i in range(len(predictions)):\n",
    "        predictions[i] = 1.0 if predictions[i] > 0.5 else 0.0\n",
    "    \n",
    "    print(classification_report(test_labels.cpu().detach().numpy(), \n",
    "                                predictions, \n",
    "                                target_names=classes))\n",
    "    print(roc_auc_score(test_labels.cpu().detach().numpy(), predictions))"
   ]
  },
  {
   "cell_type": "code",
   "execution_count": 10,
   "id": "56c80c0a",
   "metadata": {
    "execution": {
     "iopub.execute_input": "2022-05-03T15:55:42.066990Z",
     "iopub.status.busy": "2022-05-03T15:55:42.066723Z",
     "iopub.status.idle": "2022-05-03T15:55:42.467791Z",
     "shell.execute_reply": "2022-05-03T15:55:42.467078Z"
    },
    "papermill": {
     "duration": 0.448469,
     "end_time": "2022-05-03T15:55:42.470371",
     "exception": false,
     "start_time": "2022-05-03T15:55:42.021902",
     "status": "completed"
    },
    "tags": []
   },
   "outputs": [
    {
     "data": {
      "image/png": "[encoded data removed]",
      "text/plain": [
       "<Figure size 432x288 with 1 Axes>"
      ]
     },
     "metadata": {
      "needs_background": "light"
     },
     "output_type": "display_data"
    }
   ],
   "source": [
    "train_loss_idx = list(range(0, len(train_loss_history)))\n",
    "valid_loss_idx = list(range(0, len(valid_loss_history)))\n",
    "\n",
    "plt.plot(train_loss_idx, train_loss_history, label=\"train_loss\")\n",
    "plt.plot(valid_loss_idx, valid_loss_history, label=\"valid_loss\")\n",
    "\n",
    "plt.xlabel(\"Epoch\")\n",
    "plt.ylabel(\"Loss\")\n",
    "\n",
    "plt.title(\"Loss changing\")\n",
    "\n",
    "plt.legend()\n",
    "plt.show()"
   ]
  },
  {
   "cell_type": "code",
   "execution_count": 11,
   "id": "e1c63de5",
   "metadata": {
    "execution": {
     "iopub.execute_input": "2022-05-03T15:55:42.525409Z",
     "iopub.status.busy": "2022-05-03T15:55:42.525167Z",
     "iopub.status.idle": "2022-05-03T15:55:42.742862Z",
     "shell.execute_reply": "2022-05-03T15:55:42.742099Z"
    },
    "papermill": {
     "duration": 0.246803,
     "end_time": "2022-05-03T15:55:42.744904",
     "exception": false,
     "start_time": "2022-05-03T15:55:42.498101",
     "status": "completed"
    },
    "tags": []
   },
   "outputs": [
    {
     "data": {
      "image/png": "[encoded data removed]",
      "text/plain": [
       "<Figure size 432x288 with 1 Axes>"
      ]
     },
     "metadata": {
      "needs_background": "light"
     },
     "output_type": "display_data"
    }
   ],
   "source": [
    "train_accuracy_idx = list(range(0, len(train_accuracy_history)))\n",
    "valid_accuracy_idx = list(range(0, len(valid_accuracy_history)))\n",
    "\n",
    "plt.plot(train_accuracy_idx, train_accuracy_history, label=\"train_accuracy\")\n",
    "plt.plot(valid_accuracy_idx, valid_accuracy_history, label=\"valid_accuracy\")\n",
    "\n",
    "plt.xlabel(\"Epoch\")\n",
    "plt.ylabel(\"Accuracy\")\n",
    "\n",
    "plt.title(\"Accuracy changing\")\n",
    "\n",
    "plt.legend()\n",
    "plt.show()"
   ]
  },
  {
   "cell_type": "code",
   "execution_count": null,
   "id": "38e86cfa",
   "metadata": {
    "papermill": {
     "duration": 0.027977,
     "end_time": "2022-05-03T15:55:42.800596",
     "exception": false,
     "start_time": "2022-05-03T15:55:42.772619",
     "status": "completed"
    },
    "tags": []
   },
   "outputs": [],
   "source": []
  }
 ],
 "metadata": {
  "kernelspec": {
   "display_name": "Python 3",
   "language": "python",
   "name": "python3"
  },
  "language_info": {
   "codemirror_mode": {
    "name": "ipython",
    "version": 3
   },
   "file_extension": ".py",
   "mimetype": "text/x-python",
   "name": "python",
   "nbconvert_exporter": "python",
   "pygments_lexer": "ipython3",
   "version": "3.7.12"
  },
  "papermill": {
   "default_parameters": {},
   "duration": 24587.494482,
   "end_time": "2022-05-03T15:55:45.708384",
   "environment_variables": {},
   "exception": null,
   "input_path": "__notebook__.ipynb",
   "output_path": "__notebook__.ipynb",
   "parameters": {},
   "start_time": "2022-05-03T09:05:58.213902",
   "version": "2.3.4"
  }
 },
 "nbformat": 4,
 "nbformat_minor": 5
}
