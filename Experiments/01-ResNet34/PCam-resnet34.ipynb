{
 "cells": [
  {
   "cell_type": "code",
   "execution_count": 1,
   "id": "4e83b158",
   "metadata": {
    "_cell_guid": "b1076dfc-b9ad-4769-8c92-a6c4dae69d19",
    "_uuid": "8f2839f25d086af736a60e9eeb907d3b93b6e0e5",
    "execution": {
     "iopub.execute_input": "2022-04-30T10:02:36.909818Z",
     "iopub.status.busy": "2022-04-30T10:02:36.909196Z",
     "iopub.status.idle": "2022-04-30T10:02:38.684092Z",
     "shell.execute_reply": "2022-04-30T10:02:38.683145Z"
    },
    "papermill": {
     "duration": 1.805787,
     "end_time": "2022-04-30T10:02:38.687095",
     "exception": false,
     "start_time": "2022-04-30T10:02:36.881308",
     "status": "completed"
    },
    "tags": []
   },
   "outputs": [],
   "source": [
    "import numpy as np\n",
    "import pandas as pd\n",
    "import warnings\n",
    "import random\n",
    "import h5py\n",
    "import torch\n",
    "import matplotlib as plt\n",
    "\n",
    "from matplotlib import pyplot\n",
    "from IPython.display import display\n",
    "from torch.utils.data import DataLoader, Dataset\n",
    "from torch.utils import data\n",
    "from PIL import Image, ImageDraw\n",
    "\n",
    "\n",
    "warnings.filterwarnings('ignore')\n",
    "\n",
    "%matplotlib inline\n",
    "\n",
    "SEED = 21\n",
    "random.seed(SEED)\n",
    "np.random.seed(SEED)"
   ]
  },
  {
   "cell_type": "code",
   "execution_count": 2,
   "id": "76ae02ef",
   "metadata": {
    "execution": {
     "iopub.execute_input": "2022-04-30T10:02:38.726299Z",
     "iopub.status.busy": "2022-04-30T10:02:38.725946Z",
     "iopub.status.idle": "2022-04-30T10:02:38.975838Z",
     "shell.execute_reply": "2022-04-30T10:02:38.974112Z"
    },
    "papermill": {
     "duration": 0.271291,
     "end_time": "2022-04-30T10:02:38.977764",
     "exception": false,
     "start_time": "2022-04-30T10:02:38.706473",
     "status": "completed"
    },
    "tags": []
   },
   "outputs": [
    {
     "name": "stdout",
     "output_type": "stream",
     "text": [
      "cuda\n"
     ]
    }
   ],
   "source": [
    "from torchvision import transforms\n",
    "\n",
    "device = (\"cuda\" if torch.cuda.is_available() else \"cpu\")\n",
    "learning_rate = 0.01\n",
    "image_size = 96\n",
    "\n",
    "train_transforms = transforms.Compose([\n",
    "    transforms.RandomVerticalFlip(),\n",
    "    transforms.RandomHorizontalFlip(),\n",
    "    transforms.Resize(image_size), \n",
    "    transforms.CenterCrop(image_size),\n",
    "    transforms.ToTensor(),\n",
    "    transforms.Normalize((0.5, 0.5, 0.5), (0.5, 0.5, 0.5))\n",
    "])\n",
    "\n",
    "test_transforms = transforms.Compose([\n",
    "    transforms.ToTensor(),\n",
    "    transforms.Normalize((0.5, 0.5, 0.5), (0.5, 0.5, 0.5))\n",
    "])\n",
    "\n",
    "print(device)"
   ]
  },
  {
   "cell_type": "code",
   "execution_count": 3,
   "id": "90a51395",
   "metadata": {
    "execution": {
     "iopub.execute_input": "2022-04-30T10:02:39.001066Z",
     "iopub.status.busy": "2022-04-30T10:02:39.000875Z",
     "iopub.status.idle": "2022-04-30T10:02:39.007352Z",
     "shell.execute_reply": "2022-04-30T10:02:39.006536Z"
    },
    "papermill": {
     "duration": 0.020302,
     "end_time": "2022-04-30T10:02:39.009374",
     "exception": false,
     "start_time": "2022-04-30T10:02:38.989072",
     "status": "completed"
    },
    "tags": []
   },
   "outputs": [],
   "source": [
    "class PCamDataset(Dataset):\n",
    "    def __init__(self, path, transforms):\n",
    "        self.path = path\n",
    "        self.X = h5py.File(self.path +'_x.h5', 'r')['x']\n",
    "        self.y = h5py.File(self.path +'_y.h5', 'r')['y']\n",
    "        self.transforms = transforms\n",
    "\n",
    "    def __getitem__(self, index):\n",
    "        return (self.transforms(Image.fromarray(self.X[index,:,:,:])), self.y[index])\n",
    "\n",
    "    def __len__(self):\n",
    "        assert len(self.X) == len(self.y)\n",
    "        return len(self.X)"
   ]
  },
  {
   "cell_type": "code",
   "execution_count": 4,
   "id": "efaf4973",
   "metadata": {
    "execution": {
     "iopub.execute_input": "2022-04-30T10:02:39.032527Z",
     "iopub.status.busy": "2022-04-30T10:02:39.032041Z",
     "iopub.status.idle": "2022-04-30T10:02:39.072661Z",
     "shell.execute_reply": "2022-04-30T10:02:39.071998Z"
    },
    "papermill": {
     "duration": 0.053865,
     "end_time": "2022-04-30T10:02:39.074304",
     "exception": false,
     "start_time": "2022-04-30T10:02:39.020439",
     "status": "completed"
    },
    "tags": []
   },
   "outputs": [
    {
     "name": "stdout",
     "output_type": "stream",
     "text": [
      "262144 32768 32768\n"
     ]
    }
   ],
   "source": [
    "data_dir = \"../input/patchcamelyon/\"\n",
    "\n",
    "train = PCamDataset(data_dir + \"camelyonpatch_level_2_split_train\", train_transforms)\n",
    "valid = PCamDataset(data_dir + \"camelyonpatch_level_2_split_valid\", test_transforms)\n",
    "test = PCamDataset(data_dir + \"camelyonpatch_level_2_split_test\", test_transforms)\n",
    "\n",
    "print(len(train), len(valid), len(test))"
   ]
  },
  {
   "cell_type": "code",
   "execution_count": 5,
   "id": "8ddbd69f",
   "metadata": {
    "execution": {
     "iopub.execute_input": "2022-04-30T10:02:39.097749Z",
     "iopub.status.busy": "2022-04-30T10:02:39.097559Z",
     "iopub.status.idle": "2022-04-30T10:02:39.102082Z",
     "shell.execute_reply": "2022-04-30T10:02:39.101308Z"
    },
    "papermill": {
     "duration": 0.018233,
     "end_time": "2022-04-30T10:02:39.103861",
     "exception": false,
     "start_time": "2022-04-30T10:02:39.085628",
     "status": "completed"
    },
    "tags": []
   },
   "outputs": [],
   "source": [
    "train_loader = DataLoader(train, batch_size=8, shuffle=True, num_workers=0)\n",
    "valid_loader = DataLoader(valid, batch_size=8, shuffle=False, num_workers=0)\n",
    "test_loader = DataLoader(test, batch_size=8, shuffle=False, num_workers=0)"
   ]
  },
  {
   "cell_type": "code",
   "execution_count": 6,
   "id": "87d9bdc7",
   "metadata": {
    "execution": {
     "iopub.execute_input": "2022-04-30T10:02:39.127078Z",
     "iopub.status.busy": "2022-04-30T10:02:39.126902Z",
     "iopub.status.idle": "2022-04-30T10:02:39.507685Z",
     "shell.execute_reply": "2022-04-30T10:02:39.506927Z"
    },
    "papermill": {
     "duration": 0.394691,
     "end_time": "2022-04-30T10:02:39.509788",
     "exception": false,
     "start_time": "2022-04-30T10:02:39.115097",
     "status": "completed"
    },
    "tags": []
   },
   "outputs": [],
   "source": [
    "import torchvision.models as models\n",
    "import torch.nn as nn\n",
    "\n",
    "resnet34 = models.resnet34(pretrained=False, progress=True)\n",
    "\n",
    "resnet34.fc = nn.Linear(512, 1)"
   ]
  },
  {
   "cell_type": "code",
   "execution_count": 7,
   "id": "14b0e2a7",
   "metadata": {
    "execution": {
     "iopub.execute_input": "2022-04-30T10:02:39.534512Z",
     "iopub.status.busy": "2022-04-30T10:02:39.534300Z",
     "iopub.status.idle": "2022-04-30T10:02:39.538908Z",
     "shell.execute_reply": "2022-04-30T10:02:39.538239Z"
    },
    "papermill": {
     "duration": 0.018977,
     "end_time": "2022-04-30T10:02:39.540898",
     "exception": false,
     "start_time": "2022-04-30T10:02:39.521921",
     "status": "completed"
    },
    "tags": []
   },
   "outputs": [],
   "source": [
    "import torch.optim as optim\n",
    "\n",
    "optimizer = optim.Adam(resnet34.parameters(), lr=learning_rate)\n",
    "criterion = nn.BCEWithLogitsLoss()"
   ]
  },
  {
   "cell_type": "code",
   "execution_count": 8,
   "id": "332065a8",
   "metadata": {
    "execution": {
     "iopub.execute_input": "2022-04-30T10:02:39.565052Z",
     "iopub.status.busy": "2022-04-30T10:02:39.564858Z",
     "iopub.status.idle": "2022-04-30T14:46:18.281976Z",
     "shell.execute_reply": "2022-04-30T14:46:18.281185Z"
    },
    "papermill": {
     "duration": 17018.744661,
     "end_time": "2022-04-30T14:46:18.297417",
     "exception": false,
     "start_time": "2022-04-30T10:02:39.552756",
     "status": "completed"
    },
    "tags": []
   },
   "outputs": [
    {
     "name": "stdout",
     "output_type": "stream",
     "text": [
      "Train Epoch: 1, Loss: 0.6121005415916443, Accuracy: 0.8257\n",
      "Valid Loss: 0.6251205205917358, Valid Accuracy: 0.7808\n",
      "Train Epoch: 2, Loss: 0.5756344795227051, Accuracy: 0.8885\n",
      "Valid Loss: 0.590576708316803, Valid Accuracy: 0.8358\n",
      "Train Epoch: 3, Loss: 0.5637537240982056, Accuracy: 0.9076\n",
      "Valid Loss: 0.5917940139770508, Valid Accuracy: 0.8339\n",
      "Train Epoch: 4, Loss: 0.5567260384559631, Accuracy: 0.9192\n",
      "Valid Loss: 0.590101420879364, Valid Accuracy: 0.847\n",
      "Train Epoch: 5, Loss: 0.5522079467773438, Accuracy: 0.9266\n",
      "Valid Loss: 0.5824053287506104, Valid Accuracy: 0.8213\n",
      "Train Epoch: 6, Loss: 0.5491288304328918, Accuracy: 0.9311\n",
      "Valid Loss: 0.5777697563171387, Valid Accuracy: 0.8321\n",
      "Train Epoch: 7, Loss: 0.5469257831573486, Accuracy: 0.9345\n",
      "Valid Loss: 0.577904224395752, Valid Accuracy: 0.8332\n",
      "Train Epoch: 8, Loss: 0.5448039770126343, Accuracy: 0.9378\n",
      "Valid Loss: 0.5764493942260742, Valid Accuracy: 0.8579\n",
      "Train Epoch: 9, Loss: 0.5429887771606445, Accuracy: 0.9409\n",
      "Valid Loss: 0.569709062576294, Valid Accuracy: 0.8624\n",
      "Train Epoch: 10, Loss: 0.5414011478424072, Accuracy: 0.9433\n",
      "Valid Loss: 0.5704843997955322, Valid Accuracy: 0.8671\n",
      "Train Epoch: 11, Loss: 0.5401573181152344, Accuracy: 0.945\n",
      "Valid Loss: 0.5671005249023438, Valid Accuracy: 0.8701\n",
      "Train Epoch: 12, Loss: 0.5391296744346619, Accuracy: 0.9466\n",
      "Valid Loss: 0.5697287321090698, Valid Accuracy: 0.8641\n",
      "Train Epoch: 13, Loss: 0.5378953814506531, Accuracy: 0.9485\n",
      "Valid Loss: 0.5689456462860107, Valid Accuracy: 0.861\n",
      "Train Epoch: 14, Loss: 0.5367641448974609, Accuracy: 0.9505\n",
      "Valid Loss: 0.572089672088623, Valid Accuracy: 0.85\n",
      "Train Epoch: 15, Loss: 0.5362622737884521, Accuracy: 0.951\n",
      "Valid Loss: 0.5686166286468506, Valid Accuracy: 0.8649\n",
      "CPU times: user 4h 13min 35s, sys: 12min 36s, total: 4h 26min 12s\n",
      "Wall time: 4h 43min 38s\n"
     ]
    }
   ],
   "source": [
    "%%time\n",
    "\n",
    "epochs = 15\n",
    "train_loss_history = np.empty(0)\n",
    "train_accuracy_history = np.empty(0)\n",
    "valid_loss_history = np.empty(0)\n",
    "valid_accuracy_history = np.empty(0)\n",
    "\n",
    "resnet34 = resnet34.to(device)\n",
    "\n",
    "resnet34.train()\n",
    "for epoch in range(epochs):\n",
    "    preds_in_current_epoch = torch.empty(0, device=device)\n",
    "    labels_in_current_epoch = torch.empty(0, device=device)\n",
    "    for batch_idx, (data, target) in enumerate(train_loader):\n",
    "        data, target = data.to(device), target.to(device)\n",
    "        target = torch.reshape(target, (8, 1)).float()\n",
    "        optimizer.zero_grad()\n",
    "        out = resnet34(data)\n",
    "        loss = criterion(out, target)\n",
    "        loss.backward()\n",
    "        optimizer.step()\n",
    "        preds_in_current_epoch = torch.cat((preds_in_current_epoch, torch.sigmoid(out)))\n",
    "        labels_in_current_epoch = torch.cat((labels_in_current_epoch, target))\n",
    "    \n",
    "    labels_in_current_epoch = torch.squeeze(labels_in_current_epoch)\n",
    "    total = len(labels_in_current_epoch)\n",
    "    preds_in_current_epoch = torch.squeeze(preds_in_current_epoch)\n",
    "    correct = ((preds_in_current_epoch > 0.5).float() == labels_in_current_epoch).sum().item()\n",
    "    loss = criterion(preds_in_current_epoch, labels_in_current_epoch)\n",
    "    accuracy = round(correct / total, 4)\n",
    "    \n",
    "    train_accuracy_history = np.append(train_accuracy_history, accuracy)\n",
    "    train_loss_history = np.append(train_loss_history, loss.cpu().detach().numpy())\n",
    "\n",
    "    print(f\"Train Epoch: {epoch + 1}, Loss: {loss}, Accuracy: {accuracy}\")\n",
    "    \n",
    "    valid_labels = (torch.squeeze(torch.as_tensor(valid.y))).to(device)\n",
    "\n",
    "    with torch.no_grad():\n",
    "        predictions = torch.Tensor().float().to(device)\n",
    "\n",
    "        for batch_idx, (data, target) in enumerate(valid_loader):\n",
    "            data, target = data.to(device), target.to(device)\n",
    "            target = torch.reshape(target, (8, 1)).float()\n",
    "            out = resnet34(data)\n",
    "            predictions = torch.cat((predictions, torch.sigmoid(out)))\n",
    "\n",
    "        total = valid_labels.shape[0]\n",
    "        predictions = torch.squeeze(predictions)\n",
    "        correct = ((predictions > 0.5).float() == valid_labels).sum().item()\n",
    "        loss = criterion(predictions, valid_labels.float())\n",
    "        accuracy = round(correct / total, 4)\n",
    "                                    \n",
    "        valid_accuracy_history = np.append(valid_accuracy_history, accuracy)\n",
    "        valid_loss_history = np.append(valid_loss_history, loss.cpu().detach().numpy())\n",
    "\n",
    "        print(f\"Valid Loss: {loss}, Valid Accuracy: {accuracy}\")\n",
    "\n",
    "resnet34.eval()\n",
    "torch.save(resnet34.state_dict(), \"checkpoint.pth\")"
   ]
  },
  {
   "cell_type": "code",
   "execution_count": 9,
   "id": "af934e20",
   "metadata": {
    "execution": {
     "iopub.execute_input": "2022-04-30T14:46:18.343474Z",
     "iopub.status.busy": "2022-04-30T14:46:18.343085Z",
     "iopub.status.idle": "2022-04-30T14:47:12.907747Z",
     "shell.execute_reply": "2022-04-30T14:47:12.906326Z"
    },
    "papermill": {
     "duration": 54.61082,
     "end_time": "2022-04-30T14:47:12.931040",
     "exception": false,
     "start_time": "2022-04-30T14:46:18.320220",
     "status": "completed"
    },
    "tags": []
   },
   "outputs": [
    {
     "name": "stdout",
     "output_type": "stream",
     "text": [
      "Test Loss: 0.5690137147903442\n",
      "Test Accuracy: 0.86053\n",
      "              precision    recall  f1-score   support\n",
      "\n",
      "           +       0.81      0.95      0.87     16391\n",
      "           -       0.94      0.77      0.85     16377\n",
      "\n",
      "    accuracy                           0.86     32768\n",
      "   macro avg       0.87      0.86      0.86     32768\n",
      "weighted avg       0.87      0.86      0.86     32768\n",
      "\n"
     ]
    }
   ],
   "source": [
    "from sklearn.metrics import classification_report\n",
    "\n",
    "classes = ['+', '-']\n",
    "test_labels = (torch.squeeze(torch.Tensor(test.y))).to(device)\n",
    "\n",
    "with torch.no_grad():\n",
    "    predictions = torch.empty(0, device=device)\n",
    "    \n",
    "    for batch_idx, (data, target) in enumerate(test_loader):\n",
    "        data, target = data.to(device), target.to(device)\n",
    "        target = torch.reshape(target, (8, 1)).float()\n",
    "        out = resnet34(data)\n",
    "        loss = criterion(out, target)\n",
    "        predictions = torch.cat((predictions, torch.sigmoid(out)))\n",
    "                                \n",
    "    total = test_labels.shape[0]\n",
    "    predictions = torch.squeeze(predictions)\n",
    "    correct = ((predictions > 0.5).float() == test_labels).sum().item()\n",
    "    loss = criterion(predictions, test_labels)\n",
    "    accuracy = round(correct / total, 5)\n",
    "                                \n",
    "    print(f\"Test Loss: {loss}\\nTest Accuracy: {accuracy}\")\n",
    "    \n",
    "    predictions = predictions.cpu().detach().numpy()\n",
    "    for i in range(len(predictions)):\n",
    "        predictions[i] = 1.0 if predictions[i] > 0.5 else 0.0\n",
    "    \n",
    "    print(classification_report(test_labels.cpu().detach().numpy(), \n",
    "                                predictions, \n",
    "                                target_names=classes))"
   ]
  },
  {
   "cell_type": "code",
   "execution_count": 10,
   "id": "145aa508",
   "metadata": {
    "execution": {
     "iopub.execute_input": "2022-04-30T14:47:12.974761Z",
     "iopub.status.busy": "2022-04-30T14:47:12.974555Z",
     "iopub.status.idle": "2022-04-30T14:47:13.133992Z",
     "shell.execute_reply": "2022-04-30T14:47:13.133131Z"
    },
    "papermill": {
     "duration": 0.182452,
     "end_time": "2022-04-30T14:47:13.135453",
     "exception": true,
     "start_time": "2022-04-30T14:47:12.953001",
     "status": "failed"
    },
    "tags": []
   },
   "outputs": [
    {
     "ename": "AttributeError",
     "evalue": "module 'matplotlib' has no attribute 'plot'",
     "output_type": "error",
     "traceback": [
      "\u001b[0;31m---------------------------------------------------------------------------\u001b[0m",
      "\u001b[0;31mAttributeError\u001b[0m                            Traceback (most recent call last)",
      "\u001b[0;32m/tmp/ipykernel_23/725321471.py\u001b[0m in \u001b[0;36m<module>\u001b[0;34m\u001b[0m\n\u001b[1;32m      2\u001b[0m \u001b[0mvalid_loss_idx\u001b[0m \u001b[0;34m=\u001b[0m \u001b[0mlist\u001b[0m\u001b[0;34m(\u001b[0m\u001b[0mrange\u001b[0m\u001b[0;34m(\u001b[0m\u001b[0;36m0\u001b[0m\u001b[0;34m,\u001b[0m \u001b[0mlen\u001b[0m\u001b[0;34m(\u001b[0m\u001b[0mvalid_loss_history\u001b[0m\u001b[0;34m)\u001b[0m\u001b[0;34m)\u001b[0m\u001b[0;34m)\u001b[0m\u001b[0;34m\u001b[0m\u001b[0;34m\u001b[0m\u001b[0m\n\u001b[1;32m      3\u001b[0m \u001b[0;34m\u001b[0m\u001b[0m\n\u001b[0;32m----> 4\u001b[0;31m \u001b[0mplt\u001b[0m\u001b[0;34m.\u001b[0m\u001b[0mplot\u001b[0m\u001b[0;34m(\u001b[0m\u001b[0mtrain_loss_idx\u001b[0m\u001b[0;34m,\u001b[0m \u001b[0mtrain_loss_history\u001b[0m\u001b[0;34m,\u001b[0m \u001b[0mlabel\u001b[0m\u001b[0;34m=\u001b[0m\u001b[0;34m\"train_loss\"\u001b[0m\u001b[0;34m)\u001b[0m\u001b[0;34m\u001b[0m\u001b[0;34m\u001b[0m\u001b[0m\n\u001b[0m\u001b[1;32m      5\u001b[0m \u001b[0mplt\u001b[0m\u001b[0;34m.\u001b[0m\u001b[0mplot\u001b[0m\u001b[0;34m(\u001b[0m\u001b[0mtvalid_loss_idx\u001b[0m\u001b[0;34m,\u001b[0m \u001b[0mvalid_loss_history\u001b[0m\u001b[0;34m,\u001b[0m \u001b[0mlabel\u001b[0m\u001b[0;34m=\u001b[0m\u001b[0;34m\"valid_loss\"\u001b[0m\u001b[0;34m)\u001b[0m\u001b[0;34m\u001b[0m\u001b[0;34m\u001b[0m\u001b[0m\n\u001b[1;32m      6\u001b[0m \u001b[0;34m\u001b[0m\u001b[0m\n",
      "\u001b[0;32m/opt/conda/lib/python3.7/site-packages/matplotlib/_api/__init__.py\u001b[0m in \u001b[0;36m__getattr__\u001b[0;34m(name)\u001b[0m\n\u001b[1;32m    221\u001b[0m             \u001b[0;32mreturn\u001b[0m \u001b[0mprops\u001b[0m\u001b[0;34m[\u001b[0m\u001b[0mname\u001b[0m\u001b[0;34m]\u001b[0m\u001b[0;34m.\u001b[0m\u001b[0m__get__\u001b[0m\u001b[0;34m(\u001b[0m\u001b[0minstance\u001b[0m\u001b[0;34m)\u001b[0m\u001b[0;34m\u001b[0m\u001b[0;34m\u001b[0m\u001b[0m\n\u001b[1;32m    222\u001b[0m         raise AttributeError(\n\u001b[0;32m--> 223\u001b[0;31m             f\"module {cls.__module__!r} has no attribute {name!r}\")\n\u001b[0m\u001b[1;32m    224\u001b[0m \u001b[0;34m\u001b[0m\u001b[0m\n\u001b[1;32m    225\u001b[0m     \u001b[0;32mreturn\u001b[0m \u001b[0m__getattr__\u001b[0m\u001b[0;34m\u001b[0m\u001b[0;34m\u001b[0m\u001b[0m\n",
      "\u001b[0;31mAttributeError\u001b[0m: module 'matplotlib' has no attribute 'plot'"
     ]
    }
   ],
   "source": [
    "train_loss_idx = list(range(0, len(train_loss_history)))\n",
    "valid_loss_idx = list(range(0, len(valid_loss_history)))\n",
    "\n",
    "plt.plot(train_loss_idx, train_loss_history, label=\"train_loss\")\n",
    "plt.plot(tvalid_loss_idx, valid_loss_history, label=\"valid_loss\")\n",
    "\n",
    "plt.xlabel(\"Epoch\")\n",
    "plt.ylabel(\"Loss\")\n",
    "\n",
    "plt.title(\"Loss changing\")\n",
    "\n",
    "plt.legend()\n",
    "plt.show()"
   ]
  },
  {
   "cell_type": "code",
   "execution_count": null,
   "id": "f3f2e55b",
   "metadata": {
    "papermill": {
     "duration": null,
     "end_time": null,
     "exception": null,
     "start_time": null,
     "status": "pending"
    },
    "tags": []
   },
   "outputs": [],
   "source": [
    "train_accuracy_idx = list(range(0, len(train_accuracy_history)))\n",
    "valid_accuracy_idx = list(range(0, len(valid_accuracy_history)))\n",
    "\n",
    "plt.plot(train_accuracy_idx, train_accuracy_history, label=\"train_accuracy\")\n",
    "plt.plot(tvalid_accuracy_idx, valid_accuracy_history, label=\"valid_accuracy\")\n",
    "\n",
    "plt.xlabel(\"Epoch\")\n",
    "plt.ylabel(\"Accuracy\")\n",
    "\n",
    "plt.title(\"Accuracy changing\")\n",
    "\n",
    "plt.legend()\n",
    "plt.show()"
   ]
  },
  {
   "cell_type": "code",
   "execution_count": null,
   "id": "34f83a16",
   "metadata": {
    "papermill": {
     "duration": null,
     "end_time": null,
     "exception": null,
     "start_time": null,
     "status": "pending"
    },
    "tags": []
   },
   "outputs": [],
   "source": []
  }
 ],
 "metadata": {
  "kernelspec": {
   "display_name": "Python 3",
   "language": "python",
   "name": "python3"
  },
  "language_info": {
   "codemirror_mode": {
    "name": "ipython",
    "version": 3
   },
   "file_extension": ".py",
   "mimetype": "text/x-python",
   "name": "python",
   "nbconvert_exporter": "python",
   "pygments_lexer": "ipython3",
   "version": "3.7.12"
  },
  "papermill": {
   "default_parameters": {},
   "duration": 17087.469438,
   "end_time": "2022-04-30T14:47:16.223903",
   "environment_variables": {},
   "exception": true,
   "input_path": "__notebook__.ipynb",
   "output_path": "__notebook__.ipynb",
   "parameters": {},
   "start_time": "2022-04-30T10:02:28.754465",
   "version": "2.3.4"
  }
 },
 "nbformat": 4,
 "nbformat_minor": 5
}
