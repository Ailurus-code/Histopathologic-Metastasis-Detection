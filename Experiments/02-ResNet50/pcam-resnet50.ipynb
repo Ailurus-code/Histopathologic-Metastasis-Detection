{
 "cells": [
  {
   "cell_type": "code",
   "execution_count": 1,
   "id": "327e4c27",
   "metadata": {
    "_cell_guid": "b1076dfc-b9ad-4769-8c92-a6c4dae69d19",
    "_uuid": "8f2839f25d086af736a60e9eeb907d3b93b6e0e5",
    "execution": {
     "iopub.execute_input": "2022-05-09T09:03:36.149168Z",
     "iopub.status.busy": "2022-05-09T09:03:36.148541Z",
     "iopub.status.idle": "2022-05-09T09:03:37.842867Z",
     "shell.execute_reply": "2022-05-09T09:03:37.841988Z"
    },
    "papermill": {
     "duration": 1.711226,
     "end_time": "2022-05-09T09:03:37.845572",
     "exception": false,
     "start_time": "2022-05-09T09:03:36.134346",
     "status": "completed"
    },
    "tags": []
   },
   "outputs": [],
   "source": [
    "import numpy as np\n",
    "import pandas as pd\n",
    "import warnings\n",
    "import random\n",
    "import h5py\n",
    "import torch\n",
    "import matplotlib.pyplot as plt\n",
    "\n",
    "from matplotlib import pyplot\n",
    "from IPython.display import display\n",
    "from torch.utils.data import DataLoader, Dataset\n",
    "from torch.utils import data\n",
    "from PIL import Image, ImageDraw\n",
    "\n",
    "\n",
    "warnings.filterwarnings('ignore')\n",
    "\n",
    "%matplotlib inline\n",
    "\n",
    "SEED = 21\n",
    "random.seed(SEED)\n",
    "np.random.seed(SEED)"
   ]
  },
  {
   "cell_type": "code",
   "execution_count": 2,
   "id": "0abf6f81",
   "metadata": {
    "execution": {
     "iopub.execute_input": "2022-05-09T09:03:37.889076Z",
     "iopub.status.busy": "2022-05-09T09:03:37.888814Z",
     "iopub.status.idle": "2022-05-09T09:03:38.128369Z",
     "shell.execute_reply": "2022-05-09T09:03:38.127660Z"
    },
    "papermill": {
     "duration": 0.263654,
     "end_time": "2022-05-09T09:03:38.130761",
     "exception": false,
     "start_time": "2022-05-09T09:03:37.867107",
     "status": "completed"
    },
    "tags": []
   },
   "outputs": [
    {
     "name": "stdout",
     "output_type": "stream",
     "text": [
      "cuda\n"
     ]
    }
   ],
   "source": [
    "from torchvision import transforms\n",
    "\n",
    "device = (\"cuda\" if torch.cuda.is_available() else \"cpu\")\n",
    "learning_rate = 0.01\n",
    "image_size = 96\n",
    "\n",
    "train_transforms = transforms.Compose([\n",
    "    transforms.RandomChoice([\n",
    "        transforms.ColorJitter(brightness=0.5),\n",
    "        transforms.ColorJitter(contrast=0.5), \n",
    "        transforms.ColorJitter(saturation=0.5),\n",
    "        transforms.ColorJitter(hue=0.5),\n",
    "        transforms.ColorJitter(brightness=0.1, contrast=0.1, saturation=0.1, hue=0.1), \n",
    "        transforms.ColorJitter(brightness=0.3, contrast=0.3, saturation=0.3, hue=0.3), \n",
    "        transforms.ColorJitter(brightness=0.5, contrast=0.5, saturation=0.5, hue=0.5), \n",
    "    ]),\n",
    "    transforms.RandomChoice([\n",
    "        transforms.RandomRotation((0, 0)),\n",
    "        transforms.RandomHorizontalFlip(p=1),\n",
    "        transforms.RandomVerticalFlip(p=1),\n",
    "        transforms.RandomRotation((90,90)),\n",
    "        transforms.RandomRotation((180,180)),\n",
    "        transforms.RandomRotation((270,270)),\n",
    "        transforms.Compose([\n",
    "            transforms.RandomHorizontalFlip(p=1),\n",
    "            transforms.RandomRotation((90,90)),\n",
    "        ]),\n",
    "        transforms.Compose([\n",
    "            transforms.RandomHorizontalFlip(p=1),\n",
    "            transforms.RandomRotation((270,270)),\n",
    "        ]) \n",
    "    ]),\n",
    "    transforms.Resize(image_size), \n",
    "    transforms.CenterCrop(image_size),\n",
    "    transforms.ToTensor(),\n",
    "    transforms.Normalize(\n",
    "        mean=[0.485, 0.456, 0.406],\n",
    "        std=[0.229, 0.224, 0.225]\n",
    "    )\n",
    "])\n",
    "\n",
    "test_transforms = transforms.Compose([\n",
    "    transforms.ToTensor(),\n",
    "    transforms.Normalize((0.5, 0.5, 0.5), (0.5, 0.5, 0.5))\n",
    "])\n",
    "\n",
    "print(device)"
   ]
  },
  {
   "cell_type": "code",
   "execution_count": 3,
   "id": "6aa1d2c2",
   "metadata": {
    "execution": {
     "iopub.execute_input": "2022-05-09T09:03:38.156824Z",
     "iopub.status.busy": "2022-05-09T09:03:38.156124Z",
     "iopub.status.idle": "2022-05-09T09:03:38.160955Z",
     "shell.execute_reply": "2022-05-09T09:03:38.160162Z"
    },
    "papermill": {
     "duration": 0.020479,
     "end_time": "2022-05-09T09:03:38.163904",
     "exception": false,
     "start_time": "2022-05-09T09:03:38.143425",
     "status": "completed"
    },
    "tags": []
   },
   "outputs": [
    {
     "name": "stdout",
     "output_type": "stream",
     "text": [
      "cuDNN auto-tuner is enabled\n"
     ]
    }
   ],
   "source": [
    "if device == \"cuda\":\n",
    "    torch.backends.cudnn.benchmark = True\n",
    "    print(\"cuDNN auto-tuner is enabled\")"
   ]
  },
  {
   "cell_type": "code",
   "execution_count": 4,
   "id": "1b66bbb5",
   "metadata": {
    "execution": {
     "iopub.execute_input": "2022-05-09T09:03:38.190284Z",
     "iopub.status.busy": "2022-05-09T09:03:38.190089Z",
     "iopub.status.idle": "2022-05-09T09:03:38.197238Z",
     "shell.execute_reply": "2022-05-09T09:03:38.196623Z"
    },
    "papermill": {
     "duration": 0.021814,
     "end_time": "2022-05-09T09:03:38.198879",
     "exception": false,
     "start_time": "2022-05-09T09:03:38.177065",
     "status": "completed"
    },
    "tags": []
   },
   "outputs": [],
   "source": [
    "class PCamDataset(Dataset):\n",
    "    def __init__(self, path, transforms):\n",
    "        self.path = path\n",
    "        self.X = h5py.File(self.path +'_x.h5', 'r')['x']\n",
    "        self.y = h5py.File(self.path +'_y.h5', 'r')['y']\n",
    "        self.transforms = transforms\n",
    "\n",
    "    def __getitem__(self, index):\n",
    "        return (self.transforms(Image.fromarray(self.X[index,:,:,:])), self.y[index])\n",
    "\n",
    "    def __len__(self):\n",
    "        assert len(self.X) == len(self.y)\n",
    "        return len(self.X)"
   ]
  },
  {
   "cell_type": "code",
   "execution_count": 5,
   "id": "3306da1f",
   "metadata": {
    "execution": {
     "iopub.execute_input": "2022-05-09T09:03:38.224917Z",
     "iopub.status.busy": "2022-05-09T09:03:38.224721Z",
     "iopub.status.idle": "2022-05-09T09:03:38.284249Z",
     "shell.execute_reply": "2022-05-09T09:03:38.283292Z"
    },
    "papermill": {
     "duration": 0.074771,
     "end_time": "2022-05-09T09:03:38.285938",
     "exception": false,
     "start_time": "2022-05-09T09:03:38.211167",
     "status": "completed"
    },
    "tags": []
   },
   "outputs": [
    {
     "name": "stdout",
     "output_type": "stream",
     "text": [
      "262144 32768 32768\n"
     ]
    }
   ],
   "source": [
    "data_dir = \"../input/patchcamelyon/\"\n",
    "\n",
    "train = PCamDataset(data_dir + \"camelyonpatch_level_2_split_train\", train_transforms)\n",
    "valid = PCamDataset(data_dir + \"camelyonpatch_level_2_split_valid\", test_transforms)\n",
    "test = PCamDataset(data_dir + \"camelyonpatch_level_2_split_test\", test_transforms)\n",
    "\n",
    "print(len(train), len(valid), len(test))"
   ]
  },
  {
   "cell_type": "code",
   "execution_count": 6,
   "id": "18a37d37",
   "metadata": {
    "execution": {
     "iopub.execute_input": "2022-05-09T09:03:38.312649Z",
     "iopub.status.busy": "2022-05-09T09:03:38.311987Z",
     "iopub.status.idle": "2022-05-09T09:03:38.317868Z",
     "shell.execute_reply": "2022-05-09T09:03:38.317076Z"
    },
    "papermill": {
     "duration": 0.020871,
     "end_time": "2022-05-09T09:03:38.319552",
     "exception": false,
     "start_time": "2022-05-09T09:03:38.298681",
     "status": "completed"
    },
    "tags": []
   },
   "outputs": [],
   "source": [
    "train_loader = DataLoader(train, batch_size=8, shuffle=True, num_workers=0)\n",
    "valid_loader = DataLoader(valid, batch_size=8, shuffle=False, num_workers=0)\n",
    "test_loader = DataLoader(test, batch_size=8, shuffle=False, num_workers=0)"
   ]
  },
  {
   "cell_type": "code",
   "execution_count": 7,
   "id": "400648e4",
   "metadata": {
    "execution": {
     "iopub.execute_input": "2022-05-09T09:03:38.345859Z",
     "iopub.status.busy": "2022-05-09T09:03:38.345506Z",
     "iopub.status.idle": "2022-05-09T09:03:38.786757Z",
     "shell.execute_reply": "2022-05-09T09:03:38.786006Z"
    },
    "papermill": {
     "duration": 0.45665,
     "end_time": "2022-05-09T09:03:38.788777",
     "exception": false,
     "start_time": "2022-05-09T09:03:38.332127",
     "status": "completed"
    },
    "tags": []
   },
   "outputs": [],
   "source": [
    "import torchvision.models as models\n",
    "import torch.nn as nn\n",
    "\n",
    "resnet50 = models.resnet50(pretrained=False, progress=True)\n",
    "\n",
    "resnet50.fc = nn.Linear(2048, 1)"
   ]
  },
  {
   "cell_type": "code",
   "execution_count": 8,
   "id": "7979f121",
   "metadata": {
    "execution": {
     "iopub.execute_input": "2022-05-09T09:03:38.815932Z",
     "iopub.status.busy": "2022-05-09T09:03:38.815319Z",
     "iopub.status.idle": "2022-05-09T09:03:38.820799Z",
     "shell.execute_reply": "2022-05-09T09:03:38.819936Z"
    },
    "papermill": {
     "duration": 0.020673,
     "end_time": "2022-05-09T09:03:38.822484",
     "exception": false,
     "start_time": "2022-05-09T09:03:38.801811",
     "status": "completed"
    },
    "tags": []
   },
   "outputs": [],
   "source": [
    "import torch.optim as optim\n",
    "\n",
    "optimizer = optim.Adam(resnet50.parameters(), lr=learning_rate)\n",
    "criterion = nn.BCEWithLogitsLoss()"
   ]
  },
  {
   "cell_type": "code",
   "execution_count": 9,
   "id": "781ff23e",
   "metadata": {
    "execution": {
     "iopub.execute_input": "2022-05-09T09:03:38.849024Z",
     "iopub.status.busy": "2022-05-09T09:03:38.848630Z",
     "iopub.status.idle": "2022-05-09T15:22:59.118042Z",
     "shell.execute_reply": "2022-05-09T15:22:59.117122Z"
    },
    "papermill": {
     "duration": 22760.286902,
     "end_time": "2022-05-09T15:22:59.121863",
     "exception": false,
     "start_time": "2022-05-09T09:03:38.834961",
     "status": "completed"
    },
    "tags": []
   },
   "outputs": [
    {
     "name": "stdout",
     "output_type": "stream",
     "text": [
      "Train Epoch: 1, Loss: 0.657893180847168, Accuracy: 0.7398\n",
      "Valid Loss: 0.6545596122741699, Valid Accuracy: 0.7606\n",
      "ROC-AUC score = 0.8411326455132859\n",
      "Model saved successfully\n",
      "\n",
      "Train Epoch: 2, Loss: 0.6247121095657349, Accuracy: 0.805\n",
      "Valid Loss: 0.6346521377563477, Valid Accuracy: 0.7768\n",
      "ROC-AUC score = 0.8627606523079677\n",
      "Model saved successfully\n",
      "\n",
      "Train Epoch: 3, Loss: 0.6089495420455933, Accuracy: 0.8322\n",
      "Valid Loss: 0.6280766725540161, Valid Accuracy: 0.7958\n",
      "ROC-AUC score = 0.8880422760155503\n",
      "Model saved successfully\n",
      "\n",
      "Train Epoch: 4, Loss: 0.597528338432312, Accuracy: 0.8523\n",
      "Valid Loss: 0.6127530336380005, Valid Accuracy: 0.8168\n",
      "ROC-AUC score = 0.8990120134417081\n",
      "Model saved successfully\n",
      "\n",
      "Train Epoch: 5, Loss: 0.5907273292541504, Accuracy: 0.8634\n",
      "Valid Loss: 0.5988546013832092, Valid Accuracy: 0.8313\n",
      "ROC-AUC score = 0.9125069466012082\n",
      "Model saved successfully\n",
      "\n",
      "Train Epoch: 6, Loss: 0.585568904876709, Accuracy: 0.872\n",
      "Valid Loss: 0.602471113204956, Valid Accuracy: 0.8398\n",
      "ROC-AUC score = 0.9147692372019527\n",
      "Model saved successfully\n",
      "\n",
      "Train Epoch: 7, Loss: 0.5815963745117188, Accuracy: 0.8788\n",
      "Valid Loss: 0.5990561842918396, Valid Accuracy: 0.8308\n",
      "ROC-AUC score = 0.9114977702014085\n",
      "Train Epoch: 8, Loss: 0.5777913928031921, Accuracy: 0.885\n",
      "Valid Loss: 0.5813273787498474, Valid Accuracy: 0.8762\n",
      "ROC-AUC score = 0.9462838057944787\n",
      "Model saved successfully\n",
      "\n",
      "Train Epoch: 9, Loss: 0.5752678513526917, Accuracy: 0.8889\n",
      "Valid Loss: 0.5872838497161865, Valid Accuracy: 0.8379\n",
      "ROC-AUC score = 0.9267709796259941\n",
      "Train Epoch: 10, Loss: 0.5733307600021362, Accuracy: 0.8922\n",
      "Valid Loss: 0.5849107503890991, Valid Accuracy: 0.8622\n",
      "ROC-AUC score = 0.9318158353066555\n",
      "CPU times: user 4h 31min 7s, sys: 14min 44s, total: 4h 45min 51s\n",
      "Wall time: 6h 19min 20s\n"
     ]
    }
   ],
   "source": [
    "%%time\n",
    "\n",
    "from sklearn.metrics import roc_auc_score\n",
    "\n",
    "epochs = 10\n",
    "train_loss_history = np.empty(0)\n",
    "train_accuracy_history = np.empty(0)\n",
    "valid_loss_history = np.empty(0)\n",
    "valid_accuracy_history = np.empty(0)\n",
    "best_roc_auc = 0\n",
    "\n",
    "resnet50 = resnet50.to(device)\n",
    "\n",
    "resnet50.train()\n",
    "for epoch in range(epochs):\n",
    "    preds_in_current_epoch = torch.empty(0, device=device)\n",
    "    labels_in_current_epoch = torch.empty(0, device=device)\n",
    "    for batch_idx, (data, target) in enumerate(train_loader):\n",
    "        data, target = data.to(device), target.to(device)\n",
    "        target = torch.reshape(target, (8, 1)).float()\n",
    "        optimizer.zero_grad()\n",
    "        out = resnet50(data)\n",
    "        loss = criterion(out, target)\n",
    "        loss.backward()\n",
    "        optimizer.step()\n",
    "        preds_in_current_epoch = torch.cat((preds_in_current_epoch, torch.sigmoid(out)))\n",
    "        labels_in_current_epoch = torch.cat((labels_in_current_epoch, target))\n",
    "    \n",
    "    labels_in_current_epoch = torch.squeeze(labels_in_current_epoch)\n",
    "    total = len(labels_in_current_epoch)\n",
    "    preds_in_current_epoch = torch.squeeze(preds_in_current_epoch)\n",
    "    correct = ((preds_in_current_epoch > 0.5).float() == labels_in_current_epoch).sum().item()\n",
    "    loss = criterion(preds_in_current_epoch, labels_in_current_epoch)\n",
    "    accuracy = round(correct / total, 4)\n",
    "    \n",
    "    train_accuracy_history = np.append(train_accuracy_history, accuracy)\n",
    "    train_loss_history = np.append(train_loss_history, loss.cpu().detach().numpy())\n",
    "\n",
    "    print(f\"Train Epoch: {epoch + 1}, Loss: {loss}, Accuracy: {accuracy}\")\n",
    "    \n",
    "    valid_labels = (torch.squeeze(torch.as_tensor(valid.y))).to(device)\n",
    "\n",
    "    with torch.no_grad():\n",
    "        predictions = torch.Tensor().float().to(device)\n",
    "\n",
    "        for batch_idx, (data, target) in enumerate(valid_loader):\n",
    "            data, target = data.to(device), target.to(device)\n",
    "            target = torch.reshape(target, (8, 1)).float()\n",
    "            out = resnet50(data)\n",
    "            predictions = torch.cat((predictions, torch.sigmoid(out)))\n",
    "\n",
    "        total = valid_labels.shape[0]\n",
    "        predictions = torch.squeeze(predictions)\n",
    "        correct = ((predictions > 0.5).float() == valid_labels).sum().item()\n",
    "        loss = criterion(predictions, valid_labels.float())\n",
    "        accuracy = round(correct / total, 4)\n",
    "                                    \n",
    "        valid_accuracy_history = np.append(valid_accuracy_history, accuracy)\n",
    "        valid_loss_history = np.append(valid_loss_history, loss.cpu().detach().numpy())\n",
    "\n",
    "        print(f\"Valid Loss: {loss}, Valid Accuracy: {accuracy}\")\n",
    "        \n",
    "        current_roc_auc = roc_auc_score(valid_labels.cpu().detach().numpy(), predictions.cpu().detach().numpy())\n",
    "        print(f\"ROC-AUC score = {current_roc_auc}\")\n",
    "        if current_roc_auc > best_roc_auc:\n",
    "            torch.save(resnet50.state_dict(), \"best_checkpoint.pth\")\n",
    "            print(\"Model saved successfully\\n\")\n",
    "            best_roc_auc = current_roc_auc\n",
    "\n",
    "resnet50.eval()\n",
    "torch.save(resnet50.state_dict(), \"final_checkpoint.pth\")"
   ]
  },
  {
   "cell_type": "code",
   "execution_count": 10,
   "id": "4169e596",
   "metadata": {
    "execution": {
     "iopub.execute_input": "2022-05-09T15:22:59.169626Z",
     "iopub.status.busy": "2022-05-09T15:22:59.168804Z",
     "iopub.status.idle": "2022-05-09T15:23:59.158090Z",
     "shell.execute_reply": "2022-05-09T15:23:59.154182Z"
    },
    "papermill": {
     "duration": 60.03406,
     "end_time": "2022-05-09T15:23:59.179525",
     "exception": false,
     "start_time": "2022-05-09T15:22:59.145465",
     "status": "completed"
    },
    "tags": []
   },
   "outputs": [
    {
     "name": "stdout",
     "output_type": "stream",
     "text": [
      "Test Loss: 0.574356198310852\n",
      "Test Accuracy: 0.88126\n",
      "              precision    recall  f1-score   support\n",
      "\n",
      "           +       0.87      0.90      0.88     16391\n",
      "           -       0.90      0.86      0.88     16377\n",
      "\n",
      "    accuracy                           0.88     32768\n",
      "   macro avg       0.88      0.88      0.88     32768\n",
      "weighted avg       0.88      0.88      0.88     32768\n",
      "\n",
      "ROC-AUC = 0.881247724149892\n"
     ]
    }
   ],
   "source": [
    "from sklearn.metrics import classification_report\n",
    "\n",
    "classes = ['+', '-']\n",
    "test_labels = (torch.squeeze(torch.Tensor(test.y))).to(device)\n",
    "\n",
    "with torch.no_grad():\n",
    "    predictions = torch.empty(0, device=device)\n",
    "    \n",
    "    for batch_idx, (data, target) in enumerate(test_loader):\n",
    "        data, target = data.to(device), target.to(device)\n",
    "        target = torch.reshape(target, (8, 1)).float()\n",
    "        out = resnet50(data)\n",
    "        loss = criterion(out, target)\n",
    "        predictions = torch.cat((predictions, torch.sigmoid(out)))\n",
    "                                \n",
    "    total = test_labels.shape[0]\n",
    "    predictions = torch.squeeze(predictions)\n",
    "    correct = ((predictions > 0.5).float() == test_labels).sum().item()\n",
    "    loss = criterion(predictions, test_labels)\n",
    "    accuracy = round(correct / total, 5)\n",
    "                                \n",
    "    print(f\"Test Loss: {loss}\\nTest Accuracy: {accuracy}\")\n",
    "    \n",
    "    predictions = predictions.cpu().detach().numpy()\n",
    "    for i in range(len(predictions)):\n",
    "        predictions[i] = 1.0 if predictions[i] > 0.5 else 0.0\n",
    "    \n",
    "    print(classification_report(test_labels.cpu().detach().numpy(), \n",
    "                                predictions, \n",
    "                                target_names=classes))\n",
    "    print(f\"ROC-AUC = {roc_auc_score(test_labels.cpu().detach().numpy(), predictions)}\")"
   ]
  },
  {
   "cell_type": "code",
   "execution_count": 11,
   "id": "bf25441b",
   "metadata": {
    "execution": {
     "iopub.execute_input": "2022-05-09T15:23:59.227960Z",
     "iopub.status.busy": "2022-05-09T15:23:59.227473Z",
     "iopub.status.idle": "2022-05-09T15:23:59.492104Z",
     "shell.execute_reply": "2022-05-09T15:23:59.491434Z"
    },
    "papermill": {
     "duration": 0.290582,
     "end_time": "2022-05-09T15:23:59.493863",
     "exception": false,
     "start_time": "2022-05-09T15:23:59.203281",
     "status": "completed"
    },
    "tags": []
   },
   "outputs": [
    {
     "data": {
      "image/png": "[encoded data removed]",
      "text/plain": [
       "<Figure size 432x288 with 1 Axes>"
      ]
     },
     "metadata": {
      "needs_background": "light"
     },
     "output_type": "display_data"
    }
   ],
   "source": [
    "train_loss_idx = list(range(0, len(train_loss_history)))\n",
    "valid_loss_idx = list(range(0, len(valid_loss_history)))\n",
    "\n",
    "plt.plot(train_loss_idx, train_loss_history, label=\"train_loss\")\n",
    "plt.plot(valid_loss_idx, valid_loss_history, label=\"valid_loss\")\n",
    "\n",
    "plt.xlabel(\"Epoch\")\n",
    "plt.ylabel(\"Loss\")\n",
    "\n",
    "plt.title(\"Loss changing\")\n",
    "\n",
    "plt.legend()\n",
    "plt.show()"
   ]
  },
  {
   "cell_type": "code",
   "execution_count": 12,
   "id": "27893a3f",
   "metadata": {
    "execution": {
     "iopub.execute_input": "2022-05-09T15:23:59.546421Z",
     "iopub.status.busy": "2022-05-09T15:23:59.546027Z",
     "iopub.status.idle": "2022-05-09T15:23:59.740947Z",
     "shell.execute_reply": "2022-05-09T15:23:59.740262Z"
    },
    "papermill": {
     "duration": 0.223523,
     "end_time": "2022-05-09T15:23:59.742855",
     "exception": false,
     "start_time": "2022-05-09T15:23:59.519332",
     "status": "completed"
    },
    "tags": []
   },
   "outputs": [
    {
     "data": {
      "image/png": "[encoded data removed]",
      "text/plain": [
       "<Figure size 432x288 with 1 Axes>"
      ]
     },
     "metadata": {
      "needs_background": "light"
     },
     "output_type": "display_data"
    }
   ],
   "source": [
    "train_accuracy_idx = list(range(0, len(train_accuracy_history)))\n",
    "valid_accuracy_idx = list(range(0, len(valid_accuracy_history)))\n",
    "\n",
    "plt.plot(train_accuracy_idx, train_accuracy_history, label=\"train_accuracy\")\n",
    "plt.plot(valid_accuracy_idx, valid_accuracy_history, label=\"valid_accuracy\")\n",
    "\n",
    "plt.xlabel(\"Epoch\")\n",
    "plt.ylabel(\"Accuracy\")\n",
    "\n",
    "plt.title(\"Accuracy changing\")\n",
    "\n",
    "plt.legend()\n",
    "plt.show()"
   ]
  },
  {
   "cell_type": "code",
   "execution_count": null,
   "id": "3fa76960",
   "metadata": {
    "papermill": {
     "duration": 0.024475,
     "end_time": "2022-05-09T15:23:59.792164",
     "exception": false,
     "start_time": "2022-05-09T15:23:59.767689",
     "status": "completed"
    },
    "tags": []
   },
   "outputs": [],
   "source": []
  }
 ],
 "metadata": {
  "kernelspec": {
   "display_name": "Python 3",
   "language": "python",
   "name": "python3"
  },
  "language_info": {
   "codemirror_mode": {
    "name": "ipython",
    "version": 3
   },
   "file_extension": ".py",
   "mimetype": "text/x-python",
   "name": "python",
   "nbconvert_exporter": "python",
   "pygments_lexer": "ipython3",
   "version": "3.7.12"
  },
  "papermill": {
   "default_parameters": {},
   "duration": 22834.798565,
   "end_time": "2022-05-09T15:24:02.823976",
   "environment_variables": {},
   "exception": null,
   "input_path": "__notebook__.ipynb",
   "output_path": "__notebook__.ipynb",
   "parameters": {},
   "start_time": "2022-05-09T09:03:28.025411",
   "version": "2.3.4"
  }
 },
 "nbformat": 4,
 "nbformat_minor": 5
}
