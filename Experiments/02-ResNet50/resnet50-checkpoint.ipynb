{
 "cells": [
  {
   "cell_type": "code",
   "execution_count": 1,
   "id": "4b443538",
   "metadata": {
    "_cell_guid": "b1076dfc-b9ad-4769-8c92-a6c4dae69d19",
    "_uuid": "8f2839f25d086af736a60e9eeb907d3b93b6e0e5",
    "execution": {
     "iopub.execute_input": "2022-05-23T23:17:14.687082Z",
     "iopub.status.busy": "2022-05-23T23:17:14.685507Z",
     "iopub.status.idle": "2022-05-23T23:17:16.643142Z",
     "shell.execute_reply": "2022-05-23T23:17:16.643943Z",
     "shell.execute_reply.started": "2022-05-23T22:45:43.609987Z"
    },
    "papermill": {
     "duration": 1.972645,
     "end_time": "2022-05-23T23:17:16.644212",
     "exception": false,
     "start_time": "2022-05-23T23:17:14.671567",
     "status": "completed"
    },
    "tags": []
   },
   "outputs": [],
   "source": [
    "import numpy as np\n",
    "import pandas as pd\n",
    "import warnings\n",
    "import random\n",
    "import h5py\n",
    "import torch\n",
    "import matplotlib.pyplot as plt\n",
    "import torch.nn as nn\n",
    "\n",
    "from matplotlib import pyplot\n",
    "from IPython.display import display\n",
    "from torch.utils.data import DataLoader, Dataset\n",
    "from torch.utils import data\n",
    "from PIL import Image, ImageDraw\n",
    "\n",
    "\n",
    "warnings.filterwarnings('ignore')\n",
    "\n",
    "%matplotlib inline\n",
    "\n",
    "SEED = 21\n",
    "random.seed(SEED)\n",
    "np.random.seed(SEED)"
   ]
  },
  {
   "cell_type": "code",
   "execution_count": 2,
   "id": "0749aba4",
   "metadata": {
    "execution": {
     "iopub.execute_input": "2022-05-23T23:17:16.666961Z",
     "iopub.status.busy": "2022-05-23T23:17:16.665859Z",
     "iopub.status.idle": "2022-05-23T23:17:16.922793Z",
     "shell.execute_reply": "2022-05-23T23:17:16.923202Z",
     "shell.execute_reply.started": "2022-05-23T22:45:47.158682Z"
    },
    "papermill": {
     "duration": 0.270035,
     "end_time": "2022-05-23T23:17:16.923347",
     "exception": false,
     "start_time": "2022-05-23T23:17:16.653312",
     "status": "completed"
    },
    "tags": []
   },
   "outputs": [
    {
     "name": "stdout",
     "output_type": "stream",
     "text": [
      "cuda\n"
     ]
    }
   ],
   "source": [
    "from torchvision import transforms\n",
    "\n",
    "device = (\"cuda\" if torch.cuda.is_available() else \"cpu\")\n",
    "image_size = 96\n",
    "\n",
    "test_transforms = transforms.Compose([\n",
    "    transforms.ToTensor(),\n",
    "    transforms.Normalize((0.5, 0.5, 0.5), (0.5, 0.5, 0.5))\n",
    "])\n",
    "\n",
    "print(device)"
   ]
  },
  {
   "cell_type": "code",
   "execution_count": 3,
   "id": "6f68e258",
   "metadata": {
    "execution": {
     "iopub.execute_input": "2022-05-23T23:17:16.949028Z",
     "iopub.status.busy": "2022-05-23T23:17:16.948343Z",
     "iopub.status.idle": "2022-05-23T23:17:16.950403Z",
     "shell.execute_reply": "2022-05-23T23:17:16.950776Z",
     "shell.execute_reply.started": "2022-05-23T22:45:49.310448Z"
    },
    "papermill": {
     "duration": 0.018419,
     "end_time": "2022-05-23T23:17:16.950895",
     "exception": false,
     "start_time": "2022-05-23T23:17:16.932476",
     "status": "completed"
    },
    "tags": []
   },
   "outputs": [],
   "source": [
    "class PCamDataset(Dataset):\n",
    "    def __init__(self, path, transforms):\n",
    "        self.path = path\n",
    "        self.X = h5py.File(self.path +'_x.h5', 'r')['x']\n",
    "        self.y = h5py.File(self.path +'_y.h5', 'r')['y']\n",
    "        self.transforms = transforms\n",
    "\n",
    "    def __getitem__(self, index):\n",
    "        return (self.transforms(Image.fromarray(self.X[index,:,:,:])), self.y[index])\n",
    "\n",
    "    def __len__(self):\n",
    "        assert len(self.X) == len(self.y)\n",
    "        return len(self.X)"
   ]
  },
  {
   "cell_type": "code",
   "execution_count": 4,
   "id": "3ecfd6d9",
   "metadata": {
    "execution": {
     "iopub.execute_input": "2022-05-23T23:17:16.980440Z",
     "iopub.status.busy": "2022-05-23T23:17:16.979899Z",
     "iopub.status.idle": "2022-05-23T23:17:16.988650Z",
     "shell.execute_reply": "2022-05-23T23:17:16.988232Z",
     "shell.execute_reply.started": "2022-05-23T22:45:50.974383Z"
    },
    "papermill": {
     "duration": 0.029114,
     "end_time": "2022-05-23T23:17:16.988757",
     "exception": false,
     "start_time": "2022-05-23T23:17:16.959643",
     "status": "completed"
    },
    "tags": []
   },
   "outputs": [
    {
     "name": "stdout",
     "output_type": "stream",
     "text": [
      "32768\n"
     ]
    }
   ],
   "source": [
    "data_dir = \"../input/patchcamelyon/\"\n",
    "\n",
    "test = PCamDataset(data_dir + \"camelyonpatch_level_2_split_test\", test_transforms)\n",
    "\n",
    "print(len(test))"
   ]
  },
  {
   "cell_type": "code",
   "execution_count": 5,
   "id": "5d2eae69",
   "metadata": {
    "execution": {
     "iopub.execute_input": "2022-05-23T23:17:17.011265Z",
     "iopub.status.busy": "2022-05-23T23:17:17.010472Z",
     "iopub.status.idle": "2022-05-23T23:17:17.012402Z",
     "shell.execute_reply": "2022-05-23T23:17:17.012774Z",
     "shell.execute_reply.started": "2022-05-23T22:45:52.56674Z"
    },
    "papermill": {
     "duration": 0.015059,
     "end_time": "2022-05-23T23:17:17.012899",
     "exception": false,
     "start_time": "2022-05-23T23:17:16.997840",
     "status": "completed"
    },
    "tags": []
   },
   "outputs": [],
   "source": [
    "test_loader = DataLoader(test, batch_size=8, shuffle=False, num_workers=0)"
   ]
  },
  {
   "cell_type": "code",
   "execution_count": 6,
   "id": "14b7004a",
   "metadata": {
    "execution": {
     "iopub.execute_input": "2022-05-23T23:17:17.036571Z",
     "iopub.status.busy": "2022-05-23T23:17:17.036068Z",
     "iopub.status.idle": "2022-05-23T23:17:21.820706Z",
     "shell.execute_reply": "2022-05-23T23:17:21.821111Z",
     "shell.execute_reply.started": "2022-05-23T22:47:22.466067Z"
    },
    "papermill": {
     "duration": 4.799411,
     "end_time": "2022-05-23T23:17:21.821254",
     "exception": false,
     "start_time": "2022-05-23T23:17:17.021843",
     "status": "completed"
    },
    "tags": []
   },
   "outputs": [
    {
     "data": {
      "text/plain": [
       "<All keys matched successfully>"
      ]
     },
     "execution_count": 6,
     "metadata": {},
     "output_type": "execute_result"
    }
   ],
   "source": [
    "from torchvision import models\n",
    "from torch import nn\n",
    "model = models.resnet50()\n",
    "model.fc = nn.Linear(2048, 1)\n",
    "model.load_state_dict(torch.load(\"../input/resnet50checkpoint/best_roc_auc_resnet50.pth\"))"
   ]
  },
  {
   "cell_type": "code",
   "execution_count": 7,
   "id": "fa43eab4",
   "metadata": {
    "execution": {
     "iopub.execute_input": "2022-05-23T23:17:21.844327Z",
     "iopub.status.busy": "2022-05-23T23:17:21.843602Z",
     "iopub.status.idle": "2022-05-23T23:17:21.845965Z",
     "shell.execute_reply": "2022-05-23T23:17:21.845559Z",
     "shell.execute_reply.started": "2022-05-23T22:49:58.596971Z"
    },
    "papermill": {
     "duration": 0.015255,
     "end_time": "2022-05-23T23:17:21.846068",
     "exception": false,
     "start_time": "2022-05-23T23:17:21.830813",
     "status": "completed"
    },
    "tags": []
   },
   "outputs": [],
   "source": [
    "criterion = nn.BCEWithLogitsLoss()"
   ]
  },
  {
   "cell_type": "code",
   "execution_count": 8,
   "id": "a4de2b33",
   "metadata": {
    "execution": {
     "iopub.execute_input": "2022-05-23T23:17:21.869894Z",
     "iopub.status.busy": "2022-05-23T23:17:21.869297Z",
     "iopub.status.idle": "2022-05-23T23:17:21.871890Z",
     "shell.execute_reply": "2022-05-23T23:17:21.872271Z",
     "shell.execute_reply.started": "2022-05-23T22:50:00.69572Z"
    },
    "papermill": {
     "duration": 0.016973,
     "end_time": "2022-05-23T23:17:21.872395",
     "exception": false,
     "start_time": "2022-05-23T23:17:21.855422",
     "status": "completed"
    },
    "tags": []
   },
   "outputs": [
    {
     "name": "stdout",
     "output_type": "stream",
     "text": [
      "Total number of model parameters = 23510081\n"
     ]
    }
   ],
   "source": [
    "print(f\"Total number of model parameters = {sum(p.numel() for p in model.parameters() if p.requires_grad)}\")"
   ]
  },
  {
   "cell_type": "code",
   "execution_count": 9,
   "id": "e5e7856c",
   "metadata": {
    "execution": {
     "iopub.execute_input": "2022-05-23T23:17:21.901518Z",
     "iopub.status.busy": "2022-05-23T23:17:21.900600Z",
     "iopub.status.idle": "2022-05-23T23:18:35.569501Z",
     "shell.execute_reply": "2022-05-23T23:18:35.569962Z",
     "shell.execute_reply.started": "2022-05-23T22:50:04.266421Z"
    },
    "papermill": {
     "duration": 73.68807,
     "end_time": "2022-05-23T23:18:35.570116",
     "exception": false,
     "start_time": "2022-05-23T23:17:21.882046",
     "status": "completed"
    },
    "tags": []
   },
   "outputs": [
    {
     "name": "stdout",
     "output_type": "stream",
     "text": [
      "Test Loss: 0.5828986763954163\n",
      "Test Accuracy: 0.87045\n",
      "              precision    recall  f1-score   support\n",
      "\n",
      "           +       0.85      0.90      0.87     16391\n",
      "           -       0.89      0.84      0.87     16377\n",
      "\n",
      "    accuracy                           0.87     32768\n",
      "   macro avg       0.87      0.87      0.87     32768\n",
      "weighted avg       0.87      0.87      0.87     32768\n",
      "\n",
      "ROC-AUC = 0.870440170733513\n"
     ]
    }
   ],
   "source": [
    "from sklearn.metrics import classification_report\n",
    "from sklearn.metrics import roc_auc_score\n",
    "\n",
    "model = model.to(device)\n",
    "\n",
    "classes = ['+', '-']\n",
    "test_labels = (torch.squeeze(torch.Tensor(test.y))).to(device)\n",
    "\n",
    "with torch.no_grad():\n",
    "    predictions = torch.empty(0, device=device)\n",
    "    \n",
    "    for batch_idx, (data, target) in enumerate(test_loader):\n",
    "        data, target = data.to(device), target.to(device)\n",
    "        target = torch.reshape(target, (8, 1)).float()\n",
    "        out = model(data)\n",
    "        loss = criterion(out, target)\n",
    "        predictions = torch.cat((predictions, torch.sigmoid(out)))\n",
    "                                \n",
    "    total = test_labels.shape[0]\n",
    "    predictions = torch.squeeze(predictions)\n",
    "    correct = ((predictions > 0.5).float() == test_labels).sum().item()\n",
    "    loss = criterion(predictions, test_labels)\n",
    "    accuracy = round(correct / total, 5)\n",
    "                                \n",
    "    print(f\"Test Loss: {loss}\\nTest Accuracy: {accuracy}\")\n",
    "    \n",
    "    predictions = predictions.cpu().detach().numpy()\n",
    "    for i in range(len(predictions)):\n",
    "        predictions[i] = 1.0 if predictions[i] > 0.5 else 0.0\n",
    "    \n",
    "    print(classification_report(test_labels.cpu().detach().numpy(), \n",
    "                                predictions, \n",
    "                                target_names=classes))\n",
    "    print(f\"ROC-AUC = {roc_auc_score(test_labels.cpu().detach().numpy(), predictions)}\")"
   ]
  }
 ],
 "metadata": {
  "kernelspec": {
   "display_name": "Python 3",
   "language": "python",
   "name": "python3"
  },
  "language_info": {
   "codemirror_mode": {
    "name": "ipython",
    "version": 3
   },
   "file_extension": ".py",
   "mimetype": "text/x-python",
   "name": "python",
   "nbconvert_exporter": "python",
   "pygments_lexer": "ipython3",
   "version": "3.7.12"
  },
  "papermill": {
   "default_parameters": {},
   "duration": 91.508598,
   "end_time": "2022-05-23T23:18:37.716997",
   "environment_variables": {},
   "exception": null,
   "input_path": "__notebook__.ipynb",
   "output_path": "__notebook__.ipynb",
   "parameters": {},
   "start_time": "2022-05-23T23:17:06.208399",
   "version": "2.3.3"
  }
 },
 "nbformat": 4,
 "nbformat_minor": 5
}
